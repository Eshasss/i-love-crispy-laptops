{
 "cells": [
  {
   "cell_type": "code",
   "execution_count": 2,
   "metadata": {},
   "outputs": [],
   "source": [
    "import zipfile\n",
    "import pandas as pd\n",
    "\n",
    "import pymorphy3\n",
    "morph = pymorphy3.MorphAnalyzer()\n",
    "import random"
   ]
  },
  {
   "cell_type": "markdown",
   "metadata": {},
   "source": [
    "### Задание 1"
   ]
  },
  {
   "cell_type": "code",
   "execution_count": 3,
   "metadata": {},
   "outputs": [
    {
     "name": "stdout",
     "output_type": "stream",
     "text": [
      "Defaulting to user installation because normal site-packages is not writeableNote: you may need to restart the kernel to use updated packages.\n",
      "\n",
      "Requirement already satisfied: pymorphy3 in c:\\users\\janep\\appdata\\local\\packages\\pythonsoftwarefoundation.python.3.12_qbz5n2kfra8p0\\localcache\\local-packages\\python312\\site-packages (2.0.2)\n",
      "Requirement already satisfied: dawg-python>=0.7.1 in c:\\users\\janep\\appdata\\local\\packages\\pythonsoftwarefoundation.python.3.12_qbz5n2kfra8p0\\localcache\\local-packages\\python312\\site-packages (from pymorphy3) (0.7.2)\n",
      "Requirement already satisfied: pymorphy3-dicts-ru in c:\\users\\janep\\appdata\\local\\packages\\pythonsoftwarefoundation.python.3.12_qbz5n2kfra8p0\\localcache\\local-packages\\python312\\site-packages (from pymorphy3) (2.4.417150.4580142)\n",
      "Requirement already satisfied: setuptools>=68.2.2 in c:\\users\\janep\\appdata\\local\\packages\\pythonsoftwarefoundation.python.3.12_qbz5n2kfra8p0\\localcache\\local-packages\\python312\\site-packages (from pymorphy3) (75.1.0)\n"
     ]
    }
   ],
   "source": [
    "pip install pymorphy3"
   ]
  },
  {
   "cell_type": "code",
   "execution_count": 4,
   "metadata": {},
   "outputs": [],
   "source": [
    "df = pd.read_csv('word_forms.zip', compression='zip', header=0, sep='\\t',)"
   ]
  },
  {
   "cell_type": "code",
   "execution_count": 5,
   "metadata": {},
   "outputs": [
    {
     "data": {
      "text/plain": [
       "OpencorporaTag('NOUN,inan,neut sing,nomn')"
      ]
     },
     "execution_count": 5,
     "metadata": {},
     "output_type": "execute_result"
    }
   ],
   "source": [
    "def get_info(word: str):\n",
    "    return morph.parse(word)[0].tag\n",
    "\n",
    "get_info('дерево')\n",
    "     "
   ]
  },
  {
   "cell_type": "code",
   "execution_count": 6,
   "metadata": {},
   "outputs": [],
   "source": [
    "df['pos'] = df['1gram'].apply(lambda x: get_info(str(x))) # В датасете почему то были float..."
   ]
  },
  {
   "cell_type": "code",
   "execution_count": 7,
   "metadata": {},
   "outputs": [],
   "source": [
    "def sim_finder(word: str):\n",
    "    sims = df[df['pos']== get_info(word)]['1gram'].values\n",
    "    return sims[random.randrange(0, len(sims), 1)]"
   ]
  },
  {
   "cell_type": "code",
   "execution_count": 8,
   "metadata": {},
   "outputs": [],
   "source": [
    "def sen_maker(sentence: str):\n",
    "    sen_parsed = sentence.split(' ')\n",
    "    sen_return = []\n",
    "    for word in sen_parsed:\n",
    "        sen_return.append(sim_finder(word))\n",
    "    return sen_return"
   ]
  },
  {
   "cell_type": "code",
   "execution_count": 9,
   "metadata": {},
   "outputs": [
    {
     "name": "stdout",
     "output_type": "stream",
     "text": [
      "добрый дуб сказал привет и ушел в закат плакать\n",
      "необъятный оговор настряпал травертин ЧТОБ завертелся Для локоть силиться\n"
     ]
    }
   ],
   "source": [
    "sentence = input()\n",
    "print(sentence)\n",
    "print(*sen_maker(sentence))\n"
   ]
  },
  {
   "cell_type": "markdown",
   "metadata": {},
   "source": [
    "### Задание 2"
   ]
  },
  {
   "cell_type": "code",
   "execution_count": null,
   "metadata": {},
   "outputs": [],
   "source": [
    "def lg(x): # находит кол-во необходимых действий  \n",
    "    n = 0 \n",
    "    while x != 0: \n",
    "        x = x // 3 \n",
    "        n += 1 \n",
    "    return n \n",
    " \n",
    "def solver(l, r): \n",
    "    k1 = lg(l) \n",
    "    answer = k1 * 2 \n",
    "    l += 1 \n",
    "    print(answer)\n",
    "    while 3 ** k1 <= r: \n",
    "        answer += (3 ** (k1) - l) * k1 \n",
    "        l = 3 ** (k1) \n",
    "        k1 += 1 \n",
    "    print(answer) \n",
    "    answer += k1 * (r - l + 1) \n",
    "    return answer \n",
    " \n",
    " \n",
    "# это пока не работает а то что сверху работает\n",
    "def pre_processor(l, r): \n",
    "    answer = 0 \n",
    "    logs3 = [3 ** i for i in range(14)] \n",
    "    k = lg(l) \n",
    "    answer += k * 2 \n",
    "    print(answer) \n",
    "    for i in range(k+1, 14): \n",
    "        if logs3[i] > r: \n",
    "            break\n",
    "        else: \n",
    "            answer += (logs3[i] - logs3[i-1])*(i+1) \n",
    "\n",
    "    answer += (r - logs3[i-1] + 1) * (i) \n",
    "     \n",
    "    return answer \n",
    "     \n",
    "print(pre_processor(19, 84)) \n",
    "print('-------') \n",
    "print(solver(19, 84)) \n",
    " \n",
    "     \n",
    "print(pre_processor(0,3)) \n",
    "print(pre_processor(1,3)) \n",
    "print(pre_processor(2, 4)) \n",
    "print(pre_processor(1999999, 2000000)) \n",
    "\n",
    "\n"
   ]
  },
  {
   "cell_type": "markdown",
   "metadata": {},
   "source": [
    "### Задание 3"
   ]
  },
  {
   "cell_type": "code",
   "execution_count": null,
   "metadata": {},
   "outputs": [],
   "source": [
    "import re\n",
    "import inspect\n",
    "from typing import Callable\n",
    "\n",
    "\n",
    "find_print_pattern = r\"^(?P<indent>\\s*)print\\((?P<args_and_kwargs>.*?)\\)\\s*$\"\n",
    "find_func_pattern = r\"def.*\"\n",
    "\n",
    "class Logger:\n",
    "\n",
    "    log_levels = {'debug' : 1, 'info' : 2, 'warning' : 3, 'error' :4 }\n",
    "\n",
    "    def __init__(self, log_level: str = \"warning\") -> None:\n",
    "        self.dec_log_level = self.log_levels[log_level]\n",
    "\n",
    "\n",
    "    def log(self, log_level: str) -> Callable:\n",
    "        func_log_level = self.log_levels[log_level]\n",
    "        modified_code = \"\"\n",
    "        \n",
    "        def wrapper(func: Callable) -> Callable:\n",
    "            func_code = re.search(find_func_pattern, inspect.getsource(func), re.DOTALL).group(0)\n",
    "            matches = list(re.finditer(find_print_pattern, func_code, re.MULTILINE))\n",
    "\n",
    "            for match in matches:\n",
    "                indents = match.group('indent')\n",
    "                args_and_kwargs = match.group('args_and_kwargs')\n",
    "                if func_log_level < self.dec_log_level:\n",
    "                    repl = f\"{indents}print()\"\n",
    "                else:\n",
    "                    repl = f\"{indents}print(f'{log_level.upper()}: ', {args_and_kwargs})\"\n",
    "                func_code = func_code.replace(match.group(0), repl)\n",
    "            \n",
    "            exec_globals = func.__globals__.copy()\n",
    "            exec(func_code, exec_globals)\n",
    "            modified_func = exec_globals[func.__name__]\n",
    "\n",
    "            return modified_func\n",
    "        return wrapper\n",
    "\n",
    "\n",
    "logger = Logger(\"info\")\n",
    "\n",
    "@logger.log(\"warning\")\n",
    "def func1():\n",
    "    print(\"Hello from func1\")\n",
    "\n",
    "@logger.log(\"info\")\n",
    "def func2():\n",
    "    print(\"Hello from func2\")\n",
    "\n",
    "@logger.log(\"debug\")\n",
    "def func3():\n",
    "    print(\"Hello from func3\")\n",
    "\n",
    "@logger.log('warning')\n",
    "def func4():\n",
    "    print(\"fdfd\")\n",
    "    print(\"fdfdf\")\n",
    "func1()\n",
    "func2()\n",
    "func3()\n",
    "func4()\n"
   ]
  },
  {
   "cell_type": "markdown",
   "metadata": {},
   "source": []
  }
 ],
 "metadata": {
  "kernelspec": {
   "display_name": "Python 3",
   "language": "python",
   "name": "python3"
  },
  "language_info": {
   "codemirror_mode": {
    "name": "ipython",
    "version": 3
   },
   "file_extension": ".py",
   "mimetype": "text/x-python",
   "name": "python",
   "nbconvert_exporter": "python",
   "pygments_lexer": "ipython3",
   "version": "3.12.7"
  }
 },
 "nbformat": 4,
 "nbformat_minor": 2
}
