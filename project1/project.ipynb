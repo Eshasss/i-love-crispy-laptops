{
 "cells": [
  {
   "cell_type": "code",
   "execution_count": 1,
   "metadata": {},
   "outputs": [],
   "source": [
    "import pandas as pd"
   ]
  },
  {
   "cell_type": "code",
   "execution_count": 2,
   "metadata": {},
   "outputs": [
    {
     "name": "stderr",
     "output_type": "stream",
     "text": [
      "C:\\Users\\janep\\AppData\\Local\\Temp\\ipykernel_14528\\2805058282.py:1: DtypeWarning: Columns (29,48) have mixed types. Specify dtype option on import or set low_memory=False.\n",
      "  df = pd.read_csv('games_detailed_info.csv')\n"
     ]
    }
   ],
   "source": [
    "df = pd.read_csv('games_detailed_info.csv')"
   ]
  },
  {
   "cell_type": "code",
   "execution_count": null,
   "metadata": {},
   "outputs": [],
   "source": []
  },
  {
   "cell_type": "markdown",
   "metadata": {},
   "source": [
    "### 1. Pandas"
   ]
  },
  {
   "cell_type": "markdown",
   "metadata": {},
   "source": [
    "1. Проверить данные на наличие пропусков и заполнить их (обосновать выбор метода для заполнения)"
   ]
  },
  {
   "cell_type": "markdown",
   "metadata": {},
   "source": [
    "Смотрим сколько пропусках в колонках"
   ]
  },
  {
   "cell_type": "code",
   "execution_count": 13,
   "metadata": {},
   "outputs": [
    {
     "data": {
      "text/plain": [
       "Unnamed: 0                           0\n",
       "type                                 0\n",
       "id                                   0\n",
       "thumbnail                           15\n",
       "image                               15\n",
       "primary                              0\n",
       "alternate                        12781\n",
       "description                          1\n",
       "yearpublished                        0\n",
       "minplayers                           0\n",
       "maxplayers                           0\n",
       "suggested_num_players                0\n",
       "suggested_playerage                111\n",
       "suggested_language_dependence       72\n",
       "playingtime                          0\n",
       "minplaytime                          0\n",
       "maxplaytime                          0\n",
       "minage                               0\n",
       "boardgamecategory                  283\n",
       "boardgamemechanic                 1590\n",
       "boardgamefamily                   3761\n",
       "boardgameexpansion               16125\n",
       "boardgameimplementation          16769\n",
       "boardgamedesigner                  596\n",
       "boardgameartist                   5907\n",
       "boardgamepublisher                   1\n",
       "usersrated                           0\n",
       "average                              0\n",
       "bayesaverage                         0\n",
       "Board Game Rank                      0\n",
       "Strategy Game Rank               19294\n",
       "Family Game Rank                 19304\n",
       "stddev                               0\n",
       "median                               0\n",
       "owned                                0\n",
       "trading                              0\n",
       "wanting                              0\n",
       "wishing                              0\n",
       "numcomments                          0\n",
       "numweights                           0\n",
       "averageweight                        0\n",
       "boardgameintegration             19900\n",
       "boardgamecompilation             20804\n",
       "Party Game Rank                  20984\n",
       "Abstract Game Rank               20522\n",
       "Thematic Rank                    20396\n",
       "War Game Rank                    18130\n",
       "Customizable Rank                21330\n",
       "Children's Game Rank             20755\n",
       "RPG Item Rank                    21630\n",
       "Accessory Rank                   21630\n",
       "Video Game Rank                  21630\n",
       "Amiga Rank                       21630\n",
       "Commodore 64 Rank                21630\n",
       "Arcade Rank                      21630\n",
       "Atari ST Rank                    21630\n",
       "dtype: int64"
      ]
     },
     "execution_count": 13,
     "metadata": {},
     "output_type": "execute_result"
    }
   ],
   "source": [
    "df.isnull().sum()"
   ]
  },
  {
   "cell_type": "markdown",
   "metadata": {},
   "source": [
    "В некоторых колонках все строки NAN, поэтому дропаем их."
   ]
  },
  {
   "cell_type": "code",
   "execution_count": 19,
   "metadata": {},
   "outputs": [],
   "source": [
    "df = df.drop(columns=['RPG Item Rank', 'Accessory Rank', 'Video Game Rank', 'Amiga Rank', 'Commodore 64 Rank', 'Arcade Rank', 'Atari ST Rank'])"
   ]
  },
  {
   "cell_type": "code",
   "execution_count": 22,
   "metadata": {},
   "outputs": [
    {
     "data": {
      "text/html": [
       "<div>\n",
       "<style scoped>\n",
       "    .dataframe tbody tr th:only-of-type {\n",
       "        vertical-align: middle;\n",
       "    }\n",
       "\n",
       "    .dataframe tbody tr th {\n",
       "        vertical-align: top;\n",
       "    }\n",
       "\n",
       "    .dataframe thead th {\n",
       "        text-align: right;\n",
       "    }\n",
       "</style>\n",
       "<table border=\"1\" class=\"dataframe\">\n",
       "  <thead>\n",
       "    <tr style=\"text-align: right;\">\n",
       "      <th></th>\n",
       "      <th>Unnamed: 0</th>\n",
       "      <th>id</th>\n",
       "      <th>yearpublished</th>\n",
       "      <th>minplayers</th>\n",
       "      <th>maxplayers</th>\n",
       "      <th>playingtime</th>\n",
       "      <th>minplaytime</th>\n",
       "      <th>maxplaytime</th>\n",
       "      <th>minage</th>\n",
       "      <th>usersrated</th>\n",
       "      <th>...</th>\n",
       "      <th>wanting</th>\n",
       "      <th>wishing</th>\n",
       "      <th>numcomments</th>\n",
       "      <th>numweights</th>\n",
       "      <th>averageweight</th>\n",
       "      <th>Party Game Rank</th>\n",
       "      <th>Abstract Game Rank</th>\n",
       "      <th>Thematic Rank</th>\n",
       "      <th>War Game Rank</th>\n",
       "      <th>Customizable Rank</th>\n",
       "    </tr>\n",
       "  </thead>\n",
       "  <tbody>\n",
       "    <tr>\n",
       "      <th>count</th>\n",
       "      <td>21631.000000</td>\n",
       "      <td>21631.000000</td>\n",
       "      <td>21631.000000</td>\n",
       "      <td>21631.000000</td>\n",
       "      <td>21631.000000</td>\n",
       "      <td>21631.000000</td>\n",
       "      <td>21631.000000</td>\n",
       "      <td>21631.000000</td>\n",
       "      <td>21631.000000</td>\n",
       "      <td>21631.000000</td>\n",
       "      <td>...</td>\n",
       "      <td>21631.000000</td>\n",
       "      <td>21631.000000</td>\n",
       "      <td>21631.000000</td>\n",
       "      <td>21631.000000</td>\n",
       "      <td>21631.000000</td>\n",
       "      <td>647.000000</td>\n",
       "      <td>1109.000000</td>\n",
       "      <td>1235.000000</td>\n",
       "      <td>3501.000000</td>\n",
       "      <td>301.000000</td>\n",
       "    </tr>\n",
       "    <tr>\n",
       "      <th>mean</th>\n",
       "      <td>10815.000000</td>\n",
       "      <td>118133.093847</td>\n",
       "      <td>1986.094910</td>\n",
       "      <td>2.007027</td>\n",
       "      <td>5.709491</td>\n",
       "      <td>90.509177</td>\n",
       "      <td>63.647774</td>\n",
       "      <td>90.509177</td>\n",
       "      <td>9.611391</td>\n",
       "      <td>875.000693</td>\n",
       "      <td>...</td>\n",
       "      <td>42.030373</td>\n",
       "      <td>233.655587</td>\n",
       "      <td>213.221811</td>\n",
       "      <td>50.037030</td>\n",
       "      <td>1.978830</td>\n",
       "      <td>324.000000</td>\n",
       "      <td>558.882777</td>\n",
       "      <td>618.134413</td>\n",
       "      <td>1765.025421</td>\n",
       "      <td>151.405316</td>\n",
       "    </tr>\n",
       "    <tr>\n",
       "      <th>std</th>\n",
       "      <td>6244.476172</td>\n",
       "      <td>105310.419253</td>\n",
       "      <td>210.042496</td>\n",
       "      <td>0.688957</td>\n",
       "      <td>15.102385</td>\n",
       "      <td>534.826511</td>\n",
       "      <td>447.213702</td>\n",
       "      <td>534.826511</td>\n",
       "      <td>3.640562</td>\n",
       "      <td>3697.681390</td>\n",
       "      <td>...</td>\n",
       "      <td>117.940355</td>\n",
       "      <td>800.657809</td>\n",
       "      <td>674.130830</td>\n",
       "      <td>207.654901</td>\n",
       "      <td>0.848984</td>\n",
       "      <td>186.917094</td>\n",
       "      <td>324.292355</td>\n",
       "      <td>356.859805</td>\n",
       "      <td>1025.206714</td>\n",
       "      <td>87.555326</td>\n",
       "    </tr>\n",
       "    <tr>\n",
       "      <th>min</th>\n",
       "      <td>0.000000</td>\n",
       "      <td>1.000000</td>\n",
       "      <td>-3500.000000</td>\n",
       "      <td>0.000000</td>\n",
       "      <td>0.000000</td>\n",
       "      <td>0.000000</td>\n",
       "      <td>0.000000</td>\n",
       "      <td>0.000000</td>\n",
       "      <td>0.000000</td>\n",
       "      <td>29.000000</td>\n",
       "      <td>...</td>\n",
       "      <td>0.000000</td>\n",
       "      <td>0.000000</td>\n",
       "      <td>1.000000</td>\n",
       "      <td>0.000000</td>\n",
       "      <td>0.000000</td>\n",
       "      <td>1.000000</td>\n",
       "      <td>1.000000</td>\n",
       "      <td>1.000000</td>\n",
       "      <td>1.000000</td>\n",
       "      <td>1.000000</td>\n",
       "    </tr>\n",
       "    <tr>\n",
       "      <th>25%</th>\n",
       "      <td>5407.500000</td>\n",
       "      <td>12280.500000</td>\n",
       "      <td>2001.000000</td>\n",
       "      <td>2.000000</td>\n",
       "      <td>4.000000</td>\n",
       "      <td>25.000000</td>\n",
       "      <td>20.000000</td>\n",
       "      <td>25.000000</td>\n",
       "      <td>8.000000</td>\n",
       "      <td>57.000000</td>\n",
       "      <td>...</td>\n",
       "      <td>3.000000</td>\n",
       "      <td>14.000000</td>\n",
       "      <td>24.000000</td>\n",
       "      <td>4.000000</td>\n",
       "      <td>1.333300</td>\n",
       "      <td>162.500000</td>\n",
       "      <td>278.000000</td>\n",
       "      <td>309.500000</td>\n",
       "      <td>876.000000</td>\n",
       "      <td>76.000000</td>\n",
       "    </tr>\n",
       "    <tr>\n",
       "      <th>50%</th>\n",
       "      <td>10815.000000</td>\n",
       "      <td>105187.000000</td>\n",
       "      <td>2011.000000</td>\n",
       "      <td>2.000000</td>\n",
       "      <td>4.000000</td>\n",
       "      <td>45.000000</td>\n",
       "      <td>30.000000</td>\n",
       "      <td>45.000000</td>\n",
       "      <td>10.000000</td>\n",
       "      <td>124.000000</td>\n",
       "      <td>...</td>\n",
       "      <td>9.000000</td>\n",
       "      <td>39.000000</td>\n",
       "      <td>51.000000</td>\n",
       "      <td>9.000000</td>\n",
       "      <td>1.952400</td>\n",
       "      <td>324.000000</td>\n",
       "      <td>556.000000</td>\n",
       "      <td>618.000000</td>\n",
       "      <td>1758.000000</td>\n",
       "      <td>151.000000</td>\n",
       "    </tr>\n",
       "    <tr>\n",
       "      <th>75%</th>\n",
       "      <td>16222.500000</td>\n",
       "      <td>207013.000000</td>\n",
       "      <td>2017.000000</td>\n",
       "      <td>2.000000</td>\n",
       "      <td>6.000000</td>\n",
       "      <td>90.000000</td>\n",
       "      <td>60.000000</td>\n",
       "      <td>90.000000</td>\n",
       "      <td>12.000000</td>\n",
       "      <td>397.000000</td>\n",
       "      <td>...</td>\n",
       "      <td>29.000000</td>\n",
       "      <td>131.000000</td>\n",
       "      <td>138.000000</td>\n",
       "      <td>26.000000</td>\n",
       "      <td>2.520000</td>\n",
       "      <td>485.500000</td>\n",
       "      <td>841.000000</td>\n",
       "      <td>926.500000</td>\n",
       "      <td>2652.000000</td>\n",
       "      <td>227.000000</td>\n",
       "    </tr>\n",
       "    <tr>\n",
       "      <th>max</th>\n",
       "      <td>21630.000000</td>\n",
       "      <td>350992.000000</td>\n",
       "      <td>2023.000000</td>\n",
       "      <td>10.000000</td>\n",
       "      <td>999.000000</td>\n",
       "      <td>60000.000000</td>\n",
       "      <td>60000.000000</td>\n",
       "      <td>60000.000000</td>\n",
       "      <td>25.000000</td>\n",
       "      <td>109006.000000</td>\n",
       "      <td>...</td>\n",
       "      <td>2011.000000</td>\n",
       "      <td>19325.000000</td>\n",
       "      <td>19402.000000</td>\n",
       "      <td>7690.000000</td>\n",
       "      <td>5.000000</td>\n",
       "      <td>647.000000</td>\n",
       "      <td>1120.000000</td>\n",
       "      <td>1236.000000</td>\n",
       "      <td>3546.000000</td>\n",
       "      <td>303.000000</td>\n",
       "    </tr>\n",
       "  </tbody>\n",
       "</table>\n",
       "<p>8 rows × 28 columns</p>\n",
       "</div>"
      ],
      "text/plain": [
       "         Unnamed: 0             id  yearpublished    minplayers    maxplayers  \\\n",
       "count  21631.000000   21631.000000   21631.000000  21631.000000  21631.000000   \n",
       "mean   10815.000000  118133.093847    1986.094910      2.007027      5.709491   \n",
       "std     6244.476172  105310.419253     210.042496      0.688957     15.102385   \n",
       "min        0.000000       1.000000   -3500.000000      0.000000      0.000000   \n",
       "25%     5407.500000   12280.500000    2001.000000      2.000000      4.000000   \n",
       "50%    10815.000000  105187.000000    2011.000000      2.000000      4.000000   \n",
       "75%    16222.500000  207013.000000    2017.000000      2.000000      6.000000   \n",
       "max    21630.000000  350992.000000    2023.000000     10.000000    999.000000   \n",
       "\n",
       "        playingtime   minplaytime   maxplaytime        minage     usersrated  \\\n",
       "count  21631.000000  21631.000000  21631.000000  21631.000000   21631.000000   \n",
       "mean      90.509177     63.647774     90.509177      9.611391     875.000693   \n",
       "std      534.826511    447.213702    534.826511      3.640562    3697.681390   \n",
       "min        0.000000      0.000000      0.000000      0.000000      29.000000   \n",
       "25%       25.000000     20.000000     25.000000      8.000000      57.000000   \n",
       "50%       45.000000     30.000000     45.000000     10.000000     124.000000   \n",
       "75%       90.000000     60.000000     90.000000     12.000000     397.000000   \n",
       "max    60000.000000  60000.000000  60000.000000     25.000000  109006.000000   \n",
       "\n",
       "       ...       wanting       wishing   numcomments    numweights  \\\n",
       "count  ...  21631.000000  21631.000000  21631.000000  21631.000000   \n",
       "mean   ...     42.030373    233.655587    213.221811     50.037030   \n",
       "std    ...    117.940355    800.657809    674.130830    207.654901   \n",
       "min    ...      0.000000      0.000000      1.000000      0.000000   \n",
       "25%    ...      3.000000     14.000000     24.000000      4.000000   \n",
       "50%    ...      9.000000     39.000000     51.000000      9.000000   \n",
       "75%    ...     29.000000    131.000000    138.000000     26.000000   \n",
       "max    ...   2011.000000  19325.000000  19402.000000   7690.000000   \n",
       "\n",
       "       averageweight  Party Game Rank  Abstract Game Rank  Thematic Rank  \\\n",
       "count   21631.000000       647.000000         1109.000000    1235.000000   \n",
       "mean        1.978830       324.000000          558.882777     618.134413   \n",
       "std         0.848984       186.917094          324.292355     356.859805   \n",
       "min         0.000000         1.000000            1.000000       1.000000   \n",
       "25%         1.333300       162.500000          278.000000     309.500000   \n",
       "50%         1.952400       324.000000          556.000000     618.000000   \n",
       "75%         2.520000       485.500000          841.000000     926.500000   \n",
       "max         5.000000       647.000000         1120.000000    1236.000000   \n",
       "\n",
       "       War Game Rank  Customizable Rank  \n",
       "count    3501.000000         301.000000  \n",
       "mean     1765.025421         151.405316  \n",
       "std      1025.206714          87.555326  \n",
       "min         1.000000           1.000000  \n",
       "25%       876.000000          76.000000  \n",
       "50%      1758.000000         151.000000  \n",
       "75%      2652.000000         227.000000  \n",
       "max      3546.000000         303.000000  \n",
       "\n",
       "[8 rows x 28 columns]"
      ]
     },
     "execution_count": 22,
     "metadata": {},
     "output_type": "execute_result"
    }
   ],
   "source": [
    "df.describe()"
   ]
  },
  {
   "cell_type": "markdown",
   "metadata": {},
   "source": [
    "2. Проверить данные на наличие выбросов (аномально высоких или низких значений) и устранить выбросы при наличии (обосновать метод для обнаружения выбросов)."
   ]
  },
  {
   "cell_type": "markdown",
   "metadata": {},
   "source": [
    "3. Произвести фильтрацию.\n",
    "Вы хотите сравнить количество сериалов с одним, двумя-тремя и четырьмя+ сезонами, отвечая на исследовательский вопрос о том, каких типов сериалов больше."
   ]
  },
  {
   "cell_type": "markdown",
   "metadata": {},
   "source": [
    "4. Произвести группировку.\n",
    "Вы группируете сериалы по оценкам и смотрите на их количество, чтобы подтвердить гипотезу о том, что люди в среднем ставят больше всего оценок \"хорошо\"."
   ]
  },
  {
   "cell_type": "markdown",
   "metadata": {},
   "source": [
    "5. Проанализировать строковые данные.\n",
    "Вы хотите посмотреть, зависит ли оценка сериала от длины его названия."
   ]
  },
  {
   "cell_type": "markdown",
   "metadata": {},
   "source": [
    "6. Проанализировать временные данные.\n",
    "Правда ли, что большинство телевизионных сериалов выходит по выходным?"
   ]
  },
  {
   "cell_type": "markdown",
   "metadata": {},
   "source": [
    "### 2. Визуализация"
   ]
  },
  {
   "cell_type": "markdown",
   "metadata": {},
   "source": [
    "1. Линейный (plot) или точечный (scatter) график.\n",
    "Один или больше."
   ]
  },
  {
   "cell_type": "markdown",
   "metadata": {},
   "source": [
    "2. Столбчатые (bar) диаграммы.\n",
    "Две или больше."
   ]
  },
  {
   "cell_type": "markdown",
   "metadata": {},
   "source": [
    "3. Круговая (pie) диаграмма.\n",
    "Одна или больше."
   ]
  },
  {
   "cell_type": "markdown",
   "metadata": {},
   "source": [
    "4. Гистограмма (displot / histplot от seaborn или hist от matplotlib).\n",
    "Одна или больше."
   ]
  },
  {
   "cell_type": "markdown",
   "metadata": {},
   "source": [
    "5. Хитмэп (heatmap).\n",
    "Один или больше."
   ]
  },
  {
   "cell_type": "markdown",
   "metadata": {},
   "source": [
    "6. Облако слов.\n",
    "Два или больше."
   ]
  }
 ],
 "metadata": {
  "kernelspec": {
   "display_name": "Python 3",
   "language": "python",
   "name": "python3"
  },
  "language_info": {
   "codemirror_mode": {
    "name": "ipython",
    "version": 3
   },
   "file_extension": ".py",
   "mimetype": "text/x-python",
   "name": "python",
   "nbconvert_exporter": "python",
   "pygments_lexer": "ipython3",
   "version": "3.12.7"
  }
 },
 "nbformat": 4,
 "nbformat_minor": 2
}
