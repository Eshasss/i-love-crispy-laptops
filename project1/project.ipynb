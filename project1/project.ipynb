{
  "cells": [
    {
      "cell_type": "code",
      "execution_count": 88,
      "metadata": {
        "id": "Vq2yKEAaIYNE"
      },
      "outputs": [],
      "source": [
        "import pandas as pd\n",
        "import seaborn as sns\n",
        "import matplotlib\n",
        "import matplotlib.pyplot as plt\n",
        "import json\n",
        "from collections import OrderedDict\n",
        "import collections\n",
        "import ast"
      ]
    },
    {
      "cell_type": "code",
      "execution_count": 89,
      "metadata": {
        "id": "qT6qI_NwYoC7"
      },
      "outputs": [],
      "source": [
        "# sns.set_palette(\"pastel\")"
      ]
    },
    {
      "cell_type": "code",
      "execution_count": 90,
      "metadata": {
        "colab": {
          "base_uri": "https://localhost:8080/",
          "height": 304
        },
        "collapsed": true,
        "id": "_NVWKj9pIYNF",
        "outputId": "a31d2777-7654-4fad-d439-93fa27d6c190"
      },
      "outputs": [
        {
          "name": "stderr",
          "output_type": "stream",
          "text": [
            "C:\\Users\\janep\\AppData\\Local\\Temp\\ipykernel_8840\\137549627.py:1: DtypeWarning: Columns (29,48) have mixed types. Specify dtype option on import or set low_memory=False.\n",
            "  df = pd.read_csv('games_detailed_info.csv', index_col=0)\n"
          ]
        }
      ],
      "source": [
        "df = pd.read_csv('games_detailed_info.csv', index_col=0)"
      ]
    },
    {
      "cell_type": "code",
      "execution_count": 91,
      "metadata": {
        "colab": {
          "base_uri": "https://localhost:8080/",
          "height": 0
        },
        "id": "A6OybL-fQkva",
        "outputId": "ac41ae2d-14f3-4702-8170-1d7b0c09bcdb"
      },
      "outputs": [
        {
          "data": {
            "text/plain": [
              "55"
            ]
          },
          "execution_count": 91,
          "metadata": {},
          "output_type": "execute_result"
        }
      ],
      "source": [
        "len(df.columns)"
      ]
    },
    {
      "cell_type": "markdown",
      "metadata": {
        "id": "g_4aDWR8IYNG"
      },
      "source": [
        "### 1. Pandas"
      ]
    },
    {
      "cell_type": "markdown",
      "metadata": {
        "id": "mMP2NN28IYNH"
      },
      "source": [
        "1. Проверить данные на наличие пропусков и заполнить их (обосновать выбор метода для заполнения)"
      ]
    },
    {
      "cell_type": "markdown",
      "metadata": {
        "id": "eZqgOgBSIYNH"
      },
      "source": [
        "Смотрим сколько пропусках в колонках"
      ]
    },
    {
      "cell_type": "code",
      "execution_count": 92,
      "metadata": {},
      "outputs": [],
      "source": [
        "df.fillna(\n",
        "    {\n",
        "        \"boardgameartist\": \"['Anonymous Artists']\"\n",
        "\n",
        "    },\n",
        "    inplace=True,\n",
        ")"
      ]
    },
    {
      "cell_type": "code",
      "execution_count": 93,
      "metadata": {
        "colab": {
          "base_uri": "https://localhost:8080/",
          "height": 1809
        },
        "collapsed": true,
        "id": "WtehdB37IYNH",
        "outputId": "5085fac6-b428-42dd-9fe1-77d7fc71bf4c"
      },
      "outputs": [
        {
          "data": {
            "text/plain": [
              "type                                 0\n",
              "id                                   0\n",
              "thumbnail                           15\n",
              "image                               15\n",
              "primary                              0\n",
              "alternate                        12781\n",
              "description                          1\n",
              "yearpublished                        0\n",
              "minplayers                           0\n",
              "maxplayers                           0\n",
              "suggested_num_players                0\n",
              "suggested_playerage                111\n",
              "suggested_language_dependence       72\n",
              "playingtime                          0\n",
              "minplaytime                          0\n",
              "maxplaytime                          0\n",
              "minage                               0\n",
              "boardgamecategory                  283\n",
              "boardgamemechanic                 1590\n",
              "boardgamefamily                   3761\n",
              "boardgameexpansion               16125\n",
              "boardgameimplementation          16769\n",
              "boardgamedesigner                  596\n",
              "boardgameartist                      0\n",
              "boardgamepublisher                   1\n",
              "usersrated                           0\n",
              "average                              0\n",
              "bayesaverage                         0\n",
              "Board Game Rank                      0\n",
              "Strategy Game Rank               19294\n",
              "Family Game Rank                 19304\n",
              "stddev                               0\n",
              "median                               0\n",
              "owned                                0\n",
              "trading                              0\n",
              "wanting                              0\n",
              "wishing                              0\n",
              "numcomments                          0\n",
              "numweights                           0\n",
              "averageweight                        0\n",
              "boardgameintegration             19900\n",
              "boardgamecompilation             20804\n",
              "Party Game Rank                  20984\n",
              "Abstract Game Rank               20522\n",
              "Thematic Rank                    20396\n",
              "War Game Rank                    18130\n",
              "Customizable Rank                21330\n",
              "Children's Game Rank             20755\n",
              "RPG Item Rank                    21630\n",
              "Accessory Rank                   21630\n",
              "Video Game Rank                  21630\n",
              "Amiga Rank                       21630\n",
              "Commodore 64 Rank                21630\n",
              "Arcade Rank                      21630\n",
              "Atari ST Rank                    21630\n",
              "dtype: int64"
            ]
          },
          "execution_count": 93,
          "metadata": {},
          "output_type": "execute_result"
        }
      ],
      "source": [
        "df.isnull().sum()"
      ]
    },
    {
      "cell_type": "markdown",
      "metadata": {
        "id": "kfS48wTHIYNI"
      },
      "source": [
        "В некоторых колонках более 50% данных NAN, поэтому дропаем их."
      ]
    },
    {
      "cell_type": "code",
      "execution_count": 94,
      "metadata": {
        "id": "J4mxzT33O1sM"
      },
      "outputs": [],
      "source": [
        "perc = df.isnull().sum()/len(df)\n",
        "df = df.drop(perc[perc>=0.5].keys(), axis=1)"
      ]
    },
    {
      "cell_type": "code",
      "execution_count": 95,
      "metadata": {},
      "outputs": [
        {
          "data": {
            "text/plain": [
              "Index(['type', 'id', 'thumbnail', 'image', 'primary', 'description',\n",
              "       'yearpublished', 'minplayers', 'maxplayers', 'suggested_num_players',\n",
              "       'suggested_playerage', 'suggested_language_dependence', 'playingtime',\n",
              "       'minplaytime', 'maxplaytime', 'minage', 'boardgamecategory',\n",
              "       'boardgamemechanic', 'boardgamefamily', 'boardgamedesigner',\n",
              "       'boardgameartist', 'boardgamepublisher', 'usersrated', 'average',\n",
              "       'bayesaverage', 'Board Game Rank', 'stddev', 'median', 'owned',\n",
              "       'trading', 'wanting', 'wishing', 'numcomments', 'numweights',\n",
              "       'averageweight'],\n",
              "      dtype='object')"
            ]
          },
          "execution_count": 95,
          "metadata": {},
          "output_type": "execute_result"
        }
      ],
      "source": [
        "df.columns"
      ]
    },
    {
      "cell_type": "markdown",
      "metadata": {
        "id": "nhemTKeG_RsH"
      },
      "source": [
        "Также некоторые колонки содержат непонятно что и в названии и по описанию на kaggle"
      ]
    },
    {
      "cell_type": "code",
      "execution_count": 96,
      "metadata": {
        "id": "fc2p1mFQdMaZ"
      },
      "outputs": [],
      "source": [
        "df = df.drop(['boardgamefamily','average','bayesaverage','stddev','median', 'numweights','averageweight'], axis=1)"
      ]
    },
    {
      "cell_type": "code",
      "execution_count": 97,
      "metadata": {
        "id": "cpRegUBZSFSB"
      },
      "outputs": [
        {
          "data": {
            "text/plain": [
              "28"
            ]
          },
          "execution_count": 97,
          "metadata": {},
          "output_type": "execute_result"
        }
      ],
      "source": [
        "len(df.columns)"
      ]
    },
    {
      "cell_type": "markdown",
      "metadata": {
        "id": "L6_c4g4iIYNI"
      },
      "source": [
        "2. Проверить данные на наличие выбросов (аномально высоких или низких значений) и устранить выбросы при наличии (обосновать метод для обнаружения выбросов)."
      ]
    },
    {
      "cell_type": "code",
      "execution_count": 98,
      "metadata": {},
      "outputs": [
        {
          "name": "stderr",
          "output_type": "stream",
          "text": [
            "C:\\Users\\janep\\AppData\\Local\\Temp\\ipykernel_8840\\1371009609.py:3: FutureWarning: \n",
            "\n",
            "Passing `palette` without assigning `hue` is deprecated and will be removed in v0.14.0. Assign the `y` variable to `hue` and set `legend=False` for the same effect.\n",
            "\n",
            "  sns.boxplot(x=df['usersrated'], data=df,  palette=\"vlag\")\n",
            "C:\\Users\\janep\\AppData\\Local\\Temp\\ipykernel_8840\\1371009609.py:13: UserWarning: No artists with labels found to put in legend.  Note that artists whose label start with an underscore are ignored when legend() is called with no argument.\n",
            "  plt.legend(fontsize=12)\n"
          ]
        },
        {
          "data": {
            "image/png": "[encoded data removed]",
            "text/plain": [
              "<Figure size 700x500 with 1 Axes>"
            ]
          },
          "metadata": {},
          "output_type": "display_data"
        }
      ],
      "source": [
        "plt.figure(figsize=(7, 5))\n",
        "\n",
        "sns.boxplot(x=df['usersrated'], data=df,  palette=\"vlag\")\n",
        "\n",
        "plt.title('Зависимость времени игры от возраста', fontsize=16)\n",
        "plt.xlabel('Минимальный возраст', fontsize=14)\n",
        "plt.ylabel('Максимальное время игры', fontsize=14)\n",
        "\n",
        "\n",
        "plt.xticks(fontsize=12)\n",
        "plt.yticks(fontsize=12)\n",
        "\n",
        "plt.legend(fontsize=12)\n",
        "\n",
        "\n",
        "plt.grid(True)\n",
        "plt.tight_layout()\n",
        "plt.show()"
      ]
    },
    {
      "cell_type": "markdown",
      "metadata": {
        "id": "7UUeCy3uIYNI"
      },
      "source": [
        "3. Произвести фильтрацию.\n",
        "Вы хотите сравнить количество сериалов с одним, двумя-тремя и четырьмя+ сезонами, отвечая на исследовательский вопрос о том, каких типов сериалов больше.\n",
        "\n",
        "**Вопрос**: У какого количества различных геймд-художников наибольшее количество игровых механик\n",
        "\n",
        "**Ответ**: У одиноких.\n",
        "\n"
      ]
    },
    {
      "cell_type": "code",
      "execution_count": 99,
      "metadata": {},
      "outputs": [
        {
          "data": {
            "text/plain": [
              "artists_count\n",
              "1      9539\n",
              "2      3463\n",
              "3      1385\n",
              "4       534\n",
              "5       296\n",
              "6       158\n",
              "7        67\n",
              "8        50\n",
              "9        43\n",
              "10       26\n",
              "11       23\n",
              "12       23\n",
              "17       10\n",
              "13       10\n",
              "15        9\n",
              "16        8\n",
              "14        8\n",
              "21        7\n",
              "25        4\n",
              "49        3\n",
              "22        3\n",
              "29        3\n",
              "38        3\n",
              "18        3\n",
              "24        3\n",
              "26        2\n",
              "53        2\n",
              "47        2\n",
              "61        2\n",
              "33        2\n",
              "55        2\n",
              "23        2\n",
              "48        2\n",
              "19        2\n",
              "32        2\n",
              "69        2\n",
              "509       1\n",
              "31        1\n",
              "86        1\n",
              "41        1\n",
              "28        1\n",
              "145       1\n",
              "45        1\n",
              "37        1\n",
              "57        1\n",
              "43        1\n",
              "20        1\n",
              "85        1\n",
              "122       1\n",
              "35        1\n",
              "27        1\n",
              "66        1\n",
              "34        1\n",
              "84        1\n",
              "67        1\n",
              "110       1\n",
              "103       1\n",
              "Name: count, dtype: int64"
            ]
          },
          "execution_count": 99,
          "metadata": {},
          "output_type": "execute_result"
        }
      ],
      "source": [
        "df['boardgameartist'] = [ast.literal_eval(i) for i in df['boardgameartist']]  # Переводим из строки в массив\n",
        "df['artists_count'] = df['boardgameartist'].transform(len)  # Создаем дополнительную колонку с количество художников\n",
        "df.loc[~df['boardgameartist'].isin([['Anonymous Artists']])]['artists_count'].value_counts() # Убираем анонимусов"
      ]
    },
    {
      "cell_type": "markdown",
      "metadata": {
        "id": "1B9M5-24IYNJ"
      },
      "source": [
        "4. Произвести группировку.\n",
        "Вы группируете сериалы по оценкам и смотрите на их количество, чтобы подтвердить гипотезу о том, что люди в среднем ставят больше всего оценок \"хорошо\".\n",
        "\n",
        "**Гипотеза**: Чем ниже минимальный возраст, тем меньше максимальное количество игроков\n",
        "\n",
        "**Ответ**:"
      ]
    },
    {
      "cell_type": "code",
      "execution_count": 110,
      "metadata": {},
      "outputs": [
        {
          "data": {
            "text/plain": [
              "<pandas.core.groupby.generic.DataFrameGroupBy object at 0x000002E114A68560>"
            ]
          },
          "execution_count": 110,
          "metadata": {},
          "output_type": "execute_result"
        }
      ],
      "source": [
        "df.groupby('minage')"
      ]
    },
    {
      "cell_type": "markdown",
      "metadata": {
        "id": "freRptNDIYNJ"
      },
      "source": [
        "5. Проанализировать строковые данные.\n",
        "Вы хотите посмотреть, зависит ли оценка сериала от длины его названия."
      ]
    },
    {
      "cell_type": "code",
      "execution_count": 103,
      "metadata": {
        "colab": {
          "base_uri": "https://localhost:8080/",
          "height": 424
        },
        "id": "WUJPM_yXOylR",
        "outputId": "2ebf144e-0b70-40d1-f1d2-7202acc85460"
      },
      "outputs": [
        {
          "data": {
            "text/html": [
              "<div>\n",
              "<style scoped>\n",
              "    .dataframe tbody tr th:only-of-type {\n",
              "        vertical-align: middle;\n",
              "    }\n",
              "\n",
              "    .dataframe tbody tr th {\n",
              "        vertical-align: top;\n",
              "    }\n",
              "\n",
              "    .dataframe thead th {\n",
              "        text-align: right;\n",
              "    }\n",
              "</style>\n",
              "<table border=\"1\" class=\"dataframe\">\n",
              "  <thead>\n",
              "    <tr style=\"text-align: right;\">\n",
              "      <th></th>\n",
              "      <th>descriptionlength</th>\n",
              "      <th>wanting</th>\n",
              "    </tr>\n",
              "  </thead>\n",
              "  <tbody>\n",
              "    <tr>\n",
              "      <th>8170</th>\n",
              "      <td>49.0</td>\n",
              "      <td>3</td>\n",
              "    </tr>\n",
              "    <tr>\n",
              "      <th>10143</th>\n",
              "      <td>50.0</td>\n",
              "      <td>4</td>\n",
              "    </tr>\n",
              "    <tr>\n",
              "      <th>20793</th>\n",
              "      <td>57.0</td>\n",
              "      <td>0</td>\n",
              "    </tr>\n",
              "    <tr>\n",
              "      <th>6871</th>\n",
              "      <td>60.0</td>\n",
              "      <td>4</td>\n",
              "    </tr>\n",
              "    <tr>\n",
              "      <th>14350</th>\n",
              "      <td>64.0</td>\n",
              "      <td>5</td>\n",
              "    </tr>\n",
              "    <tr>\n",
              "      <th>...</th>\n",
              "      <td>...</td>\n",
              "      <td>...</td>\n",
              "    </tr>\n",
              "    <tr>\n",
              "      <th>16347</th>\n",
              "      <td>11708.0</td>\n",
              "      <td>5</td>\n",
              "    </tr>\n",
              "    <tr>\n",
              "      <th>311</th>\n",
              "      <td>13163.0</td>\n",
              "      <td>348</td>\n",
              "    </tr>\n",
              "    <tr>\n",
              "      <th>18960</th>\n",
              "      <td>15551.0</td>\n",
              "      <td>0</td>\n",
              "    </tr>\n",
              "    <tr>\n",
              "      <th>21627</th>\n",
              "      <td>16144.0</td>\n",
              "      <td>6</td>\n",
              "    </tr>\n",
              "    <tr>\n",
              "      <th>15338</th>\n",
              "      <td>NaN</td>\n",
              "      <td>6</td>\n",
              "    </tr>\n",
              "  </tbody>\n",
              "</table>\n",
              "<p>21631 rows × 2 columns</p>\n",
              "</div>"
            ],
            "text/plain": [
              "       descriptionlength  wanting\n",
              "8170                49.0        3\n",
              "10143               50.0        4\n",
              "20793               57.0        0\n",
              "6871                60.0        4\n",
              "14350               64.0        5\n",
              "...                  ...      ...\n",
              "16347            11708.0        5\n",
              "311              13163.0      348\n",
              "18960            15551.0        0\n",
              "21627            16144.0        6\n",
              "15338                NaN        6\n",
              "\n",
              "[21631 rows x 2 columns]"
            ]
          },
          "execution_count": 103,
          "metadata": {},
          "output_type": "execute_result"
        }
      ],
      "source": [
        "\n",
        "df.sort_values(['descriptionlength'])[['descriptionlength','wanting']]"
      ]
    },
    {
      "cell_type": "code",
      "execution_count": 104,
      "metadata": {
        "colab": {
          "base_uri": "https://localhost:8080/",
          "height": 176
        },
        "id": "4Tcn_-XxSZyj",
        "outputId": "4f531ff5-c9fc-4dc0-f470-9fde20c45f63"
      },
      "outputs": [
        {
          "ename": "NameError",
          "evalue": "name '_df_4' is not defined",
          "output_type": "error",
          "traceback": [
            "\u001b[1;31m---------------------------------------------------------------------------\u001b[0m",
            "\u001b[1;31mNameError\u001b[0m                                 Traceback (most recent call last)",
            "Cell \u001b[1;32mIn[104], line 2\u001b[0m\n\u001b[0;32m      1\u001b[0m \u001b[38;5;28;01mfrom\u001b[39;00m \u001b[38;5;21;01mmatplotlib\u001b[39;00m \u001b[38;5;28;01mimport\u001b[39;00m pyplot \u001b[38;5;28;01mas\u001b[39;00m plt\n\u001b[1;32m----> 2\u001b[0m \u001b[43m_df_4\u001b[49m\u001b[38;5;241m.\u001b[39mplot(kind\u001b[38;5;241m=\u001b[39m\u001b[38;5;124m'\u001b[39m\u001b[38;5;124mscatter\u001b[39m\u001b[38;5;124m'\u001b[39m, x\u001b[38;5;241m=\u001b[39m\u001b[38;5;124m'\u001b[39m\u001b[38;5;124mdescriptionlength\u001b[39m\u001b[38;5;124m'\u001b[39m, y\u001b[38;5;241m=\u001b[39m\u001b[38;5;124m'\u001b[39m\u001b[38;5;124mwanting\u001b[39m\u001b[38;5;124m'\u001b[39m, s\u001b[38;5;241m=\u001b[39m\u001b[38;5;241m32\u001b[39m, alpha\u001b[38;5;241m=\u001b[39m\u001b[38;5;241m.8\u001b[39m)\n\u001b[0;32m      3\u001b[0m plt\u001b[38;5;241m.\u001b[39mgca()\u001b[38;5;241m.\u001b[39mspines[[\u001b[38;5;124m'\u001b[39m\u001b[38;5;124mtop\u001b[39m\u001b[38;5;124m'\u001b[39m, \u001b[38;5;124m'\u001b[39m\u001b[38;5;124mright\u001b[39m\u001b[38;5;124m'\u001b[39m,]]\u001b[38;5;241m.\u001b[39mset_visible(\u001b[38;5;28;01mFalse\u001b[39;00m)\n",
            "\u001b[1;31mNameError\u001b[0m: name '_df_4' is not defined"
          ]
        }
      ],
      "source": [
        "from matplotlib import pyplot as plt\n",
        "_df_4.plot(kind='scatter', x='descriptionlength', y='wanting', s=32, alpha=.8)\n",
        "plt.gca().spines[['top', 'right',]].set_visible(False)"
      ]
    },
    {
      "cell_type": "markdown",
      "metadata": {
        "id": "8MIMsdXPIYNJ"
      },
      "source": [
        "6. Проанализировать временные данные.\n",
        "Правда ли, что большинство телевизионных сериалов выходит по выходным?"
      ]
    },
    {
      "cell_type": "code",
      "execution_count": 18,
      "metadata": {
        "colab": {
          "base_uri": "https://localhost:8080/",
          "height": 458
        },
        "collapsed": true,
        "id": "VJSqktKPNfr_",
        "outputId": "bcff1847-fa54-4caf-9304-406fad32fb66"
      },
      "outputs": [
        {
          "data": {
            "text/html": [
              "<div>\n",
              "<style scoped>\n",
              "    .dataframe tbody tr th:only-of-type {\n",
              "        vertical-align: middle;\n",
              "    }\n",
              "\n",
              "    .dataframe tbody tr th {\n",
              "        vertical-align: top;\n",
              "    }\n",
              "\n",
              "    .dataframe thead th {\n",
              "        text-align: right;\n",
              "    }\n",
              "</style>\n",
              "<table border=\"1\" class=\"dataframe\">\n",
              "  <thead>\n",
              "    <tr style=\"text-align: right;\">\n",
              "      <th></th>\n",
              "      <th>yearpublished</th>\n",
              "    </tr>\n",
              "  </thead>\n",
              "  <tbody>\n",
              "    <tr>\n",
              "      <th>0</th>\n",
              "      <td>1970-01-01 00:00:00.000002008</td>\n",
              "    </tr>\n",
              "    <tr>\n",
              "      <th>1</th>\n",
              "      <td>1970-01-01 00:00:00.000002000</td>\n",
              "    </tr>\n",
              "    <tr>\n",
              "      <th>2</th>\n",
              "      <td>1970-01-01 00:00:00.000001995</td>\n",
              "    </tr>\n",
              "    <tr>\n",
              "      <th>3</th>\n",
              "      <td>1970-01-01 00:00:00.000002010</td>\n",
              "    </tr>\n",
              "    <tr>\n",
              "      <th>4</th>\n",
              "      <td>1970-01-01 00:00:00.000002008</td>\n",
              "    </tr>\n",
              "    <tr>\n",
              "      <th>...</th>\n",
              "      <td>...</td>\n",
              "    </tr>\n",
              "    <tr>\n",
              "      <th>21626</th>\n",
              "      <td>1970-01-01 00:00:00.000002020</td>\n",
              "    </tr>\n",
              "    <tr>\n",
              "      <th>21627</th>\n",
              "      <td>1970-01-01 00:00:00.000002016</td>\n",
              "    </tr>\n",
              "    <tr>\n",
              "      <th>21628</th>\n",
              "      <td>1970-01-01 00:00:00.000001970</td>\n",
              "    </tr>\n",
              "    <tr>\n",
              "      <th>21629</th>\n",
              "      <td>1970-01-01 00:00:00.000001989</td>\n",
              "    </tr>\n",
              "    <tr>\n",
              "      <th>21630</th>\n",
              "      <td>1970-01-01 00:00:00.000002015</td>\n",
              "    </tr>\n",
              "  </tbody>\n",
              "</table>\n",
              "<p>21631 rows × 1 columns</p>\n",
              "</div><br><label><b>dtype:</b> datetime64[ns]</label>"
            ],
            "text/plain": [
              "0       1970-01-01 00:00:00.000002008\n",
              "1       1970-01-01 00:00:00.000002000\n",
              "2       1970-01-01 00:00:00.000001995\n",
              "3       1970-01-01 00:00:00.000002010\n",
              "4       1970-01-01 00:00:00.000002008\n",
              "                     ...             \n",
              "21626   1970-01-01 00:00:00.000002020\n",
              "21627   1970-01-01 00:00:00.000002016\n",
              "21628   1970-01-01 00:00:00.000001970\n",
              "21629   1970-01-01 00:00:00.000001989\n",
              "21630   1970-01-01 00:00:00.000002015\n",
              "Name: yearpublished, Length: 21631, dtype: datetime64[ns]"
            ]
          },
          "execution_count": 18,
          "metadata": {},
          "output_type": "execute_result"
        }
      ],
      "source": [
        "pd.to_datetime(df['yearpublished'])"
      ]
    },
    {
      "cell_type": "code",
      "execution_count": 19,
      "metadata": {
        "colab": {
          "base_uri": "https://localhost:8080/",
          "height": 490
        },
        "id": "1DbaFLFwNzOP",
        "outputId": "a7ab8432-956b-4edd-dafa-68a86613f2d7"
      },
      "outputs": [
        {
          "data": {
            "text/html": [
              "<div>\n",
              "<style scoped>\n",
              "    .dataframe tbody tr th:only-of-type {\n",
              "        vertical-align: middle;\n",
              "    }\n",
              "\n",
              "    .dataframe tbody tr th {\n",
              "        vertical-align: top;\n",
              "    }\n",
              "\n",
              "    .dataframe thead th {\n",
              "        text-align: right;\n",
              "    }\n",
              "</style>\n",
              "<table border=\"1\" class=\"dataframe\">\n",
              "  <thead>\n",
              "    <tr style=\"text-align: right;\">\n",
              "      <th></th>\n",
              "      <th>count</th>\n",
              "    </tr>\n",
              "    <tr>\n",
              "      <th>yearpublished</th>\n",
              "      <th></th>\n",
              "    </tr>\n",
              "  </thead>\n",
              "  <tbody>\n",
              "    <tr>\n",
              "      <th>2017</th>\n",
              "      <td>1325</td>\n",
              "    </tr>\n",
              "    <tr>\n",
              "      <th>2018</th>\n",
              "      <td>1321</td>\n",
              "    </tr>\n",
              "    <tr>\n",
              "      <th>2016</th>\n",
              "      <td>1291</td>\n",
              "    </tr>\n",
              "    <tr>\n",
              "      <th>2019</th>\n",
              "      <td>1258</td>\n",
              "    </tr>\n",
              "    <tr>\n",
              "      <th>2015</th>\n",
              "      <td>1147</td>\n",
              "    </tr>\n",
              "    <tr>\n",
              "      <th>...</th>\n",
              "      <td>...</td>\n",
              "    </tr>\n",
              "    <tr>\n",
              "      <th>1687</th>\n",
              "      <td>1</td>\n",
              "    </tr>\n",
              "    <tr>\n",
              "      <th>1150</th>\n",
              "      <td>1</td>\n",
              "    </tr>\n",
              "    <tr>\n",
              "      <th>1630</th>\n",
              "      <td>1</td>\n",
              "    </tr>\n",
              "    <tr>\n",
              "      <th>1861</th>\n",
              "      <td>1</td>\n",
              "    </tr>\n",
              "    <tr>\n",
              "      <th>1897</th>\n",
              "      <td>1</td>\n",
              "    </tr>\n",
              "  </tbody>\n",
              "</table>\n",
              "<p>190 rows × 1 columns</p>\n",
              "</div><br><label><b>dtype:</b> int64</label>"
            ],
            "text/plain": [
              "yearpublished\n",
              "2017    1325\n",
              "2018    1321\n",
              "2016    1291\n",
              "2019    1258\n",
              "2015    1147\n",
              "        ... \n",
              "1687       1\n",
              "1150       1\n",
              "1630       1\n",
              "1861       1\n",
              "1897       1\n",
              "Name: count, Length: 190, dtype: int64"
            ]
          },
          "execution_count": 19,
          "metadata": {},
          "output_type": "execute_result"
        }
      ],
      "source": [
        "df['yearpublished'].value_counts() # Расцвет настолок  2015-2019 года"
      ]
    },
    {
      "cell_type": "markdown",
      "metadata": {
        "id": "9_Zu6rQrIYNJ"
      },
      "source": [
        "### 2. Визуализация"
      ]
    },
    {
      "cell_type": "markdown",
      "metadata": {
        "id": "WAImsKKbIYNJ"
      },
      "source": [
        "1. Линейный (plot) или точечный (scatter) график.\n",
        "Один или больше."
      ]
    },
    {
      "cell_type": "code",
      "execution_count": 35,
      "metadata": {},
      "outputs": [
        {
          "data": {
            "text/plain": [
              "6731"
            ]
          },
          "execution_count": 35,
          "metadata": {},
          "output_type": "execute_result"
        }
      ],
      "source": [
        "len(df['boardgamecategory'].unique())"
      ]
    },
    {
      "cell_type": "code",
      "execution_count": 37,
      "metadata": {},
      "outputs": [
        {
          "data": {
            "text/plain": [
              "Index(['type', 'id', 'thumbnail', 'image', 'primary', 'description',\n",
              "       'yearpublished', 'minplayers', 'maxplayers', 'suggested_num_players',\n",
              "       'suggested_playerage', 'suggested_language_dependence', 'playingtime',\n",
              "       'minplaytime', 'maxplaytime', 'minage', 'boardgamecategory',\n",
              "       'boardgamemechanic', 'boardgamedesigner', 'boardgameartist',\n",
              "       'boardgamepublisher', 'usersrated', 'Board Game Rank', 'owned',\n",
              "       'trading', 'wanting', 'wishing', 'numcomments'],\n",
              "      dtype='object')"
            ]
          },
          "execution_count": 37,
          "metadata": {},
          "output_type": "execute_result"
        }
      ],
      "source": [
        "df.columns"
      ]
    },
    {
      "cell_type": "markdown",
      "metadata": {},
      "source": []
    },
    {
      "cell_type": "markdown",
      "metadata": {
        "id": "WNvuJwqrIYNJ"
      },
      "source": [
        "2. Столбчатые (bar) диаграммы.\n",
        "Две или больше."
      ]
    },
    {
      "cell_type": "markdown",
      "metadata": {
        "id": "8ewxepZ_IYNJ"
      },
      "source": [
        "3. Круговая (pie) диаграмма.\n",
        "Одна или больше."
      ]
    },
    {
      "cell_type": "markdown",
      "metadata": {
        "id": "hrwA_1EPIYNK"
      },
      "source": [
        "4. Гистограмма (displot / histplot от seaborn или hist от matplotlib).\n",
        "Одна или больше."
      ]
    },
    {
      "cell_type": "code",
      "execution_count": 20,
      "metadata": {
        "colab": {
          "base_uri": "https://localhost:8080/",
          "height": 544
        },
        "id": "Lv3bPsNHTzsA",
        "outputId": "193f3e8a-3ece-4f8b-a29f-cd9874e73650"
      },
      "outputs": [
        {
          "name": "stderr",
          "output_type": "stream",
          "text": [
            "WARNING:matplotlib.legend:No artists with labels found to put in legend.  Note that artists whose label start with an underscore are ignored when legend() is called with no argument.\n"
          ]
        },
        {
          "data": {
            "image/png": "[encoded data removed]",
            "text/plain": [
              "<Figure size 700x500 with 1 Axes>"
            ]
          },
          "metadata": {},
          "output_type": "display_data"
        }
      ],
      "source": [
        "hyp1 = df[['maxplaytime', 'minage']]\n",
        "\n",
        "plt.figure(figsize=(7, 5))\n",
        "\n",
        "sns.scatterplot(x=\"minage\", y=\"maxplaytime\", data=hyp1)\n",
        "\n",
        "plt.title('Зависимость времени игры от возраста', fontsize=16)\n",
        "plt.xlabel('Минимальный возраст', fontsize=14)\n",
        "plt.ylabel('Максимальное время игры', fontsize=14)\n",
        "\n",
        "\n",
        "plt.xticks(fontsize=12)\n",
        "plt.yticks(fontsize=12)\n",
        "\n",
        "plt.legend(fontsize=12)\n",
        "\n",
        "\n",
        "plt.grid(True)\n",
        "plt.tight_layout()\n",
        "plt.show()"
      ]
    },
    {
      "cell_type": "markdown",
      "metadata": {
        "id": "BnZgSAhWIYNK"
      },
      "source": [
        "5. Хитмэп (heatmap).\n",
        "Один или больше."
      ]
    },
    {
      "cell_type": "markdown",
      "metadata": {
        "id": "6ixNfOizIYNK"
      },
      "source": [
        "6. Облако слов.\n",
        "Два или больше."
      ]
    },
    {
      "cell_type": "code",
      "execution_count": null,
      "metadata": {
        "id": "c2NCzviCVMdS"
      },
      "outputs": [],
      "source": [
        "df['suggested_language_dependence'].eval()"
      ]
    },
    {
      "cell_type": "code",
      "execution_count": null,
      "metadata": {
        "id": "mlVF1H9RVZYb"
      },
      "outputs": [],
      "source": [
        "hyp1 = df[['maxplaytime', 'minage']]\n",
        "\n",
        "plt.figure(figsize=(7, 5))\n",
        "\n",
        "sns.stripplot(x=\"minage\", y=\"maxplaytime\", data=hyp1)\n",
        "\n",
        "plt.title('Зависимость времени игры от возраста', fontsize=16)\n",
        "plt.xlabel('Минимальный возраст', fontsize=14)\n",
        "plt.ylabel('Максимальное время игры', fontsize=14)\n",
        "\n",
        "\n",
        "plt.xticks(fontsize=12)\n",
        "plt.yticks(fontsize=12)\n",
        "\n",
        "plt.legend(fontsize=12)\n",
        "\n",
        "\n",
        "plt.grid(True)\n",
        "plt.tight_layout()\n",
        "plt.show()"
      ]
    }
  ],
  "metadata": {
    "colab": {
      "provenance": []
    },
    "kernelspec": {
      "display_name": "Python 3",
      "language": "python",
      "name": "python3"
    },
    "language_info": {
      "codemirror_mode": {
        "name": "ipython",
        "version": 3
      },
      "file_extension": ".py",
      "mimetype": "text/x-python",
      "name": "python",
      "nbconvert_exporter": "python",
      "pygments_lexer": "ipython3",
      "version": "3.12.7"
    }
  },
  "nbformat": 4,
  "nbformat_minor": 0
}
