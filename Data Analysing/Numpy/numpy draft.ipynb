{
  "cells": [
    {
      "cell_type": "code",
      "execution_count": 1,
      "id": "d5c7a868",
      "metadata": {
        "id": "d5c7a868",
        "run_control": {
          "frozen": false,
          "read_only": false
        }
      },
      "outputs": [],
      "source": [
        "import numpy as np"
      ]
    },
    {
      "cell_type": "markdown",
      "id": "c26daf4d",
      "metadata": {
        "id": "c26daf4d",
        "run_control": {
          "frozen": false,
          "read_only": false
        }
      },
      "source": [
        "### Задачи 1-6 (13 баллов).\n",
        "\n",
        "Для каждой из задач ниже приведите 2 реализации: одна без использования numpy, а вторая полностью векторизованная (**без использования циклов/map/list comprehension**). "
      ]
    },
    {
      "cell_type": "markdown",
      "id": "deb0135f",
      "metadata": {},
      "source": [
        "* __Задача 1__: Посчитать  сумму неотрицательных элементов на диагонали прямоугольной матрицы X. Если неотрицательных элементов на диагонали нет, то вернуть -1.\n",
        "\n",
        "  **Пример:**\n",
        "  \n",
        "      Input: X = np.array([[-1, 0, 1], [2, 0, 2], [3, 0, 3], [4, 4, 4]])\n",
        "      Output: 3"
      ]
    },
    {
      "cell_type": "code",
      "execution_count": 2,
      "id": "37422421",
      "metadata": {},
      "outputs": [
        {
          "name": "stdout",
          "output_type": "stream",
          "text": [
            "3\n"
          ]
        }
      ],
      "source": [
        "# 1.1\n",
        "\n",
        "X = [[-1, 0, 1], [2, 0, 2], [3, 0, 3], [4, 4, 4]]\n",
        "def diagonal_py(X: list, ans = 0) -> int:\n",
        "    i = len(X)\n",
        "    j = len(X[0])\n",
        "    if i > j:\n",
        "        i, j = j, i\n",
        "    for i in range(len(X[0])):\n",
        "            if X[i][i] >=0:\n",
        "                ans += X[i][i]\n",
        "    return ans\n",
        "print(diagonal_py(X))"
      ]
    },
    {
      "cell_type": "code",
      "execution_count": 3,
      "id": "fcc099f9",
      "metadata": {},
      "outputs": [],
      "source": [
        "# 1.2\n",
        "\n",
        "X = np.array([[-1, 0, 1], [2, 0, 2], [3, 0, 3], [4, 4, 4]])\n",
        "def diafonal_np(X: list) -> int:\n",
        "    return np.diagonal(X)[np.diagonal(X)>0].sum()"
      ]
    },
    {
      "cell_type": "markdown",
      "id": "a4a57674",
      "metadata": {},
      "source": [
        "* __Задача 2__: Даны два вектора x и y. Проверить, задают ли они одно и то же мультимножество.\n",
        "\n",
        "   **Пример:**\n",
        "      Input: x = [1, 2, 2, 4], y = [4, 2, 1, 2]\n",
        "      Output: True"
      ]
    },
    {
      "cell_type": "code",
      "execution_count": 4,
      "id": "444f0c58",
      "metadata": {},
      "outputs": [
        {
          "name": "stdout",
          "output_type": "stream",
          "text": [
            "False\n",
            "False\n"
          ]
        }
      ],
      "source": [
        "# 2.1\n",
        "import copy\n",
        "x = [1, 2, 2, 1]\n",
        "y = [4, 2, 1, 2]\n",
        "\n",
        "def multiset_py(x: list, y: list) -> bool:\n",
        "    z = copy.deepcopy(x)\n",
        "    if len(x) != len(y):\n",
        "        return False\n",
        "    for i in z:\n",
        "        if i in y:\n",
        "            x.remove(i)\n",
        "            y.remove(i)\n",
        "        else:\n",
        "            return False\n",
        "    return True\n",
        "\n",
        "def multiset_py2(x: list, y: list) -> bool:\n",
        "    return sorted(x) == sorted(y)\n",
        "       \n",
        "\n",
        "print(multiset_py(x, y))\n",
        "print(multiset_py2(x, y))"
      ]
    },
    {
      "cell_type": "code",
      "execution_count": 5,
      "id": "f05c9db0",
      "metadata": {},
      "outputs": [
        {
          "name": "stdout",
          "output_type": "stream",
          "text": [
            "True\n"
          ]
        }
      ],
      "source": [
        "# 2.2\n",
        "\n",
        "x = [1, 2, 2, 4]\n",
        "y = [4, 2, 1, 2]\n",
        "def multiset_np(x: np.array, y: np.array) -> bool:\n",
        "    return (np.sort(x) == np.sort(y)).all()\n",
        "    \n",
        "print(multiset_np(x, y))\n",
        "\n"
      ]
    },
    {
      "cell_type": "markdown",
      "id": "649feaca",
      "metadata": {},
      "source": [
        "* __Задача 3__: Найти максимальное прозведение соседних элементов в массиве x, таких что хотя бы один множитель в произведении делится на 3. Если таких произведений нет, то вернуть -1.\n",
        "\n",
        "  **Пример**\n",
        "  \n",
        "      Input: x = [6, 2, 0, 3, 0, 0, 5, 7, 0]\n",
        "      Output: 12"
      ]
    },
    {
      "cell_type": "code",
      "execution_count": 6,
      "id": "85e335be",
      "metadata": {},
      "outputs": [
        {
          "name": "stdout",
          "output_type": "stream",
          "text": [
            "-1\n"
          ]
        }
      ],
      "source": [
        "# 3.1\n",
        "\n",
        "x = [7, 5, 8]\n",
        "def multiplication_py(x: list, rec = float('-inf')) -> int:\n",
        "    for i in range(0, len(x)-1):\n",
        "        if x[i] % 3 == 0:\n",
        "            rec = max(x[i]*x[i+1], rec)\n",
        "    if rec == float('-inf'):\n",
        "        return -1\n",
        "    return rec\n",
        "\n",
        "\n",
        "print(multiplication_py(x))"
      ]
    },
    {
      "cell_type": "code",
      "execution_count": 7,
      "id": "b9a3f8fe",
      "metadata": {},
      "outputs": [
        {
          "name": "stdout",
          "output_type": "stream",
          "text": [
            "12\n"
          ]
        }
      ],
      "source": [
        "# 3.2\n",
        "\n",
        "x = np.array([6, 2, 0, 3, 0, 0, 5, 7, 0])\n",
        "def multiplication_np(x: np.array) -> int:\n",
        "    muls = x[:-1] * x[1:]\n",
        "    return np.max(muls[(x[:-1] % 3 == 0) | (x[1:] % 3 == 0)], initial=-1)\n",
        "\n",
        "print(multiplication_np(x))\n",
        "\n"
      ]
    },
    {
      "cell_type": "markdown",
      "id": "27a4b902",
      "metadata": {},
      "source": [
        "* __Задача 4__: Дан трёхмерный массив image, содержащий изображение, размера (height, width, num_channels), а также вектор весов weights длины num_channels. Сложить каналы изображения с указанными весами, и вернуть результат в виде матрицы размера (height, width). ***Обратите внимание, что в изображении может быть не три канала!***\n",
        "\n",
        "  **Пример:**\n",
        "  \n",
        "      Input: image = [[[1, 1, 1], [2, 2, 2], [3, 3, 3]], [[4, 4, 4], [5, 5, 5], [6, 6, 6]], [[7, 7, 7], [8, 8, 8], [9, 9, 9]]], weights= [1, 2, 3]\n",
        "      Output: [[6, 12, 18], [24, 30, 36], [42, 48, 54]]\n",
        "\n",
        "  **Комментарий**:\n",
        "\n",
        "  - В примере исходное изображение с тремя каналами, где по всем каналам значения равны [[1, 2, 3], [4, 5, 6], [7, 8, 9]].\n",
        "  - После умножения первого канала на вес 1 получим значения для первого канала [[1, 2, 3], [4, 5, 6], [7, 8, 9]].\n",
        "  - После умножения второго канала на вес 2 получим значения для второго канала [[2, 4, 6], [8, 10, 12], [14, 16, 18]].\n",
        "  - После умножения третьего канала на вес 3 получим значения для третьего канала [[3, 6, 9], [12, 15, 18], [21, 24, 27]].\n",
        "  - Если сложить полученное изображение поканально получим [[6, 12, 18], [24, 30, 36], [42, 48, 54]].\n"
      ]
    },
    {
      "cell_type": "code",
      "execution_count": 8,
      "id": "ada04e36",
      "metadata": {},
      "outputs": [
        {
          "name": "stdout",
          "output_type": "stream",
          "text": [
            "[[8, 16, 24], [32, 40, 48], [56, 64, 72]]\n"
          ]
        }
      ],
      "source": [
        "image = [[[1, 1, 1], [2, 2, 2], [3, 3, 3]], [[4, 4, 4], [5, 5, 5], [6, 6, 6]], [[7, 7, 7], [8, 8, 8], [9, 9, 9]]]\n",
        "weights= [3, 2, 3]\n",
        "def convert_image(image: list, weights: list) -> list:\n",
        "    y = len(image)\n",
        "    x = len(image[0])\n",
        "    z = len(weights)\n",
        "    ans = [[0 for i in range(x)] for j in range(y)]\n",
        "    for i in range(y):\n",
        "        for j in range(x):\n",
        "            for channel in range(z):\n",
        "                ans[i][j] += image[i][j][channel] * weights[channel]\n",
        "    return ans\n",
        "\n",
        "print(convert_image(image, weights))\n"
      ]
    },
    {
      "cell_type": "code",
      "execution_count": 9,
      "id": "4c1070d8",
      "metadata": {},
      "outputs": [
        {
          "name": "stdout",
          "output_type": "stream",
          "text": [
            "[[ 8 16 24]\n",
            " [32 40 48]\n",
            " [56 64 72]]\n"
          ]
        }
      ],
      "source": [
        "image = np.array([[[1, 1, 1], [2, 2, 2], [3, 3, 3]], [[4, 4, 4], [5, 5, 5], [6, 6, 6]], [[7, 7, 7], [8, 8, 8], [9, 9, 9]]])\n",
        "weights= np.array([3, 2, 3])\n",
        "def convert_image_vec(image: np.array, weights: np.array) -> np.array:\n",
        "    return np.tensordot(image, weights, axes=([2], [0]))\n",
        "print(convert_image_vec(image, weights))"
      ]
    },
    {
      "cell_type": "markdown",
      "id": "91fceb8b",
      "metadata": {},
      "source": [
        "* __Задача 5__: Найти скалярное произведение между векторами x и y, заданными в формате RLE (Run-length encoding, кодирование длин серий). Каждый закодированный вектор представлен двумерным массивом, каждая строка которого имеет размерность 2, где первое число - элемент, а второе число - сколько раз элемент нужно повторить. Например, [[1,2], [2, 3], [3, 1]] соответствует веткору [1, 1, 2, 2, 2, 3]. В случае несовпадения длин исходных векторов вернуть -1.\n",
        "\n",
        "  **Пример:**\n",
        "  \n",
        "      Input: x = [[1, 2], [2, 3], [3, 1]], y = [[1, 1], [0, 5]].\n",
        "      Output: 1"
      ]
    },
    {
      "cell_type": "code",
      "execution_count": 10,
      "id": "6b999a3a",
      "metadata": {},
      "outputs": [
        {
          "data": {
            "text/plain": [
              "-1"
            ]
          },
          "execution_count": 10,
          "metadata": {},
          "output_type": "execute_result"
        }
      ],
      "source": [
        "#5.1\n",
        "x = [[1, 2], [2, 3], [3, 1]]\n",
        "y = [[1, 2], [0, 5]]\n",
        "\n",
        "def scalar_mul_py(x: list, y: list):\n",
        "    x1 = []\n",
        "    y1 = []\n",
        "    answer = 0\n",
        "    for i in x:\n",
        "        x1.extend([i[0]]*i[1])\n",
        "    for i in y:\n",
        "        y1.extend([i[0]]*i[1])\n",
        "    if len(x1) != len(y1):\n",
        "        return -1\n",
        "\n",
        "    for i in range(len(x1)):\n",
        "        answer += x1[i]*y1[i]\n",
        "    return answer\n",
        "        \n",
        "scalar_mul_py(x,y)"
      ]
    },
    {
      "cell_type": "code",
      "execution_count": 11,
      "id": "67349adc",
      "metadata": {},
      "outputs": [
        {
          "data": {
            "text/plain": [
              "np.int64(1)"
            ]
          },
          "execution_count": 11,
          "metadata": {},
          "output_type": "execute_result"
        }
      ],
      "source": [
        "# 5.2\n",
        "x = np.array([[1, 2], [2, 3], [3, 1]])\n",
        "y = np.array([[1, 1], [0, 5]])\n",
        "\n",
        "def scalar_mul_np(x: np.array, y:np.array):\n",
        "    x1 = np.repeat(x[:, 0], x[:, 1])\n",
        "    y1 = np.repeat(y[:, 0], y[:, 1])\n",
        "    if x1.shape != y1.shape:\n",
        "        return -1\n",
        "    return np.dot(x1, y1)\n",
        "\n",
        "\n",
        "scalar_mul_np(x, y)"
      ]
    },
    {
      "cell_type": "code",
      "execution_count": null,
      "id": "822f92d1",
      "metadata": {},
      "outputs": [],
      "source": []
    },
    {
      "cell_type": "markdown",
      "id": "50991826",
      "metadata": {
        "id": "50991826",
        "run_control": {
          "frozen": false,
          "read_only": false
        }
      },
      "source": [
        "### Задача 6.\n",
        "\n",
        "*  Для каждой задачи сравните скорость работы невекторизованной и векторизованной реализации. Код генерации данных разных размеров и функция для замера времени работы функций уже написаны.\n",
        "*  Сделайте выводы о времени работы функций."
      ]
    },
    {
      "cell_type": "code",
      "execution_count": 12,
      "id": "6a680127",
      "metadata": {
        "id": "6a680127",
        "run_control": {
          "frozen": false,
          "read_only": false
        }
      },
      "outputs": [],
      "source": [
        "import time\n",
        "import numpy as np\n",
        "import numpy as np\n",
        "\n",
        "import functions_vectorised\n",
        "import functions"
      ]
    },
    {
      "cell_type": "code",
      "execution_count": 13,
      "id": "Klhpq6urrIaE",
      "metadata": {
        "id": "Klhpq6urrIaE"
      },
      "outputs": [],
      "source": [
        "# генерация данных\n",
        "\n",
        "sum_non_neg_diag_data = []\n",
        "for n in [10, 100, 1000, 10000]:\n",
        "    X = np.random.randint(0, 3, (n, n))\n",
        "    sum_non_neg_diag_data += [X]\n",
        "\n",
        "are_multisets_equal_data = []\n",
        "for n in [10, 100, 1000, 10000]:\n",
        "    x = np.random.randint(0, 2, n)\n",
        "    y = np.random.randint(0, 2, n)\n",
        "    are_multisets_equal_data += [(x, y)]\n",
        "\n",
        "max_prod_mod_3_data = []\n",
        "for n in [10, 100, 1000, 10000]:\n",
        "    x = np.random.randint(1, 100, n)\n",
        "    max_prod_mod_3_data += [x]\n",
        "\n",
        "convert_image_data = []\n",
        "for n in [10, 100, 1000]:\n",
        "    image = np.random.random((n, n, 10))\n",
        "    weights = np.random.random(10)\n",
        "    convert_image_data += [(image, weights)]\n",
        "\n",
        "rle_scalar_data = []\n",
        "for n in [10, 100, 1000, 10000]:\n",
        "    x = np.random.randint(1, 3, (n, 2))\n",
        "    y = np.random.randint(1, 3, (n, 2))\n",
        "    shapes = np.random.randint(1, 3, n)\n",
        "    x[:, 1] = shapes\n",
        "    y[:, 1] = shapes\n",
        "\n",
        "    rle_scalar_data += [(x, y)]\n",
        "\n",
        "cosine_distance_data = []\n",
        "for n in [10, 100]:\n",
        "    X = np.random.random((n, n))\n",
        "    Y = np.random.random((n, n))\n",
        "    cosine_distance_data += [(X, Y)]"
      ]
    },
    {
      "cell_type": "code",
      "execution_count": 14,
      "id": "ab234c9f",
      "metadata": {
        "id": "ab234c9f",
        "run_control": {
          "frozen": false,
          "read_only": false
        }
      },
      "outputs": [],
      "source": [
        "# функция для подсчета времени работы\n",
        "\n",
        "def count_time(func, *data):\n",
        "    tick = time.perf_counter()\n",
        "    func(*data)\n",
        "    return time.perf_counter() - tick"
      ]
    },
    {
      "cell_type": "code",
      "execution_count": 15,
      "id": "96e6a1e0",
      "metadata": {
        "id": "96e6a1e0",
        "run_control": {
          "frozen": false,
          "read_only": false
        }
      },
      "outputs": [
        {
          "ename": "AttributeError",
          "evalue": "module 'functions_vectorised' has no attribute 'sum_non_neg_diag'",
          "output_type": "error",
          "traceback": [
            "\u001b[1;31m---------------------------------------------------------------------------\u001b[0m",
            "\u001b[1;31mAttributeError\u001b[0m                            Traceback (most recent call last)",
            "Cell \u001b[1;32mIn[15], line 10\u001b[0m\n\u001b[0;32m      8\u001b[0m \u001b[38;5;28;01mfor\u001b[39;00m X \u001b[38;5;129;01min\u001b[39;00m sum_non_neg_diag_data:\n\u001b[0;32m      9\u001b[0m    sum_non_neg_diag_time \u001b[38;5;241m+\u001b[39m\u001b[38;5;241m=\u001b[39m [count_time(functions\u001b[38;5;241m.\u001b[39msum_non_neg_diag, X\u001b[38;5;241m.\u001b[39mtolist())]\n\u001b[1;32m---> 10\u001b[0m    sum_non_neg_diag_vectorised_time \u001b[38;5;241m+\u001b[39m\u001b[38;5;241m=\u001b[39m [count_time(\u001b[43mfunctions_vectorised\u001b[49m\u001b[38;5;241;43m.\u001b[39;49m\u001b[43msum_non_neg_diag\u001b[49m, X)]\n\u001b[0;32m     12\u001b[0m \u001b[38;5;66;03m# are_multisets_equal\u001b[39;00m\n\u001b[0;32m     13\u001b[0m \u001b[38;5;66;03m# ...\u001b[39;00m\n\u001b[0;32m     14\u001b[0m                        \n\u001b[1;32m   (...)\u001b[0m\n\u001b[0;32m     24\u001b[0m \u001b[38;5;66;03m# cosine_distance\u001b[39;00m\n\u001b[0;32m     25\u001b[0m \u001b[38;5;66;03m# ...\u001b[39;00m\n",
            "\u001b[1;31mAttributeError\u001b[0m: module 'functions_vectorised' has no attribute 'sum_non_neg_diag'"
          ]
        }
      ],
      "source": [
        "# получим время работы функций\n",
        "\n",
        "# sum_non_neg_diag\n",
        "\n",
        "sum_non_neg_diag_time = []\n",
        "sum_non_neg_diag_vectorised_time = []\n",
        "\n",
        "for X in sum_non_neg_diag_data:\n",
        "   sum_non_neg_diag_time += [count_time(functions.sum_non_neg_diag, X.tolist())]\n",
        "   sum_non_neg_diag_vectorised_time += [count_time(functions_vectorised.sum_non_neg_diag, X)]\n",
        "\n",
        "# are_multisets_equal\n",
        "# ...\n",
        "                       \n",
        "# max_prod_mod_3\n",
        "# ...\n",
        "\n",
        "# convert_image\n",
        "# ...\n",
        "\n",
        "# rle_scalar\n",
        "# ...\n",
        "\n",
        "# cosine_distance\n",
        "# ..."
      ]
    },
    {
      "cell_type": "markdown",
      "id": "9c241dae",
      "metadata": {
        "id": "9c241dae",
        "run_control": {
          "frozen": false,
          "read_only": false
        }
      },
      "source": [
        "**Выводы**: ВАШИ ВЫВОДЫ ЗДЕСЬ"
      ]
    }
  ],
  "metadata": {
    "colab": {
      "provenance": []
    },
    "hide_input": false,
    "kernelspec": {
      "display_name": "Python 3",
      "language": "python",
      "name": "python3"
    },
    "language_info": {
      "codemirror_mode": {
        "name": "ipython",
        "version": 3
      },
      "file_extension": ".py",
      "mimetype": "text/x-python",
      "name": "python",
      "nbconvert_exporter": "python",
      "pygments_lexer": "ipython3",
      "version": "3.12.7"
    }
  },
  "nbformat": 4,
  "nbformat_minor": 5
}
