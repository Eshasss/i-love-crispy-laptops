{
 "cells": [
  {
   "cell_type": "code",
   "execution_count": null,
   "metadata": {},
   "outputs": [],
   "source": [
    "from sklearn.datasets import load_iris\n",
    "import pandas as pd\n",
    "iris = load_iris\n",
    "df = pd.DataFrame(data=iris.data, columns=iris.feature_names)\n",
    "\n",
    "df[\"a\"]=df[\"sepal length (cm)\"]\n",
    "df[\"b\"]=df[\"sepal width (cm)\"]\n",
    "df[\"c\"]=df[\"petal length (cm)\"]\n",
    "df[\"d\"]=df[\"petal width (cm)\"]\n",
    "\n",
    "df.shape #Размеры\n",
    "df.drop\n",
    "\n",
    "\n",
    "# Заменяет все Nones\n"
   ]
  },
  {
   "cell_type": "code",
   "execution_count": null,
   "metadata": {},
   "outputs": [],
   "source": [
    "\n",
    "df = pd.readcsv(\"./iris.csv\") #Открывает csv файл\n",
    "df.to_csv(\"iris.csv\") #Write dataframe as a file"
   ]
  },
  {
   "cell_type": "code",
   "execution_count": null,
   "metadata": {},
   "outputs": [],
   "source": [
    "print(df.isna().sum) #Показывает в каких колонках пропущено\n",
    "df.dropna(axis=\"rows\", inplace=True)\n",
    "df.fillna(0, inplace=True) #Можно также кнуть словарь"
   ]
  },
  {
   "cell_type": "code",
   "execution_count": null,
   "metadata": {},
   "outputs": [],
   "source": [
    "df.fillna({\n",
    "    'a': df['a'].mean(),\n",
    "    'b': df['b'].max(),\n",
    "    'c': df['c'].min(), \n",
    "    'd': df['d'].median()\n",
    "}, inplace = True,) #Заплняет все пропуски которые получились"
   ]
  },
  {
   "cell_type": "code",
   "execution_count": null,
   "metadata": {},
   "outputs": [],
   "source": [
    "df.transpose #Переворачивает, делая из столбцов строки и наоборот"
   ]
  },
  {
   "cell_type": "code",
   "execution_count": null,
   "metadata": {},
   "outputs": [],
   "source": [
    "df[\"a\"].unique() #Находит список уникальных элементов"
   ]
  },
  {
   "cell_type": "code",
   "execution_count": null,
   "metadata": {},
   "outputs": [],
   "source": [
    "df[\"a\"] == df.a # Эквивалентны"
   ]
  },
  {
   "cell_type": "code",
   "execution_count": null,
   "metadata": {},
   "outputs": [],
   "source": [
    ".all() #Массовое \"И\"\n",
    ".any() #Массовое \"ИЛИ\""
   ]
  },
  {
   "cell_type": "code",
   "execution_count": null,
   "metadata": {},
   "outputs": [],
   "source": [
    "df[\"a\"] = df[\"a\"].astype('category') #Превращает значение колонки в новое значение, делает как новую категорию"
   ]
  },
  {
   "cell_type": "code",
   "execution_count": null,
   "metadata": {},
   "outputs": [],
   "source": [
    "    "
   ]
  }
 ],
 "metadata": {
  "language_info": {
   "name": "python"
  }
 },
 "nbformat": 4,
 "nbformat_minor": 2
}
