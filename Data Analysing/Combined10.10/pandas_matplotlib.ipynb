{
  "cells": [
    {
      "cell_type": "markdown",
      "id": "lCSve2V79VyV",
      "metadata": {
        "id": "lCSve2V79VyV"
      },
      "source": [
        "## Практическое задание: pandas + matplotlib"
      ]
    },
    {
      "cell_type": "code",
      "execution_count": 86,
      "id": "cf3f277e",
      "metadata": {},
      "outputs": [
        {
          "name": "stdout",
          "output_type": "stream",
          "text": [
            "Defaulting to user installation because normal site-packages is not writeable\n",
            "Requirement already satisfied: pandas in c:\\users\\janep\\appdata\\local\\packages\\pythonsoftwarefoundation.python.3.12_qbz5n2kfra8p0\\localcache\\local-packages\\python312\\site-packages (2.2.2)\n",
            "Requirement already satisfied: matplotlib in c:\\users\\janep\\appdata\\local\\packages\\pythonsoftwarefoundation.python.3.12_qbz5n2kfra8p0\\localcache\\local-packages\\python312\\site-packages (3.9.2)\n",
            "Requirement already satisfied: gdown in c:\\users\\janep\\appdata\\local\\packages\\pythonsoftwarefoundation.python.3.12_qbz5n2kfra8p0\\localcache\\local-packages\\python312\\site-packages (5.2.0)\n",
            "Requirement already satisfied: numpy>=1.26.0 in c:\\users\\janep\\appdata\\local\\packages\\pythonsoftwarefoundation.python.3.12_qbz5n2kfra8p0\\localcache\\local-packages\\python312\\site-packages (from pandas) (2.1.1)\n",
            "Requirement already satisfied: python-dateutil>=2.8.2 in c:\\users\\janep\\appdata\\local\\packages\\pythonsoftwarefoundation.python.3.12_qbz5n2kfra8p0\\localcache\\local-packages\\python312\\site-packages (from pandas) (2.9.0.post0)\n",
            "Requirement already satisfied: pytz>=2020.1 in c:\\users\\janep\\appdata\\local\\packages\\pythonsoftwarefoundation.python.3.12_qbz5n2kfra8p0\\localcache\\local-packages\\python312\\site-packages (from pandas) (2024.2)\n",
            "Requirement already satisfied: tzdata>=2022.7 in c:\\users\\janep\\appdata\\local\\packages\\pythonsoftwarefoundation.python.3.12_qbz5n2kfra8p0\\localcache\\local-packages\\python312\\site-packages (from pandas) (2024.1)\n",
            "Requirement already satisfied: contourpy>=1.0.1 in c:\\users\\janep\\appdata\\local\\packages\\pythonsoftwarefoundation.python.3.12_qbz5n2kfra8p0\\localcache\\local-packages\\python312\\site-packages (from matplotlib) (1.3.0)\n",
            "Requirement already satisfied: cycler>=0.10 in c:\\users\\janep\\appdata\\local\\packages\\pythonsoftwarefoundation.python.3.12_qbz5n2kfra8p0\\localcache\\local-packages\\python312\\site-packages (from matplotlib) (0.12.1)\n",
            "Requirement already satisfied: fonttools>=4.22.0 in c:\\users\\janep\\appdata\\local\\packages\\pythonsoftwarefoundation.python.3.12_qbz5n2kfra8p0\\localcache\\local-packages\\python312\\site-packages (from matplotlib) (4.54.1)\n",
            "Requirement already satisfied: kiwisolver>=1.3.1 in c:\\users\\janep\\appdata\\local\\packages\\pythonsoftwarefoundation.python.3.12_qbz5n2kfra8p0\\localcache\\local-packages\\python312\\site-packages (from matplotlib) (1.4.7)\n",
            "Requirement already satisfied: packaging>=20.0 in c:\\users\\janep\\appdata\\local\\packages\\pythonsoftwarefoundation.python.3.12_qbz5n2kfra8p0\\localcache\\local-packages\\python312\\site-packages (from matplotlib) (24.1)\n",
            "Requirement already satisfied: pillow>=8 in c:\\users\\janep\\appdata\\local\\packages\\pythonsoftwarefoundation.python.3.12_qbz5n2kfra8p0\\localcache\\local-packages\\python312\\site-packages (from matplotlib) (10.4.0)\n",
            "Requirement already satisfied: pyparsing>=2.3.1 in c:\\users\\janep\\appdata\\local\\packages\\pythonsoftwarefoundation.python.3.12_qbz5n2kfra8p0\\localcache\\local-packages\\python312\\site-packages (from matplotlib) (3.1.4)\n",
            "Requirement already satisfied: beautifulsoup4 in c:\\users\\janep\\appdata\\local\\packages\\pythonsoftwarefoundation.python.3.12_qbz5n2kfra8p0\\localcache\\local-packages\\python312\\site-packages (from gdown) (4.12.3)\n",
            "Requirement already satisfied: filelock in c:\\users\\janep\\appdata\\local\\packages\\pythonsoftwarefoundation.python.3.12_qbz5n2kfra8p0\\localcache\\local-packages\\python312\\site-packages (from gdown) (3.16.1)\n",
            "Requirement already satisfied: requests[socks] in c:\\users\\janep\\appdata\\local\\packages\\pythonsoftwarefoundation.python.3.12_qbz5n2kfra8p0\\localcache\\local-packages\\python312\\site-packages (from gdown) (2.32.3)\n",
            "Requirement already satisfied: tqdm in c:\\users\\janep\\appdata\\local\\packages\\pythonsoftwarefoundation.python.3.12_qbz5n2kfra8p0\\localcache\\local-packages\\python312\\site-packages (from gdown) (4.66.5)\n",
            "Requirement already satisfied: six>=1.5 in c:\\users\\janep\\appdata\\local\\packages\\pythonsoftwarefoundation.python.3.12_qbz5n2kfra8p0\\localcache\\local-packages\\python312\\site-packages (from python-dateutil>=2.8.2->pandas) (1.16.0)\n",
            "Requirement already satisfied: soupsieve>1.2 in c:\\users\\janep\\appdata\\local\\packages\\pythonsoftwarefoundation.python.3.12_qbz5n2kfra8p0\\localcache\\local-packages\\python312\\site-packages (from beautifulsoup4->gdown) (2.6)\n",
            "Requirement already satisfied: charset-normalizer<4,>=2 in c:\\users\\janep\\appdata\\local\\packages\\pythonsoftwarefoundation.python.3.12_qbz5n2kfra8p0\\localcache\\local-packages\\python312\\site-packages (from requests[socks]->gdown) (3.3.2)\n",
            "Requirement already satisfied: idna<4,>=2.5 in c:\\users\\janep\\appdata\\local\\packages\\pythonsoftwarefoundation.python.3.12_qbz5n2kfra8p0\\localcache\\local-packages\\python312\\site-packages (from requests[socks]->gdown) (3.10)\n",
            "Requirement already satisfied: urllib3<3,>=1.21.1 in c:\\users\\janep\\appdata\\local\\packages\\pythonsoftwarefoundation.python.3.12_qbz5n2kfra8p0\\localcache\\local-packages\\python312\\site-packages (from requests[socks]->gdown) (2.2.3)\n",
            "Requirement already satisfied: certifi>=2017.4.17 in c:\\users\\janep\\appdata\\local\\packages\\pythonsoftwarefoundation.python.3.12_qbz5n2kfra8p0\\localcache\\local-packages\\python312\\site-packages (from requests[socks]->gdown) (2024.8.30)\n",
            "Requirement already satisfied: PySocks!=1.5.7,>=1.5.6 in c:\\users\\janep\\appdata\\local\\packages\\pythonsoftwarefoundation.python.3.12_qbz5n2kfra8p0\\localcache\\local-packages\\python312\\site-packages (from requests[socks]->gdown) (1.7.1)\n",
            "Requirement already satisfied: colorama in c:\\users\\janep\\appdata\\local\\packages\\pythonsoftwarefoundation.python.3.12_qbz5n2kfra8p0\\localcache\\local-packages\\python312\\site-packages (from tqdm->gdown) (0.4.6)\n"
          ]
        }
      ],
      "source": [
        "!pip install pandas matplotlib gdown"
      ]
    },
    {
      "cell_type": "markdown",
      "id": "940161ce",
      "metadata": {
        "id": "940161ce",
        "run_control": {
          "frozen": false,
          "read_only": false
        }
      },
      "source": [
        "# Часть 1. Pandas"
      ]
    },
    {
      "cell_type": "code",
      "execution_count": 87,
      "id": "044f67ae",
      "metadata": {
        "id": "044f67ae",
        "run_control": {
          "frozen": false,
          "read_only": false
        }
      },
      "outputs": [],
      "source": [
        "import pandas as pd"
      ]
    },
    {
      "cell_type": "code",
      "execution_count": 88,
      "id": "Sgb_YbNxa131",
      "metadata": {
        "id": "Sgb_YbNxa131"
      },
      "outputs": [
        {
          "name": "stdout",
          "output_type": "stream",
          "text": [
            "^C\n"
          ]
        },
        {
          "name": "stderr",
          "output_type": "stream",
          "text": [
            "Downloading...\n",
            "From: https://drive.google.com/uc?id=1sA-fqJb1WxhS_jaYDcIwXWa_b8b2oZJ6\n",
            "To: c:\\Users\\janep\\Desktop\\codes\\57Sch\\2024\\Data Analysing\\Combined10.10\\youtube_trending_mediterranean.csv\n",
            "\n",
            "  0%|          | 0.00/6.22M [00:00<?, ?B/s]\n",
            "  8%|▊         | 524k/6.22M [00:00<00:03, 1.62MB/s]\n",
            " 17%|█▋        | 1.05M/6.22M [00:00<00:02, 2.19MB/s]\n",
            " 25%|██▌       | 1.57M/6.22M [00:00<00:01, 2.55MB/s]\n",
            " 34%|███▎      | 2.10M/6.22M [00:00<00:01, 2.77MB/s]\n",
            " 42%|████▏     | 2.62M/6.22M [00:01<00:01, 2.89MB/s]\n",
            " 51%|█████     | 3.15M/6.22M [00:01<00:01, 2.98MB/s]\n",
            " 59%|█████▉    | 3.67M/6.22M [00:01<00:00, 3.06MB/s]\n",
            " 67%|██████▋   | 4.19M/6.22M [00:01<00:00, 3.03MB/s]\n",
            " 76%|███████▌  | 4.72M/6.22M [00:01<00:00, 3.26MB/s]\n",
            " 84%|████████▍ | 5.24M/6.22M [00:01<00:00, 3.24MB/s]\n",
            " 93%|█████████▎| 5.77M/6.22M [00:01<00:00, 3.23MB/s]\n",
            "100%|██████████| 6.22M/6.22M [00:02<00:00, 3.22MB/s]\n",
            "100%|██████████| 6.22M/6.22M [00:02<00:00, 2.95MB/s]\n"
          ]
        }
      ],
      "source": [
        "!gdown 1sA-fqJb1WxhS_jaYDcIwXWa_b8b2oZJ6"
      ]
    },
    {
      "cell_type": "markdown",
      "id": "607cf267",
      "metadata": {
        "id": "607cf267",
        "run_control": {
          "frozen": false,
          "read_only": false
        }
      },
      "source": [
        "#### Задание 1\n",
        "* Откройте файл с таблицей, загруженной выше, и выведите последние 5 строк.\n",
        "* Посмотрите на данные и скажите, что они из себя представляют, сколько в таблице строк и столбцов?"
      ]
    },
    {
      "cell_type": "code",
      "execution_count": 89,
      "id": "2216fa8d",
      "metadata": {
        "id": "2216fa8d",
        "run_control": {
          "frozen": false,
          "read_only": false
        }
      },
      "outputs": [
        {
          "data": {
            "text/html": [
              "<div>\n",
              "<style scoped>\n",
              "    .dataframe tbody tr th:only-of-type {\n",
              "        vertical-align: middle;\n",
              "    }\n",
              "\n",
              "    .dataframe tbody tr th {\n",
              "        vertical-align: top;\n",
              "    }\n",
              "\n",
              "    .dataframe thead th {\n",
              "        text-align: right;\n",
              "    }\n",
              "</style>\n",
              "<table border=\"1\" class=\"dataframe\">\n",
              "  <thead>\n",
              "    <tr style=\"text-align: right;\">\n",
              "      <th></th>\n",
              "      <th>country</th>\n",
              "      <th>video_id</th>\n",
              "      <th>title</th>\n",
              "      <th>publishedAt</th>\n",
              "      <th>channelId</th>\n",
              "      <th>channelTitle</th>\n",
              "      <th>categoryId</th>\n",
              "      <th>trending_date</th>\n",
              "      <th>tags</th>\n",
              "      <th>view_count</th>\n",
              "      <th>comment_count</th>\n",
              "      <th>thumbnail_link</th>\n",
              "      <th>comments_disabled</th>\n",
              "      <th>ratings_disabled</th>\n",
              "      <th>description</th>\n",
              "    </tr>\n",
              "  </thead>\n",
              "  <tbody>\n",
              "    <tr>\n",
              "      <th>3216</th>\n",
              "      <td>NaN</td>\n",
              "      <td>eB-A1Y0Dswc</td>\n",
              "      <td>Thank you for watching</td>\n",
              "      <td>2022-07-05T21:18:33Z</td>\n",
              "      <td>UCS5tt2z_DFvG7-39J3aE-bQ</td>\n",
              "      <td>Life of Boris</td>\n",
              "      <td>22</td>\n",
              "      <td>22.11.07</td>\n",
              "      <td>lifeofboris|life of boris|english subtitles|ye...</td>\n",
              "      <td>864216</td>\n",
              "      <td>14431</td>\n",
              "      <td>https://i.ytimg.com/vi/eB-A1Y0Dswc/default.jpg</td>\n",
              "      <td>False</td>\n",
              "      <td>True</td>\n",
              "      <td>New channel: https://www.youtube.com/channel/U...</td>\n",
              "    </tr>\n",
              "    <tr>\n",
              "      <th>3217</th>\n",
              "      <td>NaN</td>\n",
              "      <td>KJGTtzccOHU</td>\n",
              "      <td>Pokemon Emerald but every battle is extremely ...</td>\n",
              "      <td>2022-07-05T01:55:10Z</td>\n",
              "      <td>UC0VVYtw21rg2cokUystu2Dw</td>\n",
              "      <td>SmallAnt</td>\n",
              "      <td>20</td>\n",
              "      <td>22.11.07</td>\n",
              "      <td>pokemon|smallant|smallant1|challenge|pokemon c...</td>\n",
              "      <td>1311698</td>\n",
              "      <td>1232</td>\n",
              "      <td>https://i.ytimg.com/vi/KJGTtzccOHU/default.jpg</td>\n",
              "      <td>False</td>\n",
              "      <td>True</td>\n",
              "      <td>Pokemon emerald but every battle is a 1v2You s...</td>\n",
              "    </tr>\n",
              "    <tr>\n",
              "      <th>3218</th>\n",
              "      <td>NaN</td>\n",
              "      <td>be8mqaTi_DI</td>\n",
              "      <td>Victor Cibrian x Fuerza Regida x Luis R Conriq...</td>\n",
              "      <td>2022-07-04T21:00:36Z</td>\n",
              "      <td>UC648rgJOboZlgcDbW00vTSA</td>\n",
              "      <td>Rancho Humilde</td>\n",
              "      <td>10</td>\n",
              "      <td>22.11.07</td>\n",
              "      <td>Rancho Humilde|Legado 7|El De La Guitarra|Fuer...</td>\n",
              "      <td>2256933</td>\n",
              "      <td>597</td>\n",
              "      <td>https://i.ytimg.com/vi/be8mqaTi_DI/default.jpg</td>\n",
              "      <td>False</td>\n",
              "      <td>True</td>\n",
              "      <td>SuscrÃ­bete: https://Rancho.lnk.to/RHYoutube\\r...</td>\n",
              "    </tr>\n",
              "    <tr>\n",
              "      <th>3219</th>\n",
              "      <td>NaN</td>\n",
              "      <td>14aYHc7ybu0</td>\n",
              "      <td>WE STAYED AT A 1 STAR HOTEL FOR 24 HOURS | coc...</td>\n",
              "      <td>2022-07-05T13:40:04Z</td>\n",
              "      <td>UCSGoIq_tVESqNYF1Re-zn1Q</td>\n",
              "      <td>HJ Evelyn</td>\n",
              "      <td>24</td>\n",
              "      <td>22.11.07</td>\n",
              "      <td>hjevelyn|Evelyn ha|Emily ha|erica ha|korean si...</td>\n",
              "      <td>922668</td>\n",
              "      <td>2951</td>\n",
              "      <td>https://i.ytimg.com/vi/14aYHc7ybu0/default.jpg</td>\n",
              "      <td>False</td>\n",
              "      <td>True</td>\n",
              "      <td>never again ahaha.... CHECK OUT OUR MERCH: htt...</td>\n",
              "    </tr>\n",
              "    <tr>\n",
              "      <th>3220</th>\n",
              "      <td>NaN</td>\n",
              "      <td>mQ9eFI13NCQ</td>\n",
              "      <td>I 100%'d Cuphead: The Delicious Last Course, H...</td>\n",
              "      <td>2022-07-04T16:04:33Z</td>\n",
              "      <td>UCRgzckrm1Svf-Y_dIWsTPTg</td>\n",
              "      <td>The Andrew Collette Show</td>\n",
              "      <td>20</td>\n",
              "      <td>22.11.07</td>\n",
              "      <td>cuphead|cuphead dlc|cuphead the delicious last...</td>\n",
              "      <td>1176289</td>\n",
              "      <td>620</td>\n",
              "      <td>https://i.ytimg.com/vi/mQ9eFI13NCQ/default.jpg</td>\n",
              "      <td>False</td>\n",
              "      <td>True</td>\n",
              "      <td>My Cuphead: The Delicious Last Course Let's Pl...</td>\n",
              "    </tr>\n",
              "  </tbody>\n",
              "</table>\n",
              "</div>"
            ],
            "text/plain": [
              "     country     video_id                                              title  \\\n",
              "3216     NaN  eB-A1Y0Dswc                             Thank you for watching   \n",
              "3217     NaN  KJGTtzccOHU  Pokemon Emerald but every battle is extremely ...   \n",
              "3218     NaN  be8mqaTi_DI  Victor Cibrian x Fuerza Regida x Luis R Conriq...   \n",
              "3219     NaN  14aYHc7ybu0  WE STAYED AT A 1 STAR HOTEL FOR 24 HOURS | coc...   \n",
              "3220     NaN  mQ9eFI13NCQ  I 100%'d Cuphead: The Delicious Last Course, H...   \n",
              "\n",
              "               publishedAt                 channelId  \\\n",
              "3216  2022-07-05T21:18:33Z  UCS5tt2z_DFvG7-39J3aE-bQ   \n",
              "3217  2022-07-05T01:55:10Z  UC0VVYtw21rg2cokUystu2Dw   \n",
              "3218  2022-07-04T21:00:36Z  UC648rgJOboZlgcDbW00vTSA   \n",
              "3219  2022-07-05T13:40:04Z  UCSGoIq_tVESqNYF1Re-zn1Q   \n",
              "3220  2022-07-04T16:04:33Z  UCRgzckrm1Svf-Y_dIWsTPTg   \n",
              "\n",
              "                  channelTitle  categoryId trending_date  \\\n",
              "3216             Life of Boris          22      22.11.07   \n",
              "3217                  SmallAnt          20      22.11.07   \n",
              "3218            Rancho Humilde          10      22.11.07   \n",
              "3219                 HJ Evelyn          24      22.11.07   \n",
              "3220  The Andrew Collette Show          20      22.11.07   \n",
              "\n",
              "                                                   tags  view_count  \\\n",
              "3216  lifeofboris|life of boris|english subtitles|ye...      864216   \n",
              "3217  pokemon|smallant|smallant1|challenge|pokemon c...     1311698   \n",
              "3218  Rancho Humilde|Legado 7|El De La Guitarra|Fuer...     2256933   \n",
              "3219  hjevelyn|Evelyn ha|Emily ha|erica ha|korean si...      922668   \n",
              "3220  cuphead|cuphead dlc|cuphead the delicious last...     1176289   \n",
              "\n",
              "      comment_count                                  thumbnail_link  \\\n",
              "3216          14431  https://i.ytimg.com/vi/eB-A1Y0Dswc/default.jpg   \n",
              "3217           1232  https://i.ytimg.com/vi/KJGTtzccOHU/default.jpg   \n",
              "3218            597  https://i.ytimg.com/vi/be8mqaTi_DI/default.jpg   \n",
              "3219           2951  https://i.ytimg.com/vi/14aYHc7ybu0/default.jpg   \n",
              "3220            620  https://i.ytimg.com/vi/mQ9eFI13NCQ/default.jpg   \n",
              "\n",
              "      comments_disabled  ratings_disabled  \\\n",
              "3216              False              True   \n",
              "3217              False              True   \n",
              "3218              False              True   \n",
              "3219              False              True   \n",
              "3220              False              True   \n",
              "\n",
              "                                            description  \n",
              "3216  New channel: https://www.youtube.com/channel/U...  \n",
              "3217  Pokemon emerald but every battle is a 1v2You s...  \n",
              "3218  SuscrÃ­bete: https://Rancho.lnk.to/RHYoutube\\r...  \n",
              "3219  never again ahaha.... CHECK OUT OUR MERCH: htt...  \n",
              "3220  My Cuphead: The Delicious Last Course Let's Pl...  "
            ]
          },
          "execution_count": 89,
          "metadata": {},
          "output_type": "execute_result"
        }
      ],
      "source": [
        "# data = Your code here\n",
        "\n",
        "df = pd.read_csv('youtube_trending_mediterranean.csv', sep = ',')\n",
        "df.tail(5)"
      ]
    },
    {
      "cell_type": "code",
      "execution_count": 90,
      "id": "ba33ed6b",
      "metadata": {
        "id": "ba33ed6b",
        "run_control": {
          "frozen": false,
          "read_only": false
        }
      },
      "outputs": [
        {
          "data": {
            "text/plain": [
              "(3221, 15)"
            ]
          },
          "execution_count": 90,
          "metadata": {},
          "output_type": "execute_result"
        }
      ],
      "source": [
        "# Your code here\n",
        "df.shape"
      ]
    },
    {
      "cell_type": "markdown",
      "id": "0672fe7f",
      "metadata": {
        "id": "0672fe7f",
        "run_control": {
          "frozen": false,
          "read_only": false
        }
      },
      "source": [
        "**Ответ**: ВАШ ОТВЕТ ЗДЕСЬ"
      ]
    },
    {
      "cell_type": "code",
      "execution_count": 7,
      "id": "658c6ab4",
      "metadata": {},
      "outputs": [
        {
          "data": {
            "text/plain": [
              "country              object\n",
              "video_id             object\n",
              "title                object\n",
              "publishedAt          object\n",
              "channelId            object\n",
              "channelTitle         object\n",
              "categoryId            int64\n",
              "trending_date        object\n",
              "tags                 object\n",
              "view_count            int64\n",
              "comment_count         int64\n",
              "thumbnail_link       object\n",
              "comments_disabled      bool\n",
              "ratings_disabled       bool\n",
              "description          object\n",
              "dtype: object"
            ]
          },
          "execution_count": 7,
          "metadata": {},
          "output_type": "execute_result"
        }
      ],
      "source": [
        "df.dtypes"
      ]
    },
    {
      "cell_type": "markdown",
      "id": "8f6dc4a5",
      "metadata": {
        "id": "8f6dc4a5",
        "run_control": {
          "frozen": false,
          "read_only": false
        }
      },
      "source": [
        "#### Задание 2 \n",
        "\n",
        "Ответьте на вопросы:\n",
        "\n",
        "* Для скольких стран (колонка country) есть информация о видеороликах в таблице (отсутствие страны НЕ учитывается как +1 значение)?\n",
        "* Сколько есть видеороликов (== записей в таблице) c разрешенными и запрещенными комментариями? (колонка comments_disabled). Под видеороликом считаем 1 запись в таблице.\n",
        "* Какое максимальное число просмотров у видеороликов, попавших в таблицу? (колонка view_count)"
      ]
    },
    {
      "cell_type": "code",
      "execution_count": null,
      "id": "50593c0f",
      "metadata": {},
      "outputs": [],
      "source": [
        "df['']"
      ]
    },
    {
      "cell_type": "code",
      "execution_count": 62,
      "id": "e966fa7b",
      "metadata": {
        "id": "e966fa7b",
        "run_control": {
          "frozen": false,
          "read_only": false
        }
      },
      "outputs": [
        {
          "data": {
            "text/plain": [
              "np.int64(28)"
            ]
          },
          "execution_count": 62,
          "metadata": {},
          "output_type": "execute_result"
        }
      ],
      "source": [
        "# Your code here\n",
        "df.loc[df['comments_disabled'] == True]['comments_disabled'].count()"
      ]
    },
    {
      "cell_type": "code",
      "execution_count": 64,
      "id": "5af96f07",
      "metadata": {},
      "outputs": [
        {
          "data": {
            "text/plain": [
              "np.int64(3193)"
            ]
          },
          "execution_count": 64,
          "metadata": {},
          "output_type": "execute_result"
        }
      ],
      "source": [
        "df.loc[df['comments_disabled'] == False]['comments_disabled'].count()"
      ]
    },
    {
      "cell_type": "code",
      "execution_count": 65,
      "id": "7c016290",
      "metadata": {},
      "outputs": [
        {
          "data": {
            "text/plain": [
              "np.int64(123034293)"
            ]
          },
          "execution_count": 65,
          "metadata": {},
          "output_type": "execute_result"
        }
      ],
      "source": [
        "df['view_count'].max()"
      ]
    },
    {
      "cell_type": "markdown",
      "id": "327f49bc",
      "metadata": {
        "id": "327f49bc",
        "run_control": {
          "frozen": false,
          "read_only": false
        }
      },
      "source": [
        "**Ответ**:\n",
        "1. ВАШ ОТВЕТ ЗДЕСЬ\n",
        "2. Разрешено 28, запрещено 3193\n",
        "3. 123034293"
      ]
    },
    {
      "cell_type": "markdown",
      "id": "a441d297",
      "metadata": {
        "id": "a441d297",
        "run_control": {
          "frozen": false,
          "read_only": false
        }
      },
      "source": [
        "#### Задание 3\n",
        "\n",
        "* Есть ли в данных пропуски? В каких колонках?"
      ]
    },
    {
      "cell_type": "code",
      "execution_count": 92,
      "id": "b1449c7e",
      "metadata": {
        "id": "b1449c7e",
        "run_control": {
          "frozen": false,
          "read_only": false
        },
        "scrolled": true
      },
      "outputs": [
        {
          "data": {
            "text/plain": [
              "country              200\n",
              "video_id               0\n",
              "title                  0\n",
              "publishedAt            0\n",
              "channelId              0\n",
              "channelTitle           0\n",
              "categoryId             0\n",
              "trending_date          0\n",
              "tags                   0\n",
              "view_count             0\n",
              "comment_count          0\n",
              "thumbnail_link         0\n",
              "comments_disabled      0\n",
              "ratings_disabled       0\n",
              "description          131\n",
              "dtype: int64"
            ]
          },
          "execution_count": 92,
          "metadata": {},
          "output_type": "execute_result"
        }
      ],
      "source": [
        "# Your code here\n",
        "df.isna().sum()"
      ]
    },
    {
      "cell_type": "code",
      "execution_count": 93,
      "id": "0a6826db",
      "metadata": {},
      "outputs": [
        {
          "data": {
            "text/plain": [
              "country              object\n",
              "video_id             object\n",
              "title                object\n",
              "publishedAt          object\n",
              "channelId            object\n",
              "channelTitle         object\n",
              "categoryId            int64\n",
              "trending_date        object\n",
              "tags                 object\n",
              "view_count            int64\n",
              "comment_count         int64\n",
              "thumbnail_link       object\n",
              "comments_disabled      bool\n",
              "ratings_disabled       bool\n",
              "description          object\n",
              "dtype: object"
            ]
          },
          "execution_count": 93,
          "metadata": {},
          "output_type": "execute_result"
        }
      ],
      "source": [
        "df.dtypes"
      ]
    },
    {
      "cell_type": "markdown",
      "id": "ae88b3e9",
      "metadata": {
        "id": "ae88b3e9",
        "run_control": {
          "frozen": false,
          "read_only": false
        }
      },
      "source": [
        "**Ответ**: country 200, description 131"
      ]
    },
    {
      "cell_type": "code",
      "execution_count": 94,
      "id": "dfc97fb6",
      "metadata": {},
      "outputs": [],
      "source": [
        "df.fillna(\n",
        "    {\n",
        "        \"description\": \" \",\n",
        "    },\n",
        "    inplace=True,\n",
        ")"
      ]
    },
    {
      "cell_type": "code",
      "execution_count": 113,
      "id": "1bda026a",
      "metadata": {},
      "outputs": [],
      "source": [
        "df = df.dropna()"
      ]
    },
    {
      "cell_type": "markdown",
      "id": "3358a958",
      "metadata": {
        "id": "3358a958",
        "run_control": {
          "frozen": false,
          "read_only": false
        }
      },
      "source": [
        "Заполните пропуски пустой строкой для текстовых колонок, и удалите строки с пропусками для колонок с категориальными значениями.\n",
        "\n",
        "**Внимание!** Для проверки корректности выведите кол-во пропусков во всех столбцах и общее кол-во строк в таблице - должна быть 3021 запись. Ошибка при удалении строк может привести к неправильному выполнению следующих заданий."
      ]
    },
    {
      "cell_type": "code",
      "execution_count": 114,
      "id": "a232aeae",
      "metadata": {},
      "outputs": [
        {
          "data": {
            "text/plain": [
              "(3021, 15)"
            ]
          },
          "execution_count": 114,
          "metadata": {},
          "output_type": "execute_result"
        }
      ],
      "source": [
        "df.shape"
      ]
    },
    {
      "cell_type": "code",
      "execution_count": 115,
      "id": "8w8us5plN_kd",
      "metadata": {
        "id": "8w8us5plN_kd"
      },
      "outputs": [
        {
          "name": "stderr",
          "output_type": "stream",
          "text": [
            "<>:1: SyntaxWarning: assertion is always true, perhaps remove parentheses?\n",
            "<>:1: SyntaxWarning: assertion is always true, perhaps remove parentheses?\n",
            "C:\\Users\\janep\\AppData\\Local\\Temp\\ipykernel_13496\\1825482647.py:1: SyntaxWarning: assertion is always true, perhaps remove parentheses?\n",
            "  assert(df.shape[0] == 3021, \"Проверьте правильность выполнения задания.\")\n"
          ]
        }
      ],
      "source": [
        "assert(df.shape[0] == 3021, \"Проверьте правильность выполнения задания.\")"
      ]
    },
    {
      "cell_type": "markdown",
      "id": "e22bc689",
      "metadata": {
        "id": "e22bc689",
        "run_control": {
          "frozen": false,
          "read_only": false
        }
      },
      "source": [
        "#### Задание 4 \n",
        "\n",
        "Посмотрите на колонку publishedAt\n",
        "* Какого она типа?\n",
        "* Измените тип колонки на datetime. Покажите, что после изменения колонка действительно имеет тип datetime.\n",
        "* В какой месяц было добавлено больше всего видеороликов?"
      ]
    },
    {
      "cell_type": "code",
      "execution_count": 117,
      "id": "fb5d5d9b",
      "metadata": {
        "id": "fb5d5d9b",
        "run_control": {
          "frozen": false,
          "read_only": false
        }
      },
      "outputs": [
        {
          "data": {
            "text/plain": [
              "dtype('O')"
            ]
          },
          "execution_count": 117,
          "metadata": {},
          "output_type": "execute_result"
        }
      ],
      "source": [
        "# Your code here\n",
        "df['publishedAt'].dtype"
      ]
    },
    {
      "cell_type": "markdown",
      "id": "709fe827",
      "metadata": {
        "id": "709fe827",
        "run_control": {
          "frozen": false,
          "read_only": false
        }
      },
      "source": [
        "**Ответ**:\n",
        "1. ВАШ ОТВЕТ ЗДЕСЬ\n",
        "2. ВАШ ОТВЕТ ЗДЕСЬ"
      ]
    },
    {
      "cell_type": "markdown",
      "id": "abbf2da2",
      "metadata": {
        "id": "abbf2da2",
        "run_control": {
          "frozen": false,
          "read_only": false
        }
      },
      "source": [
        "#### Задание 5 \n",
        "\n",
        "Посмотрите на колонку description.\n",
        "* Переведите строки в нижний регистр и обрежьте ненужные пробелы справа и слева.\n",
        "* Замените url-адреса  в описаниях на специальный тэг \\<URL\\>.\n",
        "* Выведите полностью description для видеоролика с video_id = 'Oxexirlmdig'."
      ]
    },
    {
      "cell_type": "code",
      "execution_count": null,
      "id": "oA4j4okecJ08",
      "metadata": {
        "id": "oA4j4okecJ08"
      },
      "outputs": [],
      "source": [
        "pattern = r'http\\S+'"
      ]
    },
    {
      "cell_type": "code",
      "execution_count": null,
      "id": "abef9a9d",
      "metadata": {
        "id": "abef9a9d",
        "run_control": {
          "frozen": false,
          "read_only": false
        }
      },
      "outputs": [],
      "source": [
        "# Your code here"
      ]
    },
    {
      "cell_type": "markdown",
      "id": "b7e65aef",
      "metadata": {
        "id": "b7e65aef",
        "run_control": {
          "frozen": false,
          "read_only": false
        }
      },
      "source": [
        "#### Задание 6 \n",
        "* Какие 5 роликов набрали в Италии (country='IT') наибольшее число просмотров (колонка view_count)? В качестве ответа приведите названия каналов с соответствующими роликами (колонка channelTitle) в порядке убывания числа просмотров полученных роликов.\n",
        "\n",
        "Для решения воспользуйтесь функцией [sort_values](https://pandas.pydata.org/pandas-docs/stable/reference/api/pandas.DataFrame.sort_values.html)."
      ]
    },
    {
      "cell_type": "code",
      "execution_count": null,
      "id": "be47af0b",
      "metadata": {
        "id": "be47af0b",
        "run_control": {
          "frozen": false,
          "read_only": false
        }
      },
      "outputs": [],
      "source": [
        "# Your code here"
      ]
    },
    {
      "cell_type": "markdown",
      "id": "5fc10b5f",
      "metadata": {
        "id": "5fc10b5f",
        "run_control": {
          "frozen": false,
          "read_only": false
        }
      },
      "source": [
        "**Ответ**: ВАШ ОТВЕТ ЗДЕСЬ"
      ]
    },
    {
      "cell_type": "markdown",
      "id": "81878fa6",
      "metadata": {
        "id": "81878fa6",
        "run_control": {
          "frozen": false,
          "read_only": false
        }
      },
      "source": [
        "#### Задание 7 \n",
        "* Какой видеоролик был опубликован в наибольшем кол-ве стран? В качестве ответа привeдите название видеоролика (колонка title).\n",
        "\n",
        "Для решения могут помочь функции [groupby](https://pandas.pydata.org/pandas-docs/stable/reference/api/pandas.DataFrame.groupby.html) и [sort_values](https://pandas.pydata.org/pandas-docs/stable/reference/api/pandas.DataFrame.sort_values.html)."
      ]
    },
    {
      "cell_type": "code",
      "execution_count": null,
      "id": "4b20a67a",
      "metadata": {
        "id": "4b20a67a",
        "run_control": {
          "frozen": false,
          "read_only": false
        },
        "scrolled": true
      },
      "outputs": [],
      "source": [
        "# Your code here"
      ]
    },
    {
      "cell_type": "markdown",
      "id": "07f9f3f5",
      "metadata": {
        "id": "07f9f3f5",
        "run_control": {
          "frozen": false,
          "read_only": false
        }
      },
      "source": [
        "**Ответ**: ВАШ ОТВЕТ ЗДЕСЬ"
      ]
    },
    {
      "cell_type": "markdown",
      "id": "1e776613",
      "metadata": {
        "id": "1e776613",
        "run_control": {
          "frozen": false,
          "read_only": false
        }
      },
      "source": [
        "#### Задание 8\n",
        "* Какое максимальное число просмотров (колонка view_count) у видеороликов, выпущенных во Франции или Италии (в колонке country значениe FR или IT) в июле (колонка publishedAt)?\n",
        "\n",
        "Необходимо придумать решение в одну строку, используя для выбора строк несколько условий, объединенных с помощью | вместо or, & вместо and и ~ вместо not, а также используя функцию [isin](https://pandas.pydata.org/pandas-docs/stable/reference/api/pandas.DataFrame.isin.html)."
      ]
    },
    {
      "cell_type": "code",
      "execution_count": null,
      "id": "ee71c86b",
      "metadata": {
        "id": "ee71c86b",
        "run_control": {
          "frozen": false,
          "read_only": false
        }
      },
      "outputs": [],
      "source": [
        "# Your code here"
      ]
    },
    {
      "cell_type": "markdown",
      "id": "c8260b3f",
      "metadata": {
        "id": "c8260b3f",
        "run_control": {
          "frozen": false,
          "read_only": false
        }
      },
      "source": [
        "**Ответ**: ВАШ ОТВЕТ ЗДЕСЬ"
      ]
    },
    {
      "cell_type": "markdown",
      "id": "c046a2da",
      "metadata": {
        "id": "c046a2da",
        "run_control": {
          "frozen": false,
          "read_only": false
        }
      },
      "source": [
        "#### Задание 9 \n",
        "* Посмотрите на названия каналов из 17 категории (колонка categoryId). Как вы думаете, что это за категория?\n",
        "* Предположим, что была допущена ошибка, и все видеоролики из 17 категории, относятся к 16 категории. Исправьте нужные значения в колонке categoryId, после чего выведите все уникальные категории.\n",
        "\n",
        "Обратите внимание, что при выборе полей с помощью оператора индексирования \\[\\] возвращается копия выбранных значений. При попытке присвоить таким образом новые значения для некоторых полей таблицы, будет выдано предупреждение. Более надежный способ - использовать операторы loc и iloc."
      ]
    },
    {
      "cell_type": "code",
      "execution_count": null,
      "id": "903a52aa",
      "metadata": {
        "id": "903a52aa",
        "run_control": {
          "frozen": false,
          "read_only": false
        }
      },
      "outputs": [],
      "source": [
        "# Your code here"
      ]
    },
    {
      "cell_type": "markdown",
      "id": "8rSEkT74gefG",
      "metadata": {
        "id": "8rSEkT74gefG"
      },
      "source": [
        "**Ответ**: ВАШ ОТВЕТ ЗДЕСЬ"
      ]
    },
    {
      "cell_type": "markdown",
      "id": "1d639ee0",
      "metadata": {
        "id": "1d639ee0",
        "run_control": {
          "frozen": false,
          "read_only": false
        }
      },
      "source": [
        "#### Задание 10 \n",
        "Посмотрите на колонку tags.\n",
        "\n",
        "* Замените строки со значением '[none]' на пустую строку.\n",
        "* Какой самый популярный тэг? Обратите внимание, что у каждого видеоролика может быть более 1 тэга.\n",
        "\n",
        "**Подсказка 1**\n",
        "\n",
        "Чтобы получить правильное значение, не забудьте обработать множество тэгов - убрать пробельные символы по краям и привести строки в нижний регистр.\n",
        "\n",
        "**Подсказка 2**\n",
        "\n",
        "Нужный тэг встречается больше 130 раз."
      ]
    },
    {
      "cell_type": "code",
      "execution_count": null,
      "id": "32d33e19",
      "metadata": {
        "id": "32d33e19",
        "run_control": {
          "frozen": false,
          "read_only": false
        }
      },
      "outputs": [],
      "source": [
        "# Your code here"
      ]
    },
    {
      "cell_type": "markdown",
      "id": "6a1fec21",
      "metadata": {
        "id": "6a1fec21",
        "run_control": {
          "frozen": false,
          "read_only": false
        }
      },
      "source": [
        "**Ответ**: ВАШ ОТВЕТ ЗДЕСЬ"
      ]
    },
    {
      "cell_type": "markdown",
      "id": "b91b39da",
      "metadata": {
        "id": "b91b39da",
        "run_control": {
          "frozen": false,
          "read_only": false
        }
      },
      "source": [
        "# Часть 2. Визуализация данных"
      ]
    },
    {
      "cell_type": "markdown",
      "id": "2b9bcc9c",
      "metadata": {
        "id": "2b9bcc9c",
        "run_control": {
          "frozen": false,
          "read_only": false
        }
      },
      "source": [
        "\n",
        "### Оформление графиков\n",
        "\n",
        "Важно, чтобы все графики выглядели опрятно и соответствовали следующим правилам:\n",
        "\n",
        "- должно быть название (plt.title) графика;\n",
        "- на графиках должны быть подписаны оси (plt.xlabel, plt.ylabel);\n",
        "- должны быть подписаны единицы измерения (если это возможно);\n",
        "- все названия должны быть понятны любому человеку, знакомому с терминологией, без заглядывания в код;\n",
        "- подписи тиков на осях не должны сливаться как на одной оси, так и между ними;\n",
        "- если изображено несколько сущностей на одном холсте (например несколько функций), то необходима поясняющая легенда (plt.legend);\n",
        "- все линии на графиках должны быть чётко видны (нет похожих цветов или цветов, сливающихся с фоном);\n",
        "- если отображена величина, имеющая очевидный диапазон значений (например, проценты могут быть от 0 до 100), то желательно масштабировать ось на весь диапазон значений (исключением является случай, когда вам необходимо показать малое отличие, которое незаметно в таких масштабах);\n",
        "- графики должны быть не супер-микро и не супер-макро по размерам, так, чтобы можно было увидеть все, что нужно.\n",
        "- при необходимости улучшения наглядности графиков, можно пользоваться логарифмической шкалой по осям x/y."
      ]
    },
    {
      "cell_type": "code",
      "execution_count": null,
      "id": "d2920a94",
      "metadata": {
        "id": "d2920a94",
        "run_control": {
          "frozen": false,
          "read_only": false
        }
      },
      "outputs": [],
      "source": [
        "import matplotlib\n",
        "import matplotlib.pyplot as plt\n",
        "\n",
        "#отображение графиков в ноутбуке\n",
        "%matplotlib inline\n",
        "\n",
        "#для четкой прорисовки графиков - осторожно!!! Может съедать много памяти\n",
        "#закоменьте эту строку, если это случилось\n",
        "%config InlineBackend.figure_format = 'svg'"
      ]
    },
    {
      "cell_type": "markdown",
      "id": "1fb6a2ef",
      "metadata": {
        "id": "1fb6a2ef",
        "run_control": {
          "frozen": false,
          "read_only": false
        }
      },
      "source": [
        "### Задание 1\n",
        "\n",
        "Постройте график (line plot) зависимости кол-ва выпущенных роликов от даты публикации.\n",
        "\n",
        "Обратите внимание, что один и тот же ролик может быть опубликован в нескольких странах, и ему может соответствовать несколько строк в таблице. На графике необходимо учесть каждый ролик только 1 раз."
      ]
    },
    {
      "cell_type": "code",
      "execution_count": null,
      "id": "f44c3111",
      "metadata": {
        "id": "f44c3111",
        "run_control": {
          "frozen": false,
          "read_only": false
        }
      },
      "outputs": [],
      "source": [
        "# Your code here"
      ]
    },
    {
      "cell_type": "markdown",
      "id": "ee7f4e09",
      "metadata": {
        "id": "ee7f4e09",
        "run_control": {
          "frozen": false,
          "read_only": false
        }
      },
      "source": [
        "### Задание 2\n",
        "Постройте диаграмму  (bar plot) кол-ва опубликованных роликов в зависимости от страны."
      ]
    },
    {
      "cell_type": "code",
      "execution_count": null,
      "id": "6414d970",
      "metadata": {
        "id": "6414d970",
        "run_control": {
          "frozen": false,
          "read_only": false
        }
      },
      "outputs": [],
      "source": [
        "# Your code here"
      ]
    },
    {
      "cell_type": "markdown",
      "id": "e28d57d4",
      "metadata": {
        "id": "e28d57d4",
        "run_control": {
          "frozen": false,
          "read_only": false
        }
      },
      "source": [
        "### Задание 3 \n",
        "Постройте график (scatter plot) зависимости кол-ва комментариев для ролика от кол-ва просмотров для роликов во Франции (country='FR'). На графике не нужно учитывать ролики с отключенными комментариями (comments_disabled=True). Какой характер зависмости получился?"
      ]
    },
    {
      "cell_type": "code",
      "execution_count": null,
      "id": "afffd617",
      "metadata": {
        "id": "afffd617",
        "run_control": {
          "frozen": false,
          "read_only": false
        }
      },
      "outputs": [],
      "source": [
        "# Your code here"
      ]
    },
    {
      "cell_type": "markdown",
      "id": "5v6kHLsIc83C",
      "metadata": {
        "id": "5v6kHLsIc83C"
      },
      "source": [
        "**Ответ**: ВАШ ОТВЕТ ЗДЕСЬ"
      ]
    }
  ],
  "metadata": {
    "colab": {
      "provenance": []
    },
    "hide_input": false,
    "kernelspec": {
      "display_name": "Python 3",
      "language": "python",
      "name": "python3"
    },
    "language_info": {
      "codemirror_mode": {
        "name": "ipython",
        "version": 3
      },
      "file_extension": ".py",
      "mimetype": "text/x-python",
      "name": "python",
      "nbconvert_exporter": "python",
      "pygments_lexer": "ipython3",
      "version": "3.12.7"
    }
  },
  "nbformat": 4,
  "nbformat_minor": 5
}
