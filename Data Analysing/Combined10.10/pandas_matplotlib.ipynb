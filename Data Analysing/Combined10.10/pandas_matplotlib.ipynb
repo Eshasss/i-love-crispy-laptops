{
  "cells": [
    {
      "cell_type": "markdown",
      "id": "lCSve2V79VyV",
      "metadata": {
        "id": "lCSve2V79VyV"
      },
      "source": [
        "## Практическое задание: pandas + matplotlib"
      ]
    },
    {
      "cell_type": "code",
      "execution_count": 216,
      "id": "cf3f277e",
      "metadata": {},
      "outputs": [
        {
          "name": "stdout",
          "output_type": "stream",
          "text": [
            "Defaulting to user installation because normal site-packages is not writeable\n",
            "Requirement already satisfied: pandas in c:\\users\\examen\\appdata\\roaming\\python\\python311\\site-packages (2.2.3)\n",
            "Requirement already satisfied: matplotlib in c:\\users\\examen\\appdata\\roaming\\python\\python311\\site-packages (3.9.2)\n",
            "Requirement already satisfied: gdown in c:\\users\\examen\\appdata\\roaming\\python\\python311\\site-packages (5.2.0)\n",
            "Requirement already satisfied: numpy>=1.23.2 in c:\\users\\examen\\appdata\\roaming\\python\\python311\\site-packages (from pandas) (2.1.2)\n",
            "Requirement already satisfied: python-dateutil>=2.8.2 in c:\\users\\examen\\appdata\\roaming\\python\\python311\\site-packages (from pandas) (2.9.0.post0)\n",
            "Requirement already satisfied: pytz>=2020.1 in c:\\users\\examen\\appdata\\roaming\\python\\python311\\site-packages (from pandas) (2024.2)\n",
            "Requirement already satisfied: tzdata>=2022.7 in c:\\users\\examen\\appdata\\roaming\\python\\python311\\site-packages (from pandas) (2024.2)\n",
            "Requirement already satisfied: contourpy>=1.0.1 in c:\\users\\examen\\appdata\\roaming\\python\\python311\\site-packages (from matplotlib) (1.3.0)\n",
            "Requirement already satisfied: cycler>=0.10 in c:\\users\\examen\\appdata\\roaming\\python\\python311\\site-packages (from matplotlib) (0.12.1)\n",
            "Requirement already satisfied: fonttools>=4.22.0 in c:\\users\\examen\\appdata\\roaming\\python\\python311\\site-packages (from matplotlib) (4.54.1)\n",
            "Requirement already satisfied: kiwisolver>=1.3.1 in c:\\users\\examen\\appdata\\roaming\\python\\python311\\site-packages (from matplotlib) (1.4.7)\n",
            "Requirement already satisfied: packaging>=20.0 in c:\\users\\examen\\appdata\\roaming\\python\\python311\\site-packages (from matplotlib) (24.1)\n",
            "Requirement already satisfied: pillow>=8 in c:\\users\\examen\\appdata\\roaming\\python\\python311\\site-packages (from matplotlib) (11.0.0)\n",
            "Requirement already satisfied: pyparsing>=2.3.1 in c:\\users\\examen\\appdata\\roaming\\python\\python311\\site-packages (from matplotlib) (3.2.0)\n",
            "Requirement already satisfied: beautifulsoup4 in c:\\users\\examen\\appdata\\roaming\\python\\python311\\site-packages (from gdown) (4.12.3)\n",
            "Requirement already satisfied: filelock in c:\\users\\examen\\appdata\\roaming\\python\\python311\\site-packages (from gdown) (3.16.1)\n",
            "Requirement already satisfied: requests[socks] in c:\\users\\examen\\appdata\\roaming\\python\\python311\\site-packages (from gdown) (2.32.3)\n",
            "Requirement already satisfied: tqdm in c:\\users\\examen\\appdata\\roaming\\python\\python311\\site-packages (from gdown) (4.66.5)\n",
            "Requirement already satisfied: six>=1.5 in c:\\users\\examen\\appdata\\roaming\\python\\python311\\site-packages (from python-dateutil>=2.8.2->pandas) (1.16.0)\n",
            "Requirement already satisfied: soupsieve>1.2 in c:\\users\\examen\\appdata\\roaming\\python\\python311\\site-packages (from beautifulsoup4->gdown) (2.6)\n",
            "Requirement already satisfied: charset-normalizer<4,>=2 in c:\\users\\examen\\appdata\\roaming\\python\\python311\\site-packages (from requests[socks]->gdown) (3.4.0)\n",
            "Requirement already satisfied: idna<4,>=2.5 in c:\\users\\examen\\appdata\\roaming\\python\\python311\\site-packages (from requests[socks]->gdown) (3.10)\n",
            "Requirement already satisfied: urllib3<3,>=1.21.1 in c:\\users\\examen\\appdata\\roaming\\python\\python311\\site-packages (from requests[socks]->gdown) (2.2.3)\n",
            "Requirement already satisfied: certifi>=2017.4.17 in c:\\users\\examen\\appdata\\roaming\\python\\python311\\site-packages (from requests[socks]->gdown) (2024.8.30)\n",
            "Requirement already satisfied: PySocks!=1.5.7,>=1.5.6 in c:\\users\\examen\\appdata\\roaming\\python\\python311\\site-packages (from requests[socks]->gdown) (1.7.1)\n",
            "Requirement already satisfied: colorama in c:\\users\\examen\\appdata\\roaming\\python\\python311\\site-packages (from tqdm->gdown) (0.4.6)\n"
          ]
        },
        {
          "name": "stderr",
          "output_type": "stream",
          "text": [
            "\n",
            "[notice] A new release of pip available: 22.3.1 -> 24.2\n",
            "[notice] To update, run: python.exe -m pip install --upgrade pip\n"
          ]
        }
      ],
      "source": [
        "!pip install pandas matplotlib gdown"
      ]
    },
    {
      "cell_type": "markdown",
      "id": "940161ce",
      "metadata": {
        "id": "940161ce",
        "run_control": {
          "frozen": false,
          "read_only": false
        }
      },
      "source": [
        "# Часть 1. Pandas"
      ]
    },
    {
      "cell_type": "code",
      "execution_count": 217,
      "id": "044f67ae",
      "metadata": {
        "id": "044f67ae",
        "run_control": {
          "frozen": false,
          "read_only": false
        }
      },
      "outputs": [],
      "source": [
        "import pandas as pd"
      ]
    },
    {
      "cell_type": "code",
      "execution_count": 218,
      "id": "5fb1448d",
      "metadata": {},
      "outputs": [
        {
          "name": "stdout",
          "output_type": "stream",
          "text": [
            "Defaulting to user installation because normal site-packages is not writeable\n",
            "Requirement already satisfied: gdown in c:\\users\\examen\\appdata\\roaming\\python\\python311\\site-packages (5.2.0)\n",
            "Requirement already satisfied: beautifulsoup4 in c:\\users\\examen\\appdata\\roaming\\python\\python311\\site-packages (from gdown) (4.12.3)\n",
            "Requirement already satisfied: filelock in c:\\users\\examen\\appdata\\roaming\\python\\python311\\site-packages (from gdown) (3.16.1)\n",
            "Requirement already satisfied: requests[socks] in c:\\users\\examen\\appdata\\roaming\\python\\python311\\site-packages (from gdown) (2.32.3)\n",
            "Requirement already satisfied: tqdm in c:\\users\\examen\\appdata\\roaming\\python\\python311\\site-packages (from gdown) (4.66.5)\n",
            "Requirement already satisfied: soupsieve>1.2 in c:\\users\\examen\\appdata\\roaming\\python\\python311\\site-packages (from beautifulsoup4->gdown) (2.6)\n",
            "Requirement already satisfied: charset-normalizer<4,>=2 in c:\\users\\examen\\appdata\\roaming\\python\\python311\\site-packages (from requests[socks]->gdown) (3.4.0)\n",
            "Requirement already satisfied: idna<4,>=2.5 in c:\\users\\examen\\appdata\\roaming\\python\\python311\\site-packages (from requests[socks]->gdown) (3.10)\n",
            "Requirement already satisfied: urllib3<3,>=1.21.1 in c:\\users\\examen\\appdata\\roaming\\python\\python311\\site-packages (from requests[socks]->gdown) (2.2.3)\n",
            "Requirement already satisfied: certifi>=2017.4.17 in c:\\users\\examen\\appdata\\roaming\\python\\python311\\site-packages (from requests[socks]->gdown) (2024.8.30)\n",
            "Requirement already satisfied: PySocks!=1.5.7,>=1.5.6 in c:\\users\\examen\\appdata\\roaming\\python\\python311\\site-packages (from requests[socks]->gdown) (1.7.1)\n",
            "Requirement already satisfied: colorama in c:\\users\\examen\\appdata\\roaming\\python\\python311\\site-packages (from tqdm->gdown) (0.4.6)\n"
          ]
        },
        {
          "name": "stderr",
          "output_type": "stream",
          "text": [
            "\n",
            "[notice] A new release of pip available: 22.3.1 -> 24.2\n",
            "[notice] To update, run: python.exe -m pip install --upgrade pip\n"
          ]
        }
      ],
      "source": [
        "!pip install --upgrade --no-cache-dir gdown"
      ]
    },
    {
      "cell_type": "code",
      "execution_count": 219,
      "id": "Sgb_YbNxa131",
      "metadata": {
        "id": "Sgb_YbNxa131"
      },
      "outputs": [
        {
          "name": "stderr",
          "output_type": "stream",
          "text": [
            "\"gdown\" �� ���� ����७��� ��� ���譥�\n",
            "��������, �ᯮ��塞�� �ணࠬ��� ��� ������ 䠩���.\n",
            "\"confirm\" �� ���� ����७��� ��� ���譥�\n",
            "��������, �ᯮ��塞�� �ணࠬ��� ��� ������ 䠩���.\n"
          ]
        }
      ],
      "source": [
        "!gdown 1sA-fqJb1WxhS_jaYDcIwXWa_b8b2oZJ6&confirm=t"
      ]
    },
    {
      "cell_type": "code",
      "execution_count": 220,
      "id": "2216fa8d",
      "metadata": {
        "id": "2216fa8d",
        "run_control": {
          "frozen": false,
          "read_only": false
        }
      },
      "outputs": [
        {
          "data": {
            "text/html": [
              "<div>\n",
              "<style scoped>\n",
              "    .dataframe tbody tr th:only-of-type {\n",
              "        vertical-align: middle;\n",
              "    }\n",
              "\n",
              "    .dataframe tbody tr th {\n",
              "        vertical-align: top;\n",
              "    }\n",
              "\n",
              "    .dataframe thead th {\n",
              "        text-align: right;\n",
              "    }\n",
              "</style>\n",
              "<table border=\"1\" class=\"dataframe\">\n",
              "  <thead>\n",
              "    <tr style=\"text-align: right;\">\n",
              "      <th></th>\n",
              "      <th>country</th>\n",
              "      <th>video_id</th>\n",
              "      <th>title</th>\n",
              "      <th>publishedAt</th>\n",
              "      <th>channelId</th>\n",
              "      <th>channelTitle</th>\n",
              "      <th>categoryId</th>\n",
              "      <th>trending_date</th>\n",
              "      <th>tags</th>\n",
              "      <th>view_count</th>\n",
              "      <th>comment_count</th>\n",
              "      <th>thumbnail_link</th>\n",
              "      <th>comments_disabled</th>\n",
              "      <th>ratings_disabled</th>\n",
              "      <th>description</th>\n",
              "    </tr>\n",
              "  </thead>\n",
              "  <tbody>\n",
              "    <tr>\n",
              "      <th>3216</th>\n",
              "      <td>NaN</td>\n",
              "      <td>eB-A1Y0Dswc</td>\n",
              "      <td>Thank you for watching</td>\n",
              "      <td>2022-07-05T21:18:33Z</td>\n",
              "      <td>UCS5tt2z_DFvG7-39J3aE-bQ</td>\n",
              "      <td>Life of Boris</td>\n",
              "      <td>22</td>\n",
              "      <td>22.11.07</td>\n",
              "      <td>lifeofboris|life of boris|english subtitles|ye...</td>\n",
              "      <td>864216</td>\n",
              "      <td>14431</td>\n",
              "      <td>https://i.ytimg.com/vi/eB-A1Y0Dswc/default.jpg</td>\n",
              "      <td>False</td>\n",
              "      <td>True</td>\n",
              "      <td>New channel: https://www.youtube.com/channel/U...</td>\n",
              "    </tr>\n",
              "    <tr>\n",
              "      <th>3217</th>\n",
              "      <td>NaN</td>\n",
              "      <td>KJGTtzccOHU</td>\n",
              "      <td>Pokemon Emerald but every battle is extremely ...</td>\n",
              "      <td>2022-07-05T01:55:10Z</td>\n",
              "      <td>UC0VVYtw21rg2cokUystu2Dw</td>\n",
              "      <td>SmallAnt</td>\n",
              "      <td>20</td>\n",
              "      <td>22.11.07</td>\n",
              "      <td>pokemon|smallant|smallant1|challenge|pokemon c...</td>\n",
              "      <td>1311698</td>\n",
              "      <td>1232</td>\n",
              "      <td>https://i.ytimg.com/vi/KJGTtzccOHU/default.jpg</td>\n",
              "      <td>False</td>\n",
              "      <td>True</td>\n",
              "      <td>Pokemon emerald but every battle is a 1v2You s...</td>\n",
              "    </tr>\n",
              "    <tr>\n",
              "      <th>3218</th>\n",
              "      <td>NaN</td>\n",
              "      <td>be8mqaTi_DI</td>\n",
              "      <td>Victor Cibrian x Fuerza Regida x Luis R Conriq...</td>\n",
              "      <td>2022-07-04T21:00:36Z</td>\n",
              "      <td>UC648rgJOboZlgcDbW00vTSA</td>\n",
              "      <td>Rancho Humilde</td>\n",
              "      <td>10</td>\n",
              "      <td>22.11.07</td>\n",
              "      <td>Rancho Humilde|Legado 7|El De La Guitarra|Fuer...</td>\n",
              "      <td>2256933</td>\n",
              "      <td>597</td>\n",
              "      <td>https://i.ytimg.com/vi/be8mqaTi_DI/default.jpg</td>\n",
              "      <td>False</td>\n",
              "      <td>True</td>\n",
              "      <td>SuscrÃ­bete: https://Rancho.lnk.to/RHYoutube\\r...</td>\n",
              "    </tr>\n",
              "    <tr>\n",
              "      <th>3219</th>\n",
              "      <td>NaN</td>\n",
              "      <td>14aYHc7ybu0</td>\n",
              "      <td>WE STAYED AT A 1 STAR HOTEL FOR 24 HOURS | coc...</td>\n",
              "      <td>2022-07-05T13:40:04Z</td>\n",
              "      <td>UCSGoIq_tVESqNYF1Re-zn1Q</td>\n",
              "      <td>HJ Evelyn</td>\n",
              "      <td>24</td>\n",
              "      <td>22.11.07</td>\n",
              "      <td>hjevelyn|Evelyn ha|Emily ha|erica ha|korean si...</td>\n",
              "      <td>922668</td>\n",
              "      <td>2951</td>\n",
              "      <td>https://i.ytimg.com/vi/14aYHc7ybu0/default.jpg</td>\n",
              "      <td>False</td>\n",
              "      <td>True</td>\n",
              "      <td>never again ahaha.... CHECK OUT OUR MERCH: htt...</td>\n",
              "    </tr>\n",
              "    <tr>\n",
              "      <th>3220</th>\n",
              "      <td>NaN</td>\n",
              "      <td>mQ9eFI13NCQ</td>\n",
              "      <td>I 100%'d Cuphead: The Delicious Last Course, H...</td>\n",
              "      <td>2022-07-04T16:04:33Z</td>\n",
              "      <td>UCRgzckrm1Svf-Y_dIWsTPTg</td>\n",
              "      <td>The Andrew Collette Show</td>\n",
              "      <td>20</td>\n",
              "      <td>22.11.07</td>\n",
              "      <td>cuphead|cuphead dlc|cuphead the delicious last...</td>\n",
              "      <td>1176289</td>\n",
              "      <td>620</td>\n",
              "      <td>https://i.ytimg.com/vi/mQ9eFI13NCQ/default.jpg</td>\n",
              "      <td>False</td>\n",
              "      <td>True</td>\n",
              "      <td>My Cuphead: The Delicious Last Course Let's Pl...</td>\n",
              "    </tr>\n",
              "  </tbody>\n",
              "</table>\n",
              "</div>"
            ],
            "text/plain": [
              "     country     video_id                                              title  \\\n",
              "3216     NaN  eB-A1Y0Dswc                             Thank you for watching   \n",
              "3217     NaN  KJGTtzccOHU  Pokemon Emerald but every battle is extremely ...   \n",
              "3218     NaN  be8mqaTi_DI  Victor Cibrian x Fuerza Regida x Luis R Conriq...   \n",
              "3219     NaN  14aYHc7ybu0  WE STAYED AT A 1 STAR HOTEL FOR 24 HOURS | coc...   \n",
              "3220     NaN  mQ9eFI13NCQ  I 100%'d Cuphead: The Delicious Last Course, H...   \n",
              "\n",
              "               publishedAt                 channelId  \\\n",
              "3216  2022-07-05T21:18:33Z  UCS5tt2z_DFvG7-39J3aE-bQ   \n",
              "3217  2022-07-05T01:55:10Z  UC0VVYtw21rg2cokUystu2Dw   \n",
              "3218  2022-07-04T21:00:36Z  UC648rgJOboZlgcDbW00vTSA   \n",
              "3219  2022-07-05T13:40:04Z  UCSGoIq_tVESqNYF1Re-zn1Q   \n",
              "3220  2022-07-04T16:04:33Z  UCRgzckrm1Svf-Y_dIWsTPTg   \n",
              "\n",
              "                  channelTitle  categoryId trending_date  \\\n",
              "3216             Life of Boris          22      22.11.07   \n",
              "3217                  SmallAnt          20      22.11.07   \n",
              "3218            Rancho Humilde          10      22.11.07   \n",
              "3219                 HJ Evelyn          24      22.11.07   \n",
              "3220  The Andrew Collette Show          20      22.11.07   \n",
              "\n",
              "                                                   tags  view_count  \\\n",
              "3216  lifeofboris|life of boris|english subtitles|ye...      864216   \n",
              "3217  pokemon|smallant|smallant1|challenge|pokemon c...     1311698   \n",
              "3218  Rancho Humilde|Legado 7|El De La Guitarra|Fuer...     2256933   \n",
              "3219  hjevelyn|Evelyn ha|Emily ha|erica ha|korean si...      922668   \n",
              "3220  cuphead|cuphead dlc|cuphead the delicious last...     1176289   \n",
              "\n",
              "      comment_count                                  thumbnail_link  \\\n",
              "3216          14431  https://i.ytimg.com/vi/eB-A1Y0Dswc/default.jpg   \n",
              "3217           1232  https://i.ytimg.com/vi/KJGTtzccOHU/default.jpg   \n",
              "3218            597  https://i.ytimg.com/vi/be8mqaTi_DI/default.jpg   \n",
              "3219           2951  https://i.ytimg.com/vi/14aYHc7ybu0/default.jpg   \n",
              "3220            620  https://i.ytimg.com/vi/mQ9eFI13NCQ/default.jpg   \n",
              "\n",
              "      comments_disabled  ratings_disabled  \\\n",
              "3216              False              True   \n",
              "3217              False              True   \n",
              "3218              False              True   \n",
              "3219              False              True   \n",
              "3220              False              True   \n",
              "\n",
              "                                            description  \n",
              "3216  New channel: https://www.youtube.com/channel/U...  \n",
              "3217  Pokemon emerald but every battle is a 1v2You s...  \n",
              "3218  SuscrÃ­bete: https://Rancho.lnk.to/RHYoutube\\r...  \n",
              "3219  never again ahaha.... CHECK OUT OUR MERCH: htt...  \n",
              "3220  My Cuphead: The Delicious Last Course Let's Pl...  "
            ]
          },
          "execution_count": 220,
          "metadata": {},
          "output_type": "execute_result"
        }
      ],
      "source": [
        "# data = Your code here\n",
        "\n",
        "df = pd.read_csv('youtube_trending_mediterranean.csv', sep = ',', encoding = 'UTF-8')\n",
        "df.tail(5)"
      ]
    },
    {
      "cell_type": "markdown",
      "id": "607cf267",
      "metadata": {
        "id": "607cf267",
        "run_control": {
          "frozen": false,
          "read_only": false
        }
      },
      "source": [
        "#### Задание 1\n",
        "* Откройте файл с таблицей, загруженной выше, и выведите последние 5 строк.\n",
        "* Посмотрите на данные и скажите, что они из себя представляют, сколько в таблице строк и столбцов?"
      ]
    },
    {
      "cell_type": "code",
      "execution_count": 221,
      "id": "ba33ed6b",
      "metadata": {
        "id": "ba33ed6b",
        "run_control": {
          "frozen": false,
          "read_only": false
        }
      },
      "outputs": [
        {
          "data": {
            "text/plain": [
              "(3221, 15)"
            ]
          },
          "execution_count": 221,
          "metadata": {},
          "output_type": "execute_result"
        }
      ],
      "source": [
        "# Your code here\n",
        "df.shape"
      ]
    },
    {
      "cell_type": "markdown",
      "id": "0672fe7f",
      "metadata": {
        "id": "0672fe7f",
        "run_control": {
          "frozen": false,
          "read_only": false
        }
      },
      "source": [
        "**Ответ**: ВАШ ОТВЕТ ЗДЕСЬ"
      ]
    },
    {
      "cell_type": "code",
      "execution_count": 222,
      "id": "658c6ab4",
      "metadata": {},
      "outputs": [
        {
          "data": {
            "text/plain": [
              "country              object\n",
              "video_id             object\n",
              "title                object\n",
              "publishedAt          object\n",
              "channelId            object\n",
              "channelTitle         object\n",
              "categoryId            int64\n",
              "trending_date        object\n",
              "tags                 object\n",
              "view_count            int64\n",
              "comment_count         int64\n",
              "thumbnail_link       object\n",
              "comments_disabled      bool\n",
              "ratings_disabled       bool\n",
              "description          object\n",
              "dtype: object"
            ]
          },
          "execution_count": 222,
          "metadata": {},
          "output_type": "execute_result"
        }
      ],
      "source": [
        "df.dtypes"
      ]
    },
    {
      "cell_type": "markdown",
      "id": "8f6dc4a5",
      "metadata": {
        "id": "8f6dc4a5",
        "run_control": {
          "frozen": false,
          "read_only": false
        }
      },
      "source": [
        "#### Задание 2 \n",
        "\n",
        "Ответьте на вопросы:\n",
        "\n",
        "* Для скольких стран (колонка country) есть информация о видеороликах в таблице (отсутствие страны НЕ учитывается как +1 значение)?\n",
        "* Сколько есть видеороликов (== записей в таблице) c разрешенными и запрещенными комментариями? (колонка comments_disabled). Под видеороликом считаем 1 запись в таблице.\n",
        "* Какое максимальное число просмотров у видеороликов, попавших в таблицу? (колонка view_count)"
      ]
    },
    {
      "cell_type": "code",
      "execution_count": 223,
      "id": "e966fa7b",
      "metadata": {
        "id": "e966fa7b",
        "run_control": {
          "frozen": false,
          "read_only": false
        }
      },
      "outputs": [
        {
          "data": {
            "text/plain": [
              "np.int64(28)"
            ]
          },
          "execution_count": 223,
          "metadata": {},
          "output_type": "execute_result"
        }
      ],
      "source": [
        "# Your code here\n",
        "df.loc[df['comments_disabled'] == True]['comments_disabled'].count()"
      ]
    },
    {
      "cell_type": "code",
      "execution_count": 224,
      "id": "5af96f07",
      "metadata": {},
      "outputs": [
        {
          "data": {
            "text/plain": [
              "np.int64(3193)"
            ]
          },
          "execution_count": 224,
          "metadata": {},
          "output_type": "execute_result"
        }
      ],
      "source": [
        "df.loc[df['comments_disabled'] == False]['comments_disabled'].count()"
      ]
    },
    {
      "cell_type": "code",
      "execution_count": 225,
      "id": "7c016290",
      "metadata": {},
      "outputs": [
        {
          "data": {
            "text/plain": [
              "np.int64(123034293)"
            ]
          },
          "execution_count": 225,
          "metadata": {},
          "output_type": "execute_result"
        }
      ],
      "source": [
        "df['view_count'].max()"
      ]
    },
    {
      "cell_type": "markdown",
      "id": "327f49bc",
      "metadata": {
        "id": "327f49bc",
        "run_control": {
          "frozen": false,
          "read_only": false
        }
      },
      "source": [
        "**Ответ**:\n",
        "1. ВАШ ОТВЕТ ЗДЕСЬ\n",
        "2. Разрешено 28, запрещено 3193\n",
        "3. 123034293"
      ]
    },
    {
      "cell_type": "markdown",
      "id": "a441d297",
      "metadata": {
        "id": "a441d297",
        "run_control": {
          "frozen": false,
          "read_only": false
        }
      },
      "source": [
        "#### Задание 3\n",
        "\n",
        "* Есть ли в данных пропуски? В каких колонках?"
      ]
    },
    {
      "cell_type": "code",
      "execution_count": 226,
      "id": "b1449c7e",
      "metadata": {
        "id": "b1449c7e",
        "run_control": {
          "frozen": false,
          "read_only": false
        },
        "scrolled": true
      },
      "outputs": [
        {
          "data": {
            "text/plain": [
              "country              200\n",
              "video_id               0\n",
              "title                  0\n",
              "publishedAt            0\n",
              "channelId              0\n",
              "channelTitle           0\n",
              "categoryId             0\n",
              "trending_date          0\n",
              "tags                   0\n",
              "view_count             0\n",
              "comment_count          0\n",
              "thumbnail_link         0\n",
              "comments_disabled      0\n",
              "ratings_disabled       0\n",
              "description          131\n",
              "dtype: int64"
            ]
          },
          "execution_count": 226,
          "metadata": {},
          "output_type": "execute_result"
        }
      ],
      "source": [
        "# Your code here\n",
        "df.isna().sum()"
      ]
    },
    {
      "cell_type": "code",
      "execution_count": 227,
      "id": "0a6826db",
      "metadata": {},
      "outputs": [
        {
          "data": {
            "text/plain": [
              "country              object\n",
              "video_id             object\n",
              "title                object\n",
              "publishedAt          object\n",
              "channelId            object\n",
              "channelTitle         object\n",
              "categoryId            int64\n",
              "trending_date        object\n",
              "tags                 object\n",
              "view_count            int64\n",
              "comment_count         int64\n",
              "thumbnail_link       object\n",
              "comments_disabled      bool\n",
              "ratings_disabled       bool\n",
              "description          object\n",
              "dtype: object"
            ]
          },
          "execution_count": 227,
          "metadata": {},
          "output_type": "execute_result"
        }
      ],
      "source": [
        "df.dtypes"
      ]
    },
    {
      "cell_type": "markdown",
      "id": "ae88b3e9",
      "metadata": {
        "id": "ae88b3e9",
        "run_control": {
          "frozen": false,
          "read_only": false
        }
      },
      "source": [
        "**Ответ**: country 200, description 131"
      ]
    },
    {
      "cell_type": "code",
      "execution_count": 228,
      "id": "dfc97fb6",
      "metadata": {},
      "outputs": [],
      "source": [
        "df.fillna(\n",
        "    {\n",
        "        \"description\": \" \",\n",
        "    },\n",
        "    inplace=True,\n",
        ")"
      ]
    },
    {
      "cell_type": "code",
      "execution_count": 229,
      "id": "1bda026a",
      "metadata": {},
      "outputs": [],
      "source": [
        "df = df.dropna()"
      ]
    },
    {
      "cell_type": "markdown",
      "id": "3358a958",
      "metadata": {
        "id": "3358a958",
        "run_control": {
          "frozen": false,
          "read_only": false
        }
      },
      "source": [
        "Заполните пропуски пустой строкой для текстовых колонок, и удалите строки с пропусками для колонок с категориальными значениями.\n",
        "\n",
        "**Внимание!** Для проверки корректности выведите кол-во пропусков во всех столбцах и общее кол-во строк в таблице - должна быть 3021 запись. Ошибка при удалении строк может привести к неправильному выполнению следующих заданий."
      ]
    },
    {
      "cell_type": "code",
      "execution_count": 230,
      "id": "a232aeae",
      "metadata": {},
      "outputs": [
        {
          "data": {
            "text/plain": [
              "(3021, 15)"
            ]
          },
          "execution_count": 230,
          "metadata": {},
          "output_type": "execute_result"
        }
      ],
      "source": [
        "df.shape"
      ]
    },
    {
      "cell_type": "code",
      "execution_count": 231,
      "id": "8w8us5plN_kd",
      "metadata": {
        "id": "8w8us5plN_kd"
      },
      "outputs": [
        {
          "name": "stderr",
          "output_type": "stream",
          "text": [
            "<>:1: SyntaxWarning: assertion is always true, perhaps remove parentheses?\n",
            "<>:1: SyntaxWarning: assertion is always true, perhaps remove parentheses?\n",
            "C:\\Users\\Examen\\AppData\\Local\\Temp\\ipykernel_804\\1825482647.py:1: SyntaxWarning: assertion is always true, perhaps remove parentheses?\n",
            "  assert(df.shape[0] == 3021, \"Проверьте правильность выполнения задания.\")\n"
          ]
        }
      ],
      "source": [
        "assert(df.shape[0] == 3021, \"Проверьте правильность выполнения задания.\")"
      ]
    },
    {
      "cell_type": "markdown",
      "id": "e22bc689",
      "metadata": {
        "id": "e22bc689",
        "run_control": {
          "frozen": false,
          "read_only": false
        }
      },
      "source": [
        "#### Задание 4 \n",
        "\n",
        "Посмотрите на колонку publishedAt\n",
        "* Какого она типа?\n",
        "* Измените тип колонки на datetime. Покажите, что после изменения колонка действительно имеет тип datetime.\n",
        "* В какой месяц было добавлено больше всего видеороликов?"
      ]
    },
    {
      "cell_type": "code",
      "execution_count": 232,
      "id": "fb5d5d9b",
      "metadata": {
        "id": "fb5d5d9b",
        "run_control": {
          "frozen": false,
          "read_only": false
        }
      },
      "outputs": [
        {
          "data": {
            "text/plain": [
              "dtype('O')"
            ]
          },
          "execution_count": 232,
          "metadata": {},
          "output_type": "execute_result"
        }
      ],
      "source": [
        "# Your code here\n",
        "df['publishedAt'].dtype"
      ]
    },
    {
      "cell_type": "code",
      "execution_count": 233,
      "id": "c45ab754",
      "metadata": {},
      "outputs": [],
      "source": [
        "df['publishedAt'] = pd.to_datetime(df['publishedAt'])"
      ]
    },
    {
      "cell_type": "code",
      "execution_count": 234,
      "id": "f13bec73",
      "metadata": {},
      "outputs": [
        {
          "data": {
            "text/plain": [
              "datetime64[ns, UTC]"
            ]
          },
          "execution_count": 234,
          "metadata": {},
          "output_type": "execute_result"
        }
      ],
      "source": [
        "df['publishedAt'].dtype"
      ]
    },
    {
      "cell_type": "code",
      "execution_count": 235,
      "id": "1f65104f",
      "metadata": {},
      "outputs": [],
      "source": [
        "grouped = df.groupby(df[\"publishedAt\"].dt.strftime(\"%m\")).size()"
      ]
    },
    {
      "cell_type": "code",
      "execution_count": 236,
      "id": "ea8242cd",
      "metadata": {},
      "outputs": [
        {
          "data": {
            "text/plain": [
              "publishedAt\n",
              "06    1066\n",
              "07    1955\n",
              "dtype: int64"
            ]
          },
          "execution_count": 236,
          "metadata": {},
          "output_type": "execute_result"
        }
      ],
      "source": [
        "grouped"
      ]
    },
    {
      "cell_type": "code",
      "execution_count": 237,
      "id": "a17c5e43",
      "metadata": {},
      "outputs": [],
      "source": [
        "x = df[\"publishedAt\"].dt.strftime(\"%m\") == '07'"
      ]
    },
    {
      "attachments": {},
      "cell_type": "markdown",
      "id": "709fe827",
      "metadata": {
        "id": "709fe827",
        "run_control": {
          "frozen": false,
          "read_only": false
        }
      },
      "source": [
        "**Ответ**:\n",
        "1. О - object\n",
        "2. В июле"
      ]
    },
    {
      "cell_type": "markdown",
      "id": "abbf2da2",
      "metadata": {
        "id": "abbf2da2",
        "run_control": {
          "frozen": false,
          "read_only": false
        }
      },
      "source": [
        "#### Задание 5 \n",
        "\n",
        "Посмотрите на колонку description.\n",
        "* Переведите строки в нижний регистр и обрежьте ненужные пробелы справа и слева.\n",
        "* Замените url-адреса  в описаниях на специальный тэг \\<URL\\>.\n",
        "* Выведите полностью description для видеоролика с video_id = 'Oxexirlmdig'."
      ]
    },
    {
      "cell_type": "code",
      "execution_count": 238,
      "id": "oA4j4okecJ08",
      "metadata": {
        "id": "oA4j4okecJ08"
      },
      "outputs": [],
      "source": [
        "pattern = r'http\\S+'"
      ]
    },
    {
      "cell_type": "code",
      "execution_count": 239,
      "id": "abef9a9d",
      "metadata": {
        "id": "abef9a9d",
        "run_control": {
          "frozen": false,
          "read_only": false
        }
      },
      "outputs": [
        {
          "data": {
            "text/plain": [
              "0       stream or download now ''katile'' ð https:/...\n",
              "1       the official video for gajde.stream/download g...\n",
              "2       stream or download âam/pmâ here ð§ https...\n",
              "3       bzzz entertainment - https://lnk.to/bzzzstream...\n",
              "4       stream âtequilaâ:https://taynaxazet.lnk.to...\n",
              "                              ...                        \n",
              "3016    fenerbahã§e hazä±rlä±k maã§ä±nda mol fehervar'...\n",
              "3017    download now!! âºâº https://supr.cl/2k62czgb...\n",
              "3018    gã¶rã¼lmemiå bir ekonomik kriz geliyor,ekonom...\n",
              "3019    tozluyaka 2. bã¶lã¼m 2. fragmanä±åans bile yo...\n",
              "3020    onur tuärul, mustafa demirtaå, metin karabaå...\n",
              "Name: description, Length: 3021, dtype: object"
            ]
          },
          "execution_count": 239,
          "metadata": {},
          "output_type": "execute_result"
        }
      ],
      "source": [
        "# Your code here\n",
        "df['description'].str.lower()"
      ]
    },
    {
      "cell_type": "code",
      "execution_count": 240,
      "id": "2f6192de",
      "metadata": {},
      "outputs": [
        {
          "data": {
            "text/html": [
              "<div>\n",
              "<style scoped>\n",
              "    .dataframe tbody tr th:only-of-type {\n",
              "        vertical-align: middle;\n",
              "    }\n",
              "\n",
              "    .dataframe tbody tr th {\n",
              "        vertical-align: top;\n",
              "    }\n",
              "\n",
              "    .dataframe thead th {\n",
              "        text-align: right;\n",
              "    }\n",
              "</style>\n",
              "<table border=\"1\" class=\"dataframe\">\n",
              "  <thead>\n",
              "    <tr style=\"text-align: right;\">\n",
              "      <th></th>\n",
              "      <th>country</th>\n",
              "      <th>video_id</th>\n",
              "      <th>title</th>\n",
              "      <th>publishedAt</th>\n",
              "      <th>channelId</th>\n",
              "      <th>channelTitle</th>\n",
              "      <th>categoryId</th>\n",
              "      <th>trending_date</th>\n",
              "      <th>tags</th>\n",
              "      <th>view_count</th>\n",
              "      <th>comment_count</th>\n",
              "      <th>thumbnail_link</th>\n",
              "      <th>comments_disabled</th>\n",
              "      <th>ratings_disabled</th>\n",
              "      <th>description</th>\n",
              "    </tr>\n",
              "  </thead>\n",
              "  <tbody>\n",
              "    <tr>\n",
              "      <th>0</th>\n",
              "      <td>AL</td>\n",
              "      <td>hxWSp-8jJuo</td>\n",
              "      <td>DON XHONI - KATILE</td>\n",
              "      <td>2022-07-07 22:00:12+00:00</td>\n",
              "      <td>UCZNJXsf2I4y54M_UmMiC6Vw</td>\n",
              "      <td>DON XHONI</td>\n",
              "      <td>24</td>\n",
              "      <td>22.11.07</td>\n",
              "      <td>[none]</td>\n",
              "      <td>5130167</td>\n",
              "      <td>3641</td>\n",
              "      <td>&lt;URL&gt;</td>\n",
              "      <td>False</td>\n",
              "      <td>True</td>\n",
              "      <td>Stream or Download now ''KATILE'' ð &lt;URL&gt; X...</td>\n",
              "    </tr>\n",
              "    <tr>\n",
              "      <th>1</th>\n",
              "      <td>AL</td>\n",
              "      <td>MnrC9mk2H1o</td>\n",
              "      <td>Dhurata Dora x Elvana Gjata - GAJDE (Official ...</td>\n",
              "      <td>2022-06-30 22:00:11+00:00</td>\n",
              "      <td>UCtzhq8TIfFB9vRAHVqLL9PA</td>\n",
              "      <td>Dhurata Dora</td>\n",
              "      <td>10</td>\n",
              "      <td>22.11.07</td>\n",
              "      <td>[none]</td>\n",
              "      <td>8886648</td>\n",
              "      <td>4414</td>\n",
              "      <td>&lt;URL&gt;</td>\n",
              "      <td>False</td>\n",
              "      <td>True</td>\n",
              "      <td>The official video for GAJDE.Stream/Download G...</td>\n",
              "    </tr>\n",
              "    <tr>\n",
              "      <th>2</th>\n",
              "      <td>AL</td>\n",
              "      <td>5Ql-G0dTqC0</td>\n",
              "      <td>KIDA x BUTRINT IMERI - AM/PM</td>\n",
              "      <td>2022-07-02 22:00:11+00:00</td>\n",
              "      <td>UCAHVxL9FG3Sp8ltQtLEy_oA</td>\n",
              "      <td>KIDA</td>\n",
              "      <td>10</td>\n",
              "      <td>22.11.07</td>\n",
              "      <td>Butrint Imeri|Kida|Dale|Butrint imeri kida|But...</td>\n",
              "      <td>7230818</td>\n",
              "      <td>7518</td>\n",
              "      <td>&lt;URL&gt;</td>\n",
              "      <td>False</td>\n",
              "      <td>True</td>\n",
              "      <td>Stream or Download âAM/PMâ here ð§ &lt;URL&gt;...</td>\n",
              "    </tr>\n",
              "    <tr>\n",
              "      <th>3</th>\n",
              "      <td>AL</td>\n",
              "      <td>oUdY0qSavvY</td>\n",
              "      <td>Dafina Zeqiri - Malli</td>\n",
              "      <td>2022-07-07 22:00:12+00:00</td>\n",
              "      <td>UCrv0PJoutcRhHkSMJYoXAIQ</td>\n",
              "      <td>Dafina Zeqiri</td>\n",
              "      <td>10</td>\n",
              "      <td>22.11.07</td>\n",
              "      <td>Dafina|Zeqiri|Dafine Moj|Pa ty|Lule Lule|Duro|...</td>\n",
              "      <td>1406078</td>\n",
              "      <td>827</td>\n",
              "      <td>&lt;URL&gt;</td>\n",
              "      <td>False</td>\n",
              "      <td>True</td>\n",
              "      <td>Bzzz Entertainment - &lt;URL&gt; - &lt;URL&gt; @Dafina Zeq...</td>\n",
              "    </tr>\n",
              "    <tr>\n",
              "      <th>4</th>\n",
              "      <td>AL</td>\n",
              "      <td>I4ZSvYLnOcQ</td>\n",
              "      <td>Tayna x Azet - Tequila</td>\n",
              "      <td>2022-06-30 18:00:26+00:00</td>\n",
              "      <td>UCJBZ-GcWSswmJ0xc9WAKDqw</td>\n",
              "      <td>Friends Entertainment</td>\n",
              "      <td>10</td>\n",
              "      <td>22.11.07</td>\n",
              "      <td>tayna|Friends|Entertainment|rinor hykolli|hip ...</td>\n",
              "      <td>6397676</td>\n",
              "      <td>6063</td>\n",
              "      <td>&lt;URL&gt;</td>\n",
              "      <td>False</td>\n",
              "      <td>True</td>\n",
              "      <td>Stream âTequilaâ:&lt;URL&gt; &amp; Produced by: Cric...</td>\n",
              "    </tr>\n",
              "    <tr>\n",
              "      <th>...</th>\n",
              "      <td>...</td>\n",
              "      <td>...</td>\n",
              "      <td>...</td>\n",
              "      <td>...</td>\n",
              "      <td>...</td>\n",
              "      <td>...</td>\n",
              "      <td>...</td>\n",
              "      <td>...</td>\n",
              "      <td>...</td>\n",
              "      <td>...</td>\n",
              "      <td>...</td>\n",
              "      <td>...</td>\n",
              "      <td>...</td>\n",
              "      <td>...</td>\n",
              "      <td>...</td>\n",
              "    </tr>\n",
              "    <tr>\n",
              "      <th>3016</th>\n",
              "      <td>TR</td>\n",
              "      <td>2bvhzLli-Aw</td>\n",
              "      <td>FenerbahÃ§e 3-0 Mol Fehervar | HazÄ±rlÄ±k MaÃ§Ä±</td>\n",
              "      <td>2022-07-05 18:46:34+00:00</td>\n",
              "      <td>UCpdSUUHlxMjO0c5824FGcsA</td>\n",
              "      <td>S Sport</td>\n",
              "      <td>17</td>\n",
              "      <td>22.11.07</td>\n",
              "      <td>fenerbahÃ§e Ã¶zet|fenerbahÃ§e|fb|fenerbahÃ§e h...</td>\n",
              "      <td>492614</td>\n",
              "      <td>683</td>\n",
              "      <td>&lt;URL&gt;</td>\n",
              "      <td>False</td>\n",
              "      <td>True</td>\n",
              "      <td>FenerbahÃ§e hazÄ±rlÄ±k maÃ§Ä±nda Mol Fehervar'...</td>\n",
              "    </tr>\n",
              "    <tr>\n",
              "      <th>3017</th>\n",
              "      <td>TR</td>\n",
              "      <td>imjlTtCxkkk</td>\n",
              "      <td>Brawl Stars Season 13! - #DeepSeaBrawl</td>\n",
              "      <td>2022-07-04 09:00:09+00:00</td>\n",
              "      <td>UCooVYzDxdwTtGYAkcPmOgOw</td>\n",
              "      <td>Brawl Stars</td>\n",
              "      <td>20</td>\n",
              "      <td>22.11.07</td>\n",
              "      <td>brawl stars|mobile game|mobile strategy game|m...</td>\n",
              "      <td>1062053</td>\n",
              "      <td>1745</td>\n",
              "      <td>&lt;URL&gt;</td>\n",
              "      <td>False</td>\n",
              "      <td>True</td>\n",
              "      <td>Download NOW!! âºâº &lt;URL&gt; a BRAWLER! Subscri...</td>\n",
              "    </tr>\n",
              "    <tr>\n",
              "      <th>3018</th>\n",
              "      <td>TR</td>\n",
              "      <td>rdAhWgxtteY</td>\n",
              "      <td>GÃ¶rÃ¼lmemiÅ Bir Ekonomik Kriz Geliyor- DÃ¼ny...</td>\n",
              "      <td>2022-07-03 20:00:18+00:00</td>\n",
              "      <td>UC9PfAU8pdnTs7afxIXKhgVA</td>\n",
              "      <td>Erkan Ãz</td>\n",
              "      <td>25</td>\n",
              "      <td>22.11.07</td>\n",
              "      <td>erkan Ã¶z yorumlarÄ±|erkan Ã¶z yatÄ±rÄ±m|erkan...</td>\n",
              "      <td>115149</td>\n",
              "      <td>422</td>\n",
              "      <td>&lt;URL&gt;</td>\n",
              "      <td>False</td>\n",
              "      <td>True</td>\n",
              "      <td>GÃ¶rÃ¼lmemiÅ Bir Ekonomik Kriz Geliyor,ekonom...</td>\n",
              "    </tr>\n",
              "    <tr>\n",
              "      <th>3019</th>\n",
              "      <td>TR</td>\n",
              "      <td>FROtCry4nLw</td>\n",
              "      <td>Tozluyaka 2. BÃ¶lÃ¼m 2. FragmanÄ±</td>\n",
              "      <td>2022-07-01 20:47:38+00:00</td>\n",
              "      <td>UCJe13zu6MyE6Oueac41KAqg</td>\n",
              "      <td>FOX</td>\n",
              "      <td>24</td>\n",
              "      <td>22.11.07</td>\n",
              "      <td>Tozluyaka 2. BÃ¶lÃ¼m 1. FragmanÄ±|emre kÄ±nay|...</td>\n",
              "      <td>901830</td>\n",
              "      <td>579</td>\n",
              "      <td>&lt;URL&gt;</td>\n",
              "      <td>False</td>\n",
              "      <td>True</td>\n",
              "      <td>Tozluyaka 2. BÃ¶lÃ¼m 2. FragmanÄ±Åans bile yo...</td>\n",
              "    </tr>\n",
              "    <tr>\n",
              "      <th>3020</th>\n",
              "      <td>TR</td>\n",
              "      <td>cwD6jnfIi9A</td>\n",
              "      <td>FB, GS, BJK ve TS'de Son GeliÅmeler | Onur &amp; ...</td>\n",
              "      <td>2022-07-06 17:09:00+00:00</td>\n",
              "      <td>UCeCRRixprpBjNmzRWgLBiUA</td>\n",
              "      <td>VOLE</td>\n",
              "      <td>22</td>\n",
              "      <td>22.11.07</td>\n",
              "      <td>[none]</td>\n",
              "      <td>185855</td>\n",
              "      <td>269</td>\n",
              "      <td>&lt;URL&gt;</td>\n",
              "      <td>False</td>\n",
              "      <td>True</td>\n",
              "      <td>Onur TuÄrul, Mustafa DemirtaÅ, Metin KarabaÅ...</td>\n",
              "    </tr>\n",
              "  </tbody>\n",
              "</table>\n",
              "<p>3021 rows × 15 columns</p>\n",
              "</div>"
            ],
            "text/plain": [
              "     country     video_id                                              title  \\\n",
              "0         AL  hxWSp-8jJuo                                 DON XHONI - KATILE   \n",
              "1         AL  MnrC9mk2H1o  Dhurata Dora x Elvana Gjata - GAJDE (Official ...   \n",
              "2         AL  5Ql-G0dTqC0                       KIDA x BUTRINT IMERI - AM/PM   \n",
              "3         AL  oUdY0qSavvY                              Dafina Zeqiri - Malli   \n",
              "4         AL  I4ZSvYLnOcQ                             Tayna x Azet - Tequila   \n",
              "...      ...          ...                                                ...   \n",
              "3016      TR  2bvhzLli-Aw   FenerbahÃ§e 3-0 Mol Fehervar | HazÄ±rlÄ±k MaÃ§Ä±   \n",
              "3017      TR  imjlTtCxkkk             Brawl Stars Season 13! - #DeepSeaBrawl   \n",
              "3018      TR  rdAhWgxtteY  GÃ¶rÃ¼lmemiÅ Bir Ekonomik Kriz Geliyor- DÃ¼ny...   \n",
              "3019      TR  FROtCry4nLw                  Tozluyaka 2. BÃ¶lÃ¼m 2. FragmanÄ±   \n",
              "3020      TR  cwD6jnfIi9A  FB, GS, BJK ve TS'de Son GeliÅmeler | Onur & ...   \n",
              "\n",
              "                   publishedAt                 channelId  \\\n",
              "0    2022-07-07 22:00:12+00:00  UCZNJXsf2I4y54M_UmMiC6Vw   \n",
              "1    2022-06-30 22:00:11+00:00  UCtzhq8TIfFB9vRAHVqLL9PA   \n",
              "2    2022-07-02 22:00:11+00:00  UCAHVxL9FG3Sp8ltQtLEy_oA   \n",
              "3    2022-07-07 22:00:12+00:00  UCrv0PJoutcRhHkSMJYoXAIQ   \n",
              "4    2022-06-30 18:00:26+00:00  UCJBZ-GcWSswmJ0xc9WAKDqw   \n",
              "...                        ...                       ...   \n",
              "3016 2022-07-05 18:46:34+00:00  UCpdSUUHlxMjO0c5824FGcsA   \n",
              "3017 2022-07-04 09:00:09+00:00  UCooVYzDxdwTtGYAkcPmOgOw   \n",
              "3018 2022-07-03 20:00:18+00:00  UC9PfAU8pdnTs7afxIXKhgVA   \n",
              "3019 2022-07-01 20:47:38+00:00  UCJe13zu6MyE6Oueac41KAqg   \n",
              "3020 2022-07-06 17:09:00+00:00  UCeCRRixprpBjNmzRWgLBiUA   \n",
              "\n",
              "               channelTitle  categoryId trending_date  \\\n",
              "0                 DON XHONI          24      22.11.07   \n",
              "1              Dhurata Dora          10      22.11.07   \n",
              "2                      KIDA          10      22.11.07   \n",
              "3             Dafina Zeqiri          10      22.11.07   \n",
              "4     Friends Entertainment          10      22.11.07   \n",
              "...                     ...         ...           ...   \n",
              "3016                S Sport          17      22.11.07   \n",
              "3017            Brawl Stars          20      22.11.07   \n",
              "3018              Erkan Ãz          25      22.11.07   \n",
              "3019                    FOX          24      22.11.07   \n",
              "3020                   VOLE          22      22.11.07   \n",
              "\n",
              "                                                   tags  view_count  \\\n",
              "0                                                [none]     5130167   \n",
              "1                                                [none]     8886648   \n",
              "2     Butrint Imeri|Kida|Dale|Butrint imeri kida|But...     7230818   \n",
              "3     Dafina|Zeqiri|Dafine Moj|Pa ty|Lule Lule|Duro|...     1406078   \n",
              "4     tayna|Friends|Entertainment|rinor hykolli|hip ...     6397676   \n",
              "...                                                 ...         ...   \n",
              "3016  fenerbahÃ§e Ã¶zet|fenerbahÃ§e|fb|fenerbahÃ§e h...      492614   \n",
              "3017  brawl stars|mobile game|mobile strategy game|m...     1062053   \n",
              "3018  erkan Ã¶z yorumlarÄ±|erkan Ã¶z yatÄ±rÄ±m|erkan...      115149   \n",
              "3019  Tozluyaka 2. BÃ¶lÃ¼m 1. FragmanÄ±|emre kÄ±nay|...      901830   \n",
              "3020                                             [none]      185855   \n",
              "\n",
              "      comment_count thumbnail_link  comments_disabled  ratings_disabled  \\\n",
              "0              3641          <URL>              False              True   \n",
              "1              4414          <URL>              False              True   \n",
              "2              7518          <URL>              False              True   \n",
              "3               827          <URL>              False              True   \n",
              "4              6063          <URL>              False              True   \n",
              "...             ...            ...                ...               ...   \n",
              "3016            683          <URL>              False              True   \n",
              "3017           1745          <URL>              False              True   \n",
              "3018            422          <URL>              False              True   \n",
              "3019            579          <URL>              False              True   \n",
              "3020            269          <URL>              False              True   \n",
              "\n",
              "                                            description  \n",
              "0     Stream or Download now ''KATILE'' ð <URL> X...  \n",
              "1     The official video for GAJDE.Stream/Download G...  \n",
              "2     Stream or Download âAM/PMâ here ð§ <URL>...  \n",
              "3     Bzzz Entertainment - <URL> - <URL> @Dafina Zeq...  \n",
              "4     Stream âTequilaâ:<URL> & Produced by: Cric...  \n",
              "...                                                 ...  \n",
              "3016  FenerbahÃ§e hazÄ±rlÄ±k maÃ§Ä±nda Mol Fehervar'...  \n",
              "3017  Download NOW!! âºâº <URL> a BRAWLER! Subscri...  \n",
              "3018  GÃ¶rÃ¼lmemiÅ Bir Ekonomik Kriz Geliyor,ekonom...  \n",
              "3019  Tozluyaka 2. BÃ¶lÃ¼m 2. FragmanÄ±Åans bile yo...  \n",
              "3020  Onur TuÄrul, Mustafa DemirtaÅ, Metin KarabaÅ...  \n",
              "\n",
              "[3021 rows x 15 columns]"
            ]
          },
          "execution_count": 240,
          "metadata": {},
          "output_type": "execute_result"
        }
      ],
      "source": [
        "df.replace([pattern], ['<URL>'], regex=True)"
      ]
    },
    {
      "cell_type": "code",
      "execution_count": 241,
      "id": "515f3bde",
      "metadata": {},
      "outputs": [
        {
          "data": {
            "text/plain": [
              "12    Music line & Lyrics : GHETTO GEASY & MAJKMusic...\n",
              "Name: description, dtype: object"
            ]
          },
          "execution_count": 241,
          "metadata": {},
          "output_type": "execute_result"
        }
      ],
      "source": [
        "df.loc[df['video_id'] == 'Oxexirlmdig']['description']"
      ]
    },
    {
      "attachments": {},
      "cell_type": "markdown",
      "id": "5fc10b5f",
      "metadata": {
        "id": "5fc10b5f",
        "run_control": {
          "frozen": false,
          "read_only": false
        }
      },
      "source": [
        "**Ответ**:  Music line & Lyrics : GHETTO GEASY & MAJKMusic..."
      ]
    },
    {
      "cell_type": "markdown",
      "id": "81878fa6",
      "metadata": {
        "id": "81878fa6",
        "run_control": {
          "frozen": false,
          "read_only": false
        }
      },
      "source": [
        "#### Задание 7 \n",
        "* Какой видеоролик был опубликован в наибольшем кол-ве стран? В качестве ответа привeдите название видеоролика (колонка title).\n",
        "\n",
        "Для решения могут помочь функции [groupby](https://pandas.pydata.org/pandas-docs/stable/reference/api/pandas.DataFrame.groupby.html) и [sort_values](https://pandas.pydata.org/pandas-docs/stable/reference/api/pandas.DataFrame.sort_values.html)."
      ]
    },
    {
      "cell_type": "code",
      "execution_count": 242,
      "id": "4b20a67a",
      "metadata": {
        "id": "4b20a67a",
        "run_control": {
          "frozen": false,
          "read_only": false
        },
        "scrolled": true
      },
      "outputs": [
        {
          "data": {
            "text/plain": [
              "title\n",
              "ð´CRAZYCRAFT DOCTOR OCTOPUS YAPIYORUZ!                                                           1\n",
              "ð´ LIVE | West Indies v Bangladesh | 2nd T20I                                                    1\n",
              "ð¥ First collective ððð°ð¸ð½ð¸ð½ð¶ of the season ðâ½                       1\n",
              "ð­ Ma ratatouille                                                                                1\n",
              "ð¾ RÃ©sumÃ© - Wimbledon : Rafael Nadal â Taylor Fritz : Un match lÃ©gendaire de 4 heures !     1\n",
              "                                                                                                  ..\n",
              "Charlie Puth - Left And Right (feat. Jung Kook of BTS) [Official Video]                           12\n",
              "World's Fastest Car!                                                                              14\n",
              "j-hope 'MORE' Official MV                                                                         14\n",
              "God of War RagnarÃ¶k - Father and Son Cinematic Trailer | PS5 & PS4 Games                         14\n",
              "Race Highlights | 2022 British Grand Prix                                                         17\n",
              "Name: country, Length: 1556, dtype: int64"
            ]
          },
          "execution_count": 242,
          "metadata": {},
          "output_type": "execute_result"
        }
      ],
      "source": [
        "# Your code here\n",
        "df.groupby('title')['country'].count().sort_values()"
      ]
    },
    {
      "attachments": {},
      "cell_type": "markdown",
      "id": "07f9f3f5",
      "metadata": {
        "id": "07f9f3f5",
        "run_control": {
          "frozen": false,
          "read_only": false
        }
      },
      "source": [
        "**Ответ**: Race Highlights | 2022 British Grand Prix"
      ]
    },
    {
      "cell_type": "markdown",
      "id": "1e776613",
      "metadata": {
        "id": "1e776613",
        "run_control": {
          "frozen": false,
          "read_only": false
        }
      },
      "source": [
        "#### Задание 8\n",
        "* Какое максимальное число просмотров (колонка view_count) у видеороликов, выпущенных во Франции или Италии (в колонке country значениe FR или IT) в июле (колонка publishedAt)?\n",
        "\n",
        "Необходимо придумать решение в одну строку, используя для выбора строк несколько условий, объединенных с помощью | вместо or, & вместо and и ~ вместо not, а также используя функцию [isin](https://pandas.pydata.org/pandas-docs/stable/reference/api/pandas.DataFrame.isin.html)."
      ]
    },
    {
      "cell_type": "code",
      "execution_count": 243,
      "id": "ee71c86b",
      "metadata": {
        "id": "ee71c86b",
        "run_control": {
          "frozen": false,
          "read_only": false
        }
      },
      "outputs": [
        {
          "name": "stderr",
          "output_type": "stream",
          "text": [
            "C:\\Users\\Examen\\AppData\\Local\\Temp\\ipykernel_804\\583849290.py:2: FutureWarning: Logical ops (and, or, xor) between Pandas objects and dtype-less sequences (e.g. list, tuple) are deprecated and will raise in a future version. Wrap the object in a Series, Index, or np.array before operating instead.\n",
            "  df.loc[df['country'].isin(['FR', 'IT'] & df[\"publishedAt\"].dt.strftime(\"%m\") == '07')]['view_count'].max()\n"
          ]
        },
        {
          "ename": "ValueError",
          "evalue": "operands could not be broadcast together with shapes (2,) (3021,) ",
          "output_type": "error",
          "traceback": [
            "\u001b[1;31m---------------------------------------------------------------------------\u001b[0m",
            "\u001b[1;31mValueError\u001b[0m                                Traceback (most recent call last)",
            "Cell \u001b[1;32mIn[243], line 2\u001b[0m\n\u001b[0;32m      1\u001b[0m \u001b[39m# Your code here\u001b[39;00m\n\u001b[1;32m----> 2\u001b[0m df\u001b[39m.\u001b[39mloc[df[\u001b[39m'\u001b[39m\u001b[39mcountry\u001b[39m\u001b[39m'\u001b[39m]\u001b[39m.\u001b[39misin([\u001b[39m'\u001b[39;49m\u001b[39mFR\u001b[39;49m\u001b[39m'\u001b[39;49m, \u001b[39m'\u001b[39;49m\u001b[39mIT\u001b[39;49m\u001b[39m'\u001b[39;49m] \u001b[39m&\u001b[39;49m df[\u001b[39m\"\u001b[39;49m\u001b[39mpublishedAt\u001b[39;49m\u001b[39m\"\u001b[39;49m]\u001b[39m.\u001b[39;49mdt\u001b[39m.\u001b[39;49mstrftime(\u001b[39m\"\u001b[39;49m\u001b[39m%\u001b[39;49m\u001b[39mm\u001b[39;49m\u001b[39m\"\u001b[39;49m) \u001b[39m==\u001b[39m \u001b[39m'\u001b[39m\u001b[39m07\u001b[39m\u001b[39m'\u001b[39m)][\u001b[39m'\u001b[39m\u001b[39mview_count\u001b[39m\u001b[39m'\u001b[39m]\u001b[39m.\u001b[39mmax()\n",
            "File \u001b[1;32m~\\AppData\\Roaming\\Python\\Python311\\site-packages\\pandas\\core\\ops\\common.py:76\u001b[0m, in \u001b[0;36m_unpack_zerodim_and_defer.<locals>.new_method\u001b[1;34m(self, other)\u001b[0m\n\u001b[0;32m     72\u001b[0m             \u001b[39mreturn\u001b[39;00m \u001b[39mNotImplemented\u001b[39m\n\u001b[0;32m     74\u001b[0m other \u001b[39m=\u001b[39m item_from_zerodim(other)\n\u001b[1;32m---> 76\u001b[0m \u001b[39mreturn\u001b[39;00m method(\u001b[39mself\u001b[39;49m, other)\n",
            "File \u001b[1;32m~\\AppData\\Roaming\\Python\\Python311\\site-packages\\pandas\\core\\arraylike.py:74\u001b[0m, in \u001b[0;36mOpsMixin.__rand__\u001b[1;34m(self, other)\u001b[0m\n\u001b[0;32m     72\u001b[0m \u001b[39m@unpack_zerodim_and_defer\u001b[39m(\u001b[39m\"\u001b[39m\u001b[39m__rand__\u001b[39m\u001b[39m\"\u001b[39m)\n\u001b[0;32m     73\u001b[0m \u001b[39mdef\u001b[39;00m \u001b[39m__rand__\u001b[39m(\u001b[39mself\u001b[39m, other):\n\u001b[1;32m---> 74\u001b[0m     \u001b[39mreturn\u001b[39;00m \u001b[39mself\u001b[39;49m\u001b[39m.\u001b[39;49m_logical_method(other, roperator\u001b[39m.\u001b[39;49mrand_)\n",
            "File \u001b[1;32m~\\AppData\\Roaming\\Python\\Python311\\site-packages\\pandas\\core\\series.py:6130\u001b[0m, in \u001b[0;36mSeries._logical_method\u001b[1;34m(self, other, op)\u001b[0m\n\u001b[0;32m   6127\u001b[0m lvalues \u001b[39m=\u001b[39m \u001b[39mself\u001b[39m\u001b[39m.\u001b[39m_values\n\u001b[0;32m   6128\u001b[0m rvalues \u001b[39m=\u001b[39m extract_array(other, extract_numpy\u001b[39m=\u001b[39m\u001b[39mTrue\u001b[39;00m, extract_range\u001b[39m=\u001b[39m\u001b[39mTrue\u001b[39;00m)\n\u001b[1;32m-> 6130\u001b[0m res_values \u001b[39m=\u001b[39m ops\u001b[39m.\u001b[39;49mlogical_op(lvalues, rvalues, op)\n\u001b[0;32m   6131\u001b[0m \u001b[39mreturn\u001b[39;00m \u001b[39mself\u001b[39m\u001b[39m.\u001b[39m_construct_result(res_values, name\u001b[39m=\u001b[39mres_name)\n",
            "File \u001b[1;32m~\\AppData\\Roaming\\Python\\Python311\\site-packages\\pandas\\core\\ops\\array_ops.py:454\u001b[0m, in \u001b[0;36mlogical_op\u001b[1;34m(left, right, op)\u001b[0m\n\u001b[0;32m    450\u001b[0m \u001b[39melse\u001b[39;00m:\n\u001b[0;32m    451\u001b[0m     \u001b[39m# i.e. scalar\u001b[39;00m\n\u001b[0;32m    452\u001b[0m     is_other_int_dtype \u001b[39m=\u001b[39m lib\u001b[39m.\u001b[39mis_integer(rvalues)\n\u001b[1;32m--> 454\u001b[0m res_values \u001b[39m=\u001b[39m na_logical_op(lvalues, rvalues, op)\n\u001b[0;32m    456\u001b[0m \u001b[39m# For int vs int `^`, `|`, `&` are bitwise operators and return\u001b[39;00m\n\u001b[0;32m    457\u001b[0m \u001b[39m#   integer dtypes.  Otherwise these are boolean ops\u001b[39;00m\n\u001b[0;32m    458\u001b[0m \u001b[39mif\u001b[39;00m \u001b[39mnot\u001b[39;00m (left\u001b[39m.\u001b[39mdtype\u001b[39m.\u001b[39mkind \u001b[39min\u001b[39;00m \u001b[39m\"\u001b[39m\u001b[39miu\u001b[39m\u001b[39m\"\u001b[39m \u001b[39mand\u001b[39;00m is_other_int_dtype):\n",
            "File \u001b[1;32m~\\AppData\\Roaming\\Python\\Python311\\site-packages\\pandas\\core\\ops\\array_ops.py:362\u001b[0m, in \u001b[0;36mna_logical_op\u001b[1;34m(x, y, op)\u001b[0m\n\u001b[0;32m    352\u001b[0m \u001b[39mdef\u001b[39;00m \u001b[39mna_logical_op\u001b[39m(x: np\u001b[39m.\u001b[39mndarray, y, op):\n\u001b[0;32m    353\u001b[0m     \u001b[39mtry\u001b[39;00m:\n\u001b[0;32m    354\u001b[0m         \u001b[39m# For exposition, write:\u001b[39;00m\n\u001b[0;32m    355\u001b[0m         \u001b[39m#  yarr = isinstance(y, np.ndarray)\u001b[39;00m\n\u001b[1;32m   (...)\u001b[0m\n\u001b[0;32m    360\u001b[0m         \u001b[39m# Then Cases where this goes through without raising include:\u001b[39;00m\n\u001b[0;32m    361\u001b[0m         \u001b[39m#  (xint or xbool) and (yint or bool)\u001b[39;00m\n\u001b[1;32m--> 362\u001b[0m         result \u001b[39m=\u001b[39m op(x, y)\n\u001b[0;32m    363\u001b[0m     \u001b[39mexcept\u001b[39;00m \u001b[39mTypeError\u001b[39;00m:\n\u001b[0;32m    364\u001b[0m         \u001b[39mif\u001b[39;00m \u001b[39misinstance\u001b[39m(y, np\u001b[39m.\u001b[39mndarray):\n\u001b[0;32m    365\u001b[0m             \u001b[39m# bool-bool dtype operations should be OK, should not get here\u001b[39;00m\n",
            "File \u001b[1;32m~\\AppData\\Roaming\\Python\\Python311\\site-packages\\pandas\\core\\roperator.py:54\u001b[0m, in \u001b[0;36mrand_\u001b[1;34m(left, right)\u001b[0m\n\u001b[0;32m     53\u001b[0m \u001b[39mdef\u001b[39;00m \u001b[39mrand_\u001b[39m(left, right):\n\u001b[1;32m---> 54\u001b[0m     \u001b[39mreturn\u001b[39;00m operator\u001b[39m.\u001b[39;49mand_(right, left)\n",
            "\u001b[1;31mValueError\u001b[0m: operands could not be broadcast together with shapes (2,) (3021,) "
          ]
        }
      ],
      "source": [
        "# Your code here\n",
        "df.loc[df['country'].isin(['FR', 'IT'] & df[\"publishedAt\"].dt.strftime(\"%m\") == '07')]['view_count'].max()"
      ]
    },
    {
      "cell_type": "markdown",
      "id": "c8260b3f",
      "metadata": {
        "id": "c8260b3f",
        "run_control": {
          "frozen": false,
          "read_only": false
        }
      },
      "source": [
        "**Ответ**: ВАШ ОТВЕТ ЗДЕСЬ"
      ]
    },
    {
      "cell_type": "markdown",
      "id": "c046a2da",
      "metadata": {
        "id": "c046a2da",
        "run_control": {
          "frozen": false,
          "read_only": false
        }
      },
      "source": [
        "#### Задание 9 \n",
        "* Посмотрите на названия каналов из 17 категории (колонка categoryId). Как вы думаете, что это за категория?\n",
        "* Предположим, что была допущена ошибка, и все видеоролики из 17 категории, относятся к 16 категории. Исправьте нужные значения в колонке categoryId, после чего выведите все уникальные категории.\n",
        "\n",
        "Обратите внимание, что при выборе полей с помощью оператора индексирования \\[\\] возвращается копия выбранных значений. При попытке присвоить таким образом новые значения для некоторых полей таблицы, будет выдано предупреждение. Более надежный способ - использовать операторы loc и iloc."
      ]
    },
    {
      "cell_type": "code",
      "execution_count": 244,
      "id": "903a52aa",
      "metadata": {
        "id": "903a52aa",
        "run_control": {
          "frozen": false,
          "read_only": false
        }
      },
      "outputs": [],
      "source": [
        "# Your code here\n",
        "df.loc[df['categoryId'] == 17, 'categoryId'] = df.loc[df['categoryId'] == 17, 'categoryId'].replace(17, 16)\n"
      ]
    },
    {
      "cell_type": "code",
      "execution_count": 249,
      "id": "c7007526",
      "metadata": {},
      "outputs": [
        {
          "data": {
            "text/plain": [
              "array([24, 10,  1, 15, 22, 23, 27, 16, 20, 26, 25,  2, 19, 28])"
            ]
          },
          "execution_count": 249,
          "metadata": {},
          "output_type": "execute_result"
        }
      ],
      "source": [
        "df['categoryId'].unique()"
      ]
    },
    {
      "cell_type": "markdown",
      "id": "8rSEkT74gefG",
      "metadata": {
        "id": "8rSEkT74gefG"
      },
      "source": [
        "**Ответ**: ВАШ ОТВЕТ ЗДЕСЬ"
      ]
    },
    {
      "cell_type": "markdown",
      "id": "1d639ee0",
      "metadata": {
        "id": "1d639ee0",
        "run_control": {
          "frozen": false,
          "read_only": false
        }
      },
      "source": [
        "#### Задание 10 \n",
        "Посмотрите на колонку tags.\n",
        "\n",
        "* Замените строки со значением '[none]' на пустую строку.\n",
        "* Какой самый популярный тэг? Обратите внимание, что у каждого видеоролика может быть более 1 тэга.\n",
        "\n",
        "**Подсказка 1**\n",
        "\n",
        "Чтобы получить правильное значение, не забудьте обработать множество тэгов - убрать пробельные символы по краям и привести строки в нижний регистр.\n",
        "\n",
        "**Подсказка 2**\n",
        "\n",
        "Нужный тэг встречается больше 130 раз."
      ]
    },
    {
      "cell_type": "code",
      "execution_count": 252,
      "id": "32d33e19",
      "metadata": {
        "id": "32d33e19",
        "run_control": {
          "frozen": false,
          "read_only": false
        }
      },
      "outputs": [],
      "source": [
        "# Your code here\n",
        "df.loc[df['tags'] == '[none]', 'tags'] = df.loc[df['tags'] == '[none]', 'tags'].replace('none', '')"
      ]
    },
    {
      "cell_type": "code",
      "execution_count": 254,
      "id": "dcdfb5fd",
      "metadata": {},
      "outputs": [
        {
          "data": {
            "text/plain": [
              "0                                                  [none]\n",
              "1                                                  [none]\n",
              "2       Butrint Imeri|Kida|Dale|Butrint imeri kida|But...\n",
              "3       Dafina|Zeqiri|Dafine Moj|Pa ty|Lule Lule|Duro|...\n",
              "4       tayna|Friends|Entertainment|rinor hykolli|hip ...\n",
              "                              ...                        \n",
              "3016    fenerbahÃ§e Ã¶zet|fenerbahÃ§e|fb|fenerbahÃ§e h...\n",
              "3017    brawl stars|mobile game|mobile strategy game|m...\n",
              "3018    erkan Ã¶z yorumlarÄ±|erkan Ã¶z yatÄ±rÄ±m|erkan...\n",
              "3019    Tozluyaka 2. BÃ¶lÃ¼m 1. FragmanÄ±|emre kÄ±nay|...\n",
              "3020                                               [none]\n",
              "Name: tags, Length: 3021, dtype: object"
            ]
          },
          "execution_count": 254,
          "metadata": {},
          "output_type": "execute_result"
        }
      ],
      "source": [
        "df['tags']"
      ]
    },
    {
      "cell_type": "markdown",
      "id": "6a1fec21",
      "metadata": {
        "id": "6a1fec21",
        "run_control": {
          "frozen": false,
          "read_only": false
        }
      },
      "source": [
        "**Ответ**: ВАШ ОТВЕТ ЗДЕСЬ"
      ]
    },
    {
      "cell_type": "markdown",
      "id": "b91b39da",
      "metadata": {
        "id": "b91b39da",
        "run_control": {
          "frozen": false,
          "read_only": false
        }
      },
      "source": [
        "# Часть 2. Визуализация данных"
      ]
    },
    {
      "cell_type": "markdown",
      "id": "2b9bcc9c",
      "metadata": {
        "id": "2b9bcc9c",
        "run_control": {
          "frozen": false,
          "read_only": false
        }
      },
      "source": [
        "\n",
        "### Оформление графиков\n",
        "\n",
        "Важно, чтобы все графики выглядели опрятно и соответствовали следующим правилам:\n",
        "\n",
        "- должно быть название (plt.title) графика;\n",
        "- на графиках должны быть подписаны оси (plt.xlabel, plt.ylabel);\n",
        "- должны быть подписаны единицы измерения (если это возможно);\n",
        "- все названия должны быть понятны любому человеку, знакомому с терминологией, без заглядывания в код;\n",
        "- подписи тиков на осях не должны сливаться как на одной оси, так и между ними;\n",
        "- если изображено несколько сущностей на одном холсте (например несколько функций), то необходима поясняющая легенда (plt.legend);\n",
        "- все линии на графиках должны быть чётко видны (нет похожих цветов или цветов, сливающихся с фоном);\n",
        "- если отображена величина, имеющая очевидный диапазон значений (например, проценты могут быть от 0 до 100), то желательно масштабировать ось на весь диапазон значений (исключением является случай, когда вам необходимо показать малое отличие, которое незаметно в таких масштабах);\n",
        "- графики должны быть не супер-микро и не супер-макро по размерам, так, чтобы можно было увидеть все, что нужно.\n",
        "- при необходимости улучшения наглядности графиков, можно пользоваться логарифмической шкалой по осям x/y."
      ]
    },
    {
      "cell_type": "code",
      "execution_count": null,
      "id": "d2920a94",
      "metadata": {
        "id": "d2920a94",
        "run_control": {
          "frozen": false,
          "read_only": false
        }
      },
      "outputs": [],
      "source": [
        "import matplotlib\n",
        "import matplotlib.pyplot as plt\n",
        "\n",
        "#отображение графиков в ноутбуке\n",
        "%matplotlib inline\n",
        "\n",
        "#для четкой прорисовки графиков - осторожно!!! Может съедать много памяти\n",
        "#закоменьте эту строку, если это случилось\n",
        "%config InlineBackend.figure_format = 'svg'"
      ]
    },
    {
      "cell_type": "markdown",
      "id": "1fb6a2ef",
      "metadata": {
        "id": "1fb6a2ef",
        "run_control": {
          "frozen": false,
          "read_only": false
        }
      },
      "source": [
        "### Задание 1\n",
        "\n",
        "Постройте график (line plot) зависимости кол-ва выпущенных роликов от даты публикации.\n",
        "\n",
        "Обратите внимание, что один и тот же ролик может быть опубликован в нескольких странах, и ему может соответствовать несколько строк в таблице. На графике необходимо учесть каждый ролик только 1 раз."
      ]
    },
    {
      "cell_type": "code",
      "execution_count": null,
      "id": "f44c3111",
      "metadata": {
        "id": "f44c3111",
        "run_control": {
          "frozen": false,
          "read_only": false
        }
      },
      "outputs": [],
      "source": [
        "# Your code here"
      ]
    },
    {
      "cell_type": "markdown",
      "id": "ee7f4e09",
      "metadata": {
        "id": "ee7f4e09",
        "run_control": {
          "frozen": false,
          "read_only": false
        }
      },
      "source": [
        "### Задание 2\n",
        "Постройте диаграмму  (bar plot) кол-ва опубликованных роликов в зависимости от страны."
      ]
    },
    {
      "cell_type": "code",
      "execution_count": null,
      "id": "6414d970",
      "metadata": {
        "id": "6414d970",
        "run_control": {
          "frozen": false,
          "read_only": false
        }
      },
      "outputs": [],
      "source": [
        "# Your code here"
      ]
    },
    {
      "cell_type": "markdown",
      "id": "e28d57d4",
      "metadata": {
        "id": "e28d57d4",
        "run_control": {
          "frozen": false,
          "read_only": false
        }
      },
      "source": [
        "### Задание 3 \n",
        "Постройте график (scatter plot) зависимости кол-ва комментариев для ролика от кол-ва просмотров для роликов во Франции (country='FR'). На графике не нужно учитывать ролики с отключенными комментариями (comments_disabled=True). Какой характер зависмости получился?"
      ]
    },
    {
      "cell_type": "code",
      "execution_count": null,
      "id": "afffd617",
      "metadata": {
        "id": "afffd617",
        "run_control": {
          "frozen": false,
          "read_only": false
        }
      },
      "outputs": [],
      "source": [
        "# Your code here"
      ]
    },
    {
      "cell_type": "markdown",
      "id": "5v6kHLsIc83C",
      "metadata": {
        "id": "5v6kHLsIc83C"
      },
      "source": [
        "**Ответ**: ВАШ ОТВЕТ ЗДЕСЬ"
      ]
    }
  ],
  "metadata": {
    "colab": {
      "provenance": []
    },
    "hide_input": false,
    "kernelspec": {
      "display_name": "Python 3",
      "language": "python",
      "name": "python3"
    },
    "language_info": {
      "codemirror_mode": {
        "name": "ipython",
        "version": 3
      },
      "file_extension": ".py",
      "mimetype": "text/x-python",
      "name": "python",
      "nbconvert_exporter": "python",
      "pygments_lexer": "ipython3",
      "version": "3.12.7"
    },
    "vscode": {
      "interpreter": {
        "hash": "5238573367df39f7286bb46f9ff5f08f63a01a80960060ce41e3c79b190280fa"
      }
    }
  },
  "nbformat": 4,
  "nbformat_minor": 5
}
