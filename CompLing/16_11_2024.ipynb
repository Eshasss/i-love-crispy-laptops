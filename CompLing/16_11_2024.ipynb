{
 "cells": [
  {
   "cell_type": "markdown",
   "metadata": {
    "id": "TUFB-T4ka_vB"
   },
   "source": [
    "# Синтаксис: зависимостный парсинг (*dependency parsing*)"
   ]
  },
  {
   "cell_type": "markdown",
   "metadata": {
    "id": "5bEykYPDa49m"
   },
   "source": [
    "Зависимостный парсинг $-$ одна из немногих задач, где лингвистика и компьютерные науки продуктивно взаимодействуют. Основную теорию тут разрабатывают лингвисты, они же размечают корпусы, а модели построены на самых последних разработках в области машинного обучения.\n",
    "\n",
    "**Что такое парсинг вообще и в какой момент его нужно использовать?**\n",
    "\n",
    "Сначала мы токенизируем текст и лемматизируем (делаем морфологический разбор), а потом мы переходим к **синтаксису** и вот тут-то нам и нужен парсер.\n",
    "\n",
    "Самые популярные парсеры:\n",
    "    \n",
    "- [**SyntaxNet (DRAGNN)**](https://github.com/tensorflow/models/tree/f2f25096d3dc6561a855dab914cf2913100728d6/research/syntaxnet) от гугла.<br>SyntaxNet активно развивается, но его достаточно трудоемко ставить.\n",
    "- **UDPipe** от Карлова Университета в Чехии.<br>UDPipe работает похуже, но установить его легче.\n",
    "- [**Spacy**](https://spacy.io/)\n",
    "- **TurkuNLP** - от университета Турку (это Финляндия).<br>Позиционируется он как парсер для финского, но там есть много других предобученных моделей и можно обучать свои.\n",
    "- [**MaltParser**](http://www.maltparser.org/)"
   ]
  },
  {
   "cell_type": "markdown",
   "metadata": {
    "id": "Oe6ZLemGdboL"
   },
   "source": [
    "При парсинге используется **грамматика зависимостей**, а не грамматика составляющих. Так, любое предложение можно представить в виде дерева зависимостей.\n",
    "\n",
    "![](https://upload.wikimedia.org/wikipedia/commons/0/0d/Wearetryingtounderstandthedifference_%282%29.jpg)"
   ]
  },
  {
   "cell_type": "markdown",
   "metadata": {
    "id": "jZmKcqsaeIKq"
   },
   "source": [
    "## SpaCy"
   ]
  },
  {
   "cell_type": "markdown",
   "metadata": {
    "id": "JPpBL05IKLjY"
   },
   "source": [
    "+ Библиотека для продвинутого NLP\n",
    "+ Ряд языков: английский, русский, китайский, немецкий, французский, итальянский, польский, испанский и др. Разрабатываются модели для всё новых языков\n",
    "+ Про spaCy: https://spacy.io/usage\n",
    "+ Установка:\n",
    "```python\n",
    "pip install -U spacy\n",
    "```\n",
    "    - для английского:\n",
    "    ```python\n",
    "    python -m spacy download en_core_web_sm\n",
    "    ```\n",
    "    - для русского:\n",
    "    ```python\n",
    "    python -m spacy download ru_core_news_sm\n",
    "    ```"
   ]
  },
  {
   "cell_type": "code",
   "execution_count": 1,
   "metadata": {
    "colab": {
     "base_uri": "https://localhost:8080/"
    },
    "id": "x7Pqt_57LYXJ",
    "outputId": "7f4726c0-24f3-416d-9136-48f4b520ed3f"
   },
   "outputs": [
    {
     "name": "stderr",
     "output_type": "stream",
     "text": [
      "\n",
      "[notice] A new release of pip is available: 24.2 -> 24.3.1\n",
      "[notice] To update, run: C:\\Users\\janep\\AppData\\Local\\Microsoft\\WindowsApps\\PythonSoftwareFoundation.Python.3.12_qbz5n2kfra8p0\\python.exe -m pip install --upgrade pip\n"
     ]
    },
    {
     "name": "stdout",
     "output_type": "stream",
     "text": [
      "\u001b[38;5;2m✔ Download and installation successful\u001b[0m\n",
      "You can now load the package via spacy.load('en_core_web_sm')\n"
     ]
    },
    {
     "name": "stderr",
     "output_type": "stream",
     "text": [
      "\n",
      "[notice] A new release of pip is available: 24.2 -> 24.3.1\n",
      "[notice] To update, run: C:\\Users\\janep\\AppData\\Local\\Microsoft\\WindowsApps\\PythonSoftwareFoundation.Python.3.12_qbz5n2kfra8p0\\python.exe -m pip install --upgrade pip\n"
     ]
    },
    {
     "name": "stdout",
     "output_type": "stream",
     "text": [
      "\u001b[38;5;2m✔ Download and installation successful\u001b[0m\n",
      "You can now load the package via spacy.load('ru_core_news_sm')\n"
     ]
    },
    {
     "name": "stderr",
     "output_type": "stream",
     "text": [
      "\n",
      "[notice] A new release of pip is available: 24.2 -> 24.3.1\n",
      "[notice] To update, run: C:\\Users\\janep\\AppData\\Local\\Microsoft\\WindowsApps\\PythonSoftwareFoundation.Python.3.12_qbz5n2kfra8p0\\python.exe -m pip install --upgrade pip\n"
     ]
    }
   ],
   "source": [
    "!pip install -U spacy --q\n",
    "!python -m spacy download en_core_web_sm --q\n",
    "!python -m spacy download ru_core_news_sm --q"
   ]
  },
  {
   "cell_type": "code",
   "execution_count": 2,
   "metadata": {
    "id": "7Rzo5Yc8KLja"
   },
   "outputs": [],
   "source": [
    "import spacy"
   ]
  },
  {
   "cell_type": "markdown",
   "metadata": {
    "id": "pos1rraaKLjd"
   },
   "source": [
    "### Функционал"
   ]
  },
  {
   "cell_type": "markdown",
   "metadata": {
    "id": "zpRgnhiOKLje"
   },
   "source": [
    "#### Лемматизация (+ токенизация): `.lemma_`"
   ]
  },
  {
   "cell_type": "code",
   "execution_count": 3,
   "metadata": {
    "id": "DLPAWFBjm4HJ"
   },
   "outputs": [],
   "source": [
    "nlp_en = spacy.load(\"en_core_web_sm\")"
   ]
  },
  {
   "cell_type": "code",
   "execution_count": 4,
   "metadata": {
    "id": "7h2jb-xUOh2w"
   },
   "outputs": [],
   "source": [
    "chomsky_doc = nlp_en(\"Colorless green ideas sleep furiously\")\n",
    "shakespeare_doc = nlp_en(\"To be, or not to be, that is the question: Whether 'tis nobler in the mind to suffer\")"
   ]
  },
  {
   "cell_type": "code",
   "execution_count": 5,
   "metadata": {
    "colab": {
     "base_uri": "https://localhost:8080/"
    },
    "id": "am9qPlyeKLjf",
    "outputId": "0fbbb343-4335-4b45-bb55-c2a2b4b95b00"
   },
   "outputs": [
    {
     "name": "stdout",
     "output_type": "stream",
     "text": [
      "Colorless colorless\n",
      "green green\n",
      "ideas idea\n",
      "sleep sleep\n",
      "furiously furiously\n"
     ]
    }
   ],
   "source": [
    "for token in chomsky_doc:\n",
    "    print(token.text, token.lemma_)"
   ]
  },
  {
   "cell_type": "code",
   "execution_count": 6,
   "metadata": {
    "colab": {
     "base_uri": "https://localhost:8080/"
    },
    "id": "JxjCMvYFKLjg",
    "outputId": "ff8c105c-f56c-4023-86ef-f8c1fedcc291"
   },
   "outputs": [
    {
     "name": "stdout",
     "output_type": "stream",
     "text": [
      "To to\n",
      "be be\n",
      ", ,\n",
      "or or\n",
      "not not\n",
      "to to\n",
      "be be\n",
      ", ,\n",
      "that that\n",
      "is be\n",
      "the the\n",
      "question question\n",
      ": :\n",
      "Whether whether\n",
      "' '\n",
      "tis tis\n",
      "nobler nobler\n",
      "in in\n",
      "the the\n",
      "mind mind\n",
      "to to\n",
      "suffer suffer\n"
     ]
    }
   ],
   "source": [
    "for token in shakespeare_doc:\n",
    "    print(token.text, token.lemma_)"
   ]
  },
  {
   "cell_type": "markdown",
   "metadata": {
    "id": "yHNsr0TFOTDG"
   },
   "source": [
    "#### Частеречная разметка: `.pos_`"
   ]
  },
  {
   "cell_type": "markdown",
   "metadata": {
    "id": "eHaXR6KBIh7Z"
   },
   "source": [
    "[Документация](https://spacy.io/usage/linguistic-features#pos-tagging) с тегами."
   ]
  },
  {
   "cell_type": "code",
   "execution_count": 7,
   "metadata": {
    "colab": {
     "base_uri": "https://localhost:8080/"
    },
    "id": "_oeiP4NdKLjd",
    "outputId": "1b4bb40a-19e0-4902-da73-d542d9a36f02"
   },
   "outputs": [
    {
     "name": "stdout",
     "output_type": "stream",
     "text": [
      "Colorless ADJ\n",
      "green ADJ\n",
      "ideas NOUN\n",
      "sleep VERB\n",
      "furiously ADV\n"
     ]
    }
   ],
   "source": [
    "for token in chomsky_doc:\n",
    "    print(token.text, token.pos_)"
   ]
  },
  {
   "cell_type": "markdown",
   "metadata": {
    "id": "Jbt68hmhOvbi"
   },
   "source": [
    "#### Морфологический анализ: `.morph`"
   ]
  },
  {
   "cell_type": "code",
   "execution_count": 8,
   "metadata": {
    "colab": {
     "base_uri": "https://localhost:8080/"
    },
    "id": "ksDI8VvIKLjf",
    "outputId": "a778c438-33cc-43e0-c352-f68fa588bdb8"
   },
   "outputs": [
    {
     "name": "stdout",
     "output_type": "stream",
     "text": [
      "Colorless ADJ Degree=Pos\n",
      "green ADJ Degree=Pos\n",
      "ideas NOUN Number=Plur\n",
      "sleep VERB Tense=Pres|VerbForm=Fin\n",
      "furiously ADV \n"
     ]
    }
   ],
   "source": [
    "for token in chomsky_doc:\n",
    "    print(token.text, token.pos_, token.morph)"
   ]
  },
  {
   "cell_type": "markdown",
   "metadata": {
    "id": "s0ewrNhtKLjg"
   },
   "source": [
    "#### Синтаксис: деревья зависимостей"
   ]
  },
  {
   "cell_type": "markdown",
   "metadata": {
    "id": "HmKF71lAISEK"
   },
   "source": [
    "[Документация](https://spacy.io/usage/linguistic-features#dependency-parse) с тегами."
   ]
  },
  {
   "cell_type": "code",
   "execution_count": 9,
   "metadata": {
    "colab": {
     "base_uri": "https://localhost:8080/"
    },
    "id": "8qXmohD4KLjg",
    "outputId": "0188a391-ea6b-4032-f5ad-d4c65e890405"
   },
   "outputs": [
    {
     "name": "stdout",
     "output_type": "stream",
     "text": [
      "Colorless colorless ADJ amod\n",
      "green green ADJ amod\n",
      "ideas idea NOUN nsubj\n",
      "sleep sleep VERB ROOT\n",
      "furiously furiously ADV advmod\n"
     ]
    }
   ],
   "source": [
    "for token in chomsky_doc:\n",
    "    print(token.text, token.lemma_, token.pos_, token.dep_)"
   ]
  },
  {
   "cell_type": "markdown",
   "metadata": {
    "id": "5m4ZZR3dKLjh"
   },
   "source": [
    "#### Навигация по дереву: вершины и зависимые"
   ]
  },
  {
   "cell_type": "markdown",
   "metadata": {
    "id": "Ynj_OhfqKLjh"
   },
   "source": [
    "Используется терминология `.head` (вершина) и `.children` (зависимые)"
   ]
  },
  {
   "cell_type": "code",
   "execution_count": 10,
   "metadata": {
    "colab": {
     "base_uri": "https://localhost:8080/"
    },
    "id": "YuV3moVYKLjh",
    "outputId": "db33de6b-d4cd-4de0-9e78-17d11e936da6"
   },
   "outputs": [
    {
     "name": "stdout",
     "output_type": "stream",
     "text": [
      "Colorless amod ideas NOUN []\n",
      "green amod ideas NOUN []\n",
      "ideas nsubj sleep VERB [Colorless, green]\n",
      "sleep ROOT sleep VERB [ideas, furiously]\n",
      "furiously advmod sleep VERB []\n"
     ]
    }
   ],
   "source": [
    "for token in chomsky_doc:\n",
    "    print(token.text, token.dep_, token.head.text, token.head.pos_,\n",
    "            [child for child in token.children])"
   ]
  },
  {
   "cell_type": "code",
   "execution_count": 11,
   "metadata": {
    "id": "rp5m3nr3P0RU"
   },
   "outputs": [],
   "source": [
    "donkey_doc = nlp_en(\"If a farmer owns a donkey, he beats it.\")"
   ]
  },
  {
   "cell_type": "code",
   "execution_count": 12,
   "metadata": {
    "colab": {
     "base_uri": "https://localhost:8080/"
    },
    "id": "UUy1TmKSKLjh",
    "outputId": "a09c08f0-7752-4396-ec19-b7c5feccfc36"
   },
   "outputs": [
    {
     "name": "stdout",
     "output_type": "stream",
     "text": [
      "If mark owns VERB []\n",
      "a det farmer NOUN []\n",
      "farmer nsubj owns VERB [a]\n",
      "owns advcl beats VERB [If, farmer, donkey]\n",
      "a det donkey NOUN []\n",
      "donkey dobj owns VERB [a]\n",
      ", punct beats VERB []\n",
      "he nsubj beats VERB []\n",
      "beats ROOT beats VERB [owns, ,, he, it, .]\n",
      "it dobj beats VERB []\n",
      ". punct beats VERB []\n"
     ]
    }
   ],
   "source": [
    "for token in donkey_doc:\n",
    "    print(token.text, token.dep_, token.head.text, token.head.pos_,\n",
    "            [child for child in token.children])"
   ]
  },
  {
   "cell_type": "markdown",
   "metadata": {
    "id": "B7EKvs8gKLjh"
   },
   "source": [
    "Найдём детей *beats* справа (`.rights`) и слева (`.lefts`) в дереве:"
   ]
  },
  {
   "cell_type": "code",
   "execution_count": 13,
   "metadata": {
    "colab": {
     "base_uri": "https://localhost:8080/"
    },
    "id": "pnyF60eRKLji",
    "outputId": "fd980526-5ad2-431d-ec9e-d6af2a02cd3c"
   },
   "outputs": [
    {
     "name": "stdout",
     "output_type": "stream",
     "text": [
      "beats\n",
      "3 left child(ren): ['owns', ',', 'he']\n",
      "2 right child(ren): ['it', '.']\n"
     ]
    }
   ],
   "source": [
    "donkey_doc = nlp_en(\"If a farmer owns a donkey, he beats it.\")\n",
    "print(donkey_doc[8])\n",
    "print(f'{donkey_doc[8].n_lefts} left child(ren): {[token.text for token in donkey_doc[8].lefts]}')\n",
    "print(f'{donkey_doc[8].n_rights} right child(ren): {[token.text for token in donkey_doc[8].rights]}')"
   ]
  },
  {
   "cell_type": "markdown",
   "metadata": {
    "id": "eB9QVlFkKLji"
   },
   "source": [
    "Теперь найдём тип зависимости, детей слева, детей справа, родителей:"
   ]
  },
  {
   "cell_type": "code",
   "execution_count": 14,
   "metadata": {
    "colab": {
     "base_uri": "https://localhost:8080/"
    },
    "id": "PAaaWRtfKLji",
    "outputId": "9c747ec8-37b0-49b8-f99e-e7c71f720bb8"
   },
   "outputs": [
    {
     "name": "stdout",
     "output_type": "stream",
     "text": [
      "If mark 0 0 ['owns', 'beats']\n",
      "a det 0 0 ['farmer', 'owns', 'beats']\n",
      "farmer nsubj 1 0 ['owns', 'beats']\n",
      "owns advcl 2 1 ['beats']\n",
      "a det 0 0 ['donkey', 'owns', 'beats']\n",
      "donkey dobj 1 0 ['owns', 'beats']\n"
     ]
    }
   ],
   "source": [
    "root = [token for token in donkey_doc if token.head == token][0]  # находим корневой элемент\n",
    "subject = list(root.lefts)[0]  # берем только детей слева (ака if-часть)\n",
    "for descendant in subject.subtree:\n",
    "    assert subject is descendant or subject.is_ancestor(descendant)\n",
    "    print(descendant.text,  # слово\n",
    "          descendant.dep_,  # тип зависимости\n",
    "          descendant.n_lefts,  # сколько детей слева\n",
    "          descendant.n_rights,  # сколько детей справа\n",
    "          [ancestor.text for ancestor in descendant.ancestors]  # список родителей\n",
    "          )"
   ]
  },
  {
   "cell_type": "markdown",
   "metadata": {
    "id": "OBDCWi-dKLji"
   },
   "source": [
    "Распечатаем часть речи, тип зависимости, вершину:"
   ]
  },
  {
   "cell_type": "code",
   "execution_count": 15,
   "metadata": {
    "colab": {
     "base_uri": "https://localhost:8080/"
    },
    "id": "1Ja6rJTZKLjj",
    "outputId": "d02c8eb9-3b9e-4605-ab52-1a7d29d4b540"
   },
   "outputs": [
    {
     "name": "stdout",
     "output_type": "stream",
     "text": [
      "If SCONJ mark owns\n",
      "a DET det farmer\n",
      "farmer NOUN nsubj owns\n",
      "owns VERB advcl beats\n",
      "a DET det donkey\n",
      "donkey NOUN dobj owns\n",
      ", PUNCT punct beats\n",
      "he PRON nsubj beats\n",
      "beats VERB ROOT beats\n",
      "it PRON dobj beats\n",
      ". PUNCT punct beats\n"
     ]
    }
   ],
   "source": [
    "for token in donkey_doc:\n",
    "    print(token.text, token.pos_, token.dep_, token.head.text)"
   ]
  },
  {
   "cell_type": "markdown",
   "metadata": {
    "id": "S65SI0T4KLjj"
   },
   "source": [
    "Визуализируем дерево:"
   ]
  },
  {
   "cell_type": "code",
   "execution_count": 16,
   "metadata": {
    "id": "v7wuwD2rKLjj"
   },
   "outputs": [],
   "source": [
    "from spacy import displacy"
   ]
  },
  {
   "cell_type": "code",
   "execution_count": 17,
   "metadata": {
    "colab": {
     "base_uri": "https://localhost:8080/",
     "height": 0
    },
    "id": "-6YrejUGKLjj",
    "outputId": "5860bf0f-72d0-47cf-eee4-68cbeee9d396"
   },
   "outputs": [
    {
     "data": {
      "text/html": [
       "<span class=\"tex2jax_ignore\"><svg xmlns=\"http://www.w3.org/2000/svg\" xmlns:xlink=\"http://www.w3.org/1999/xlink\" xml:lang=\"en\" id=\"8e54a3be137543c1959030e24667f0bf-0\" class=\"displacy\" width=\"1625\" height=\"399.5\" direction=\"ltr\" style=\"max-width: none; height: 399.5px; color: #000000; background: #ffffff; font-family: Arial; direction: ltr\">\n",
       "<text class=\"displacy-token\" fill=\"currentColor\" text-anchor=\"middle\" y=\"309.5\">\n",
       "    <tspan class=\"displacy-word\" fill=\"currentColor\" x=\"50\">If</tspan>\n",
       "    <tspan class=\"displacy-tag\" dy=\"2em\" fill=\"currentColor\" x=\"50\">SCONJ</tspan>\n",
       "</text>\n",
       "\n",
       "<text class=\"displacy-token\" fill=\"currentColor\" text-anchor=\"middle\" y=\"309.5\">\n",
       "    <tspan class=\"displacy-word\" fill=\"currentColor\" x=\"225\">a</tspan>\n",
       "    <tspan class=\"displacy-tag\" dy=\"2em\" fill=\"currentColor\" x=\"225\">DET</tspan>\n",
       "</text>\n",
       "\n",
       "<text class=\"displacy-token\" fill=\"currentColor\" text-anchor=\"middle\" y=\"309.5\">\n",
       "    <tspan class=\"displacy-word\" fill=\"currentColor\" x=\"400\">farmer</tspan>\n",
       "    <tspan class=\"displacy-tag\" dy=\"2em\" fill=\"currentColor\" x=\"400\">NOUN</tspan>\n",
       "</text>\n",
       "\n",
       "<text class=\"displacy-token\" fill=\"currentColor\" text-anchor=\"middle\" y=\"309.5\">\n",
       "    <tspan class=\"displacy-word\" fill=\"currentColor\" x=\"575\">owns</tspan>\n",
       "    <tspan class=\"displacy-tag\" dy=\"2em\" fill=\"currentColor\" x=\"575\">VERB</tspan>\n",
       "</text>\n",
       "\n",
       "<text class=\"displacy-token\" fill=\"currentColor\" text-anchor=\"middle\" y=\"309.5\">\n",
       "    <tspan class=\"displacy-word\" fill=\"currentColor\" x=\"750\">a</tspan>\n",
       "    <tspan class=\"displacy-tag\" dy=\"2em\" fill=\"currentColor\" x=\"750\">DET</tspan>\n",
       "</text>\n",
       "\n",
       "<text class=\"displacy-token\" fill=\"currentColor\" text-anchor=\"middle\" y=\"309.5\">\n",
       "    <tspan class=\"displacy-word\" fill=\"currentColor\" x=\"925\">donkey,</tspan>\n",
       "    <tspan class=\"displacy-tag\" dy=\"2em\" fill=\"currentColor\" x=\"925\">NOUN</tspan>\n",
       "</text>\n",
       "\n",
       "<text class=\"displacy-token\" fill=\"currentColor\" text-anchor=\"middle\" y=\"309.5\">\n",
       "    <tspan class=\"displacy-word\" fill=\"currentColor\" x=\"1100\">he</tspan>\n",
       "    <tspan class=\"displacy-tag\" dy=\"2em\" fill=\"currentColor\" x=\"1100\">PRON</tspan>\n",
       "</text>\n",
       "\n",
       "<text class=\"displacy-token\" fill=\"currentColor\" text-anchor=\"middle\" y=\"309.5\">\n",
       "    <tspan class=\"displacy-word\" fill=\"currentColor\" x=\"1275\">beats</tspan>\n",
       "    <tspan class=\"displacy-tag\" dy=\"2em\" fill=\"currentColor\" x=\"1275\">VERB</tspan>\n",
       "</text>\n",
       "\n",
       "<text class=\"displacy-token\" fill=\"currentColor\" text-anchor=\"middle\" y=\"309.5\">\n",
       "    <tspan class=\"displacy-word\" fill=\"currentColor\" x=\"1450\">it.</tspan>\n",
       "    <tspan class=\"displacy-tag\" dy=\"2em\" fill=\"currentColor\" x=\"1450\">PRON</tspan>\n",
       "</text>\n",
       "\n",
       "<g class=\"displacy-arrow\">\n",
       "    <path class=\"displacy-arc\" id=\"arrow-8e54a3be137543c1959030e24667f0bf-0-0\" stroke-width=\"2px\" d=\"M70,264.5 C70,89.5 570.0,89.5 570.0,264.5\" fill=\"none\" stroke=\"currentColor\"/>\n",
       "    <text dy=\"1.25em\" style=\"font-size: 0.8em; letter-spacing: 1px\">\n",
       "        <textPath xlink:href=\"#arrow-8e54a3be137543c1959030e24667f0bf-0-0\" class=\"displacy-label\" startOffset=\"50%\" side=\"left\" fill=\"currentColor\" text-anchor=\"middle\">mark</textPath>\n",
       "    </text>\n",
       "    <path class=\"displacy-arrowhead\" d=\"M70,266.5 L62,254.5 78,254.5\" fill=\"currentColor\"/>\n",
       "</g>\n",
       "\n",
       "<g class=\"displacy-arrow\">\n",
       "    <path class=\"displacy-arc\" id=\"arrow-8e54a3be137543c1959030e24667f0bf-0-1\" stroke-width=\"2px\" d=\"M245,264.5 C245,177.0 390.0,177.0 390.0,264.5\" fill=\"none\" stroke=\"currentColor\"/>\n",
       "    <text dy=\"1.25em\" style=\"font-size: 0.8em; letter-spacing: 1px\">\n",
       "        <textPath xlink:href=\"#arrow-8e54a3be137543c1959030e24667f0bf-0-1\" class=\"displacy-label\" startOffset=\"50%\" side=\"left\" fill=\"currentColor\" text-anchor=\"middle\">det</textPath>\n",
       "    </text>\n",
       "    <path class=\"displacy-arrowhead\" d=\"M245,266.5 L237,254.5 253,254.5\" fill=\"currentColor\"/>\n",
       "</g>\n",
       "\n",
       "<g class=\"displacy-arrow\">\n",
       "    <path class=\"displacy-arc\" id=\"arrow-8e54a3be137543c1959030e24667f0bf-0-2\" stroke-width=\"2px\" d=\"M420,264.5 C420,177.0 565.0,177.0 565.0,264.5\" fill=\"none\" stroke=\"currentColor\"/>\n",
       "    <text dy=\"1.25em\" style=\"font-size: 0.8em; letter-spacing: 1px\">\n",
       "        <textPath xlink:href=\"#arrow-8e54a3be137543c1959030e24667f0bf-0-2\" class=\"displacy-label\" startOffset=\"50%\" side=\"left\" fill=\"currentColor\" text-anchor=\"middle\">nsubj</textPath>\n",
       "    </text>\n",
       "    <path class=\"displacy-arrowhead\" d=\"M420,266.5 L412,254.5 428,254.5\" fill=\"currentColor\"/>\n",
       "</g>\n",
       "\n",
       "<g class=\"displacy-arrow\">\n",
       "    <path class=\"displacy-arc\" id=\"arrow-8e54a3be137543c1959030e24667f0bf-0-3\" stroke-width=\"2px\" d=\"M595,264.5 C595,2.0 1275.0,2.0 1275.0,264.5\" fill=\"none\" stroke=\"currentColor\"/>\n",
       "    <text dy=\"1.25em\" style=\"font-size: 0.8em; letter-spacing: 1px\">\n",
       "        <textPath xlink:href=\"#arrow-8e54a3be137543c1959030e24667f0bf-0-3\" class=\"displacy-label\" startOffset=\"50%\" side=\"left\" fill=\"currentColor\" text-anchor=\"middle\">advcl</textPath>\n",
       "    </text>\n",
       "    <path class=\"displacy-arrowhead\" d=\"M595,266.5 L587,254.5 603,254.5\" fill=\"currentColor\"/>\n",
       "</g>\n",
       "\n",
       "<g class=\"displacy-arrow\">\n",
       "    <path class=\"displacy-arc\" id=\"arrow-8e54a3be137543c1959030e24667f0bf-0-4\" stroke-width=\"2px\" d=\"M770,264.5 C770,177.0 915.0,177.0 915.0,264.5\" fill=\"none\" stroke=\"currentColor\"/>\n",
       "    <text dy=\"1.25em\" style=\"font-size: 0.8em; letter-spacing: 1px\">\n",
       "        <textPath xlink:href=\"#arrow-8e54a3be137543c1959030e24667f0bf-0-4\" class=\"displacy-label\" startOffset=\"50%\" side=\"left\" fill=\"currentColor\" text-anchor=\"middle\">det</textPath>\n",
       "    </text>\n",
       "    <path class=\"displacy-arrowhead\" d=\"M770,266.5 L762,254.5 778,254.5\" fill=\"currentColor\"/>\n",
       "</g>\n",
       "\n",
       "<g class=\"displacy-arrow\">\n",
       "    <path class=\"displacy-arc\" id=\"arrow-8e54a3be137543c1959030e24667f0bf-0-5\" stroke-width=\"2px\" d=\"M595,264.5 C595,89.5 920.0,89.5 920.0,264.5\" fill=\"none\" stroke=\"currentColor\"/>\n",
       "    <text dy=\"1.25em\" style=\"font-size: 0.8em; letter-spacing: 1px\">\n",
       "        <textPath xlink:href=\"#arrow-8e54a3be137543c1959030e24667f0bf-0-5\" class=\"displacy-label\" startOffset=\"50%\" side=\"left\" fill=\"currentColor\" text-anchor=\"middle\">dobj</textPath>\n",
       "    </text>\n",
       "    <path class=\"displacy-arrowhead\" d=\"M920.0,266.5 L928.0,254.5 912.0,254.5\" fill=\"currentColor\"/>\n",
       "</g>\n",
       "\n",
       "<g class=\"displacy-arrow\">\n",
       "    <path class=\"displacy-arc\" id=\"arrow-8e54a3be137543c1959030e24667f0bf-0-6\" stroke-width=\"2px\" d=\"M1120,264.5 C1120,177.0 1265.0,177.0 1265.0,264.5\" fill=\"none\" stroke=\"currentColor\"/>\n",
       "    <text dy=\"1.25em\" style=\"font-size: 0.8em; letter-spacing: 1px\">\n",
       "        <textPath xlink:href=\"#arrow-8e54a3be137543c1959030e24667f0bf-0-6\" class=\"displacy-label\" startOffset=\"50%\" side=\"left\" fill=\"currentColor\" text-anchor=\"middle\">nsubj</textPath>\n",
       "    </text>\n",
       "    <path class=\"displacy-arrowhead\" d=\"M1120,266.5 L1112,254.5 1128,254.5\" fill=\"currentColor\"/>\n",
       "</g>\n",
       "\n",
       "<g class=\"displacy-arrow\">\n",
       "    <path class=\"displacy-arc\" id=\"arrow-8e54a3be137543c1959030e24667f0bf-0-7\" stroke-width=\"2px\" d=\"M1295,264.5 C1295,177.0 1440.0,177.0 1440.0,264.5\" fill=\"none\" stroke=\"currentColor\"/>\n",
       "    <text dy=\"1.25em\" style=\"font-size: 0.8em; letter-spacing: 1px\">\n",
       "        <textPath xlink:href=\"#arrow-8e54a3be137543c1959030e24667f0bf-0-7\" class=\"displacy-label\" startOffset=\"50%\" side=\"left\" fill=\"currentColor\" text-anchor=\"middle\">dobj</textPath>\n",
       "    </text>\n",
       "    <path class=\"displacy-arrowhead\" d=\"M1440.0,266.5 L1448.0,254.5 1432.0,254.5\" fill=\"currentColor\"/>\n",
       "</g>\n",
       "</svg></span>"
      ],
      "text/plain": [
       "<IPython.core.display.HTML object>"
      ]
     },
     "metadata": {},
     "output_type": "display_data"
    }
   ],
   "source": [
    "displacy.render(donkey_doc, style='dep')"
   ]
  },
  {
   "cell_type": "markdown",
   "metadata": {
    "id": "4NOLHFHFKLjk"
   },
   "source": [
    "#### Named Entity Recognition (NER)"
   ]
  },
  {
   "cell_type": "code",
   "execution_count": 18,
   "metadata": {
    "id": "D9ZEAHBnXQuM"
   },
   "outputs": [],
   "source": [
    "from spacy.tokens import Span"
   ]
  },
  {
   "cell_type": "code",
   "execution_count": 19,
   "metadata": {
    "colab": {
     "base_uri": "https://localhost:8080/"
    },
    "id": "4NHJQCmaWAY4",
    "outputId": "da4c574b-41e9-41c6-992a-ffb46316d9e0"
   },
   "outputs": [
    {
     "name": "stdout",
     "output_type": "stream",
     "text": [
      "Donald Trump 10 22 PERSON\n",
      "Twitter 49 56 PRODUCT\n"
     ]
    }
   ],
   "source": [
    "doc_twit = nlp_en(\"President Donald Trump is permanently blocked on Twitter.\")\n",
    "\n",
    "for ent in doc_twit.ents:\n",
    "    print(ent.text, ent.start_char, ent.end_char, ent.label_)"
   ]
  },
  {
   "cell_type": "code",
   "execution_count": 20,
   "metadata": {
    "colab": {
     "base_uri": "https://localhost:8080/"
    },
    "id": "MOjDeVHQKLjl",
    "outputId": "bf939457-6ae6-43a1-d3d5-9412bf0a6c95"
   },
   "outputs": [
    {
     "name": "stdout",
     "output_type": "stream",
     "text": [
      "Before [('Donald Trump', 10, 22, 'PERSON'), ('Twitter', 49, 56, 'PRODUCT')]\n",
      "After [('President', 0, 9, 'PE'), ('Donald Trump', 10, 22, 'PERSON'), ('Twitter', 49, 56, 'PRODUCT')]\n"
     ]
    }
   ],
   "source": [
    "ents = [(e.text, e.start_char, e.end_char, e.label_) for e in doc_twit.ents]\n",
    "print('Before', ents)\n",
    "# the model didn't recognise \"President\" :(\n",
    "\n",
    "president_ent = Span(doc_twit, 0, 1, label=\"PE\")  # create a Span for the new entity, PE = political entity\n",
    "doc_twit.ents = list(doc_twit.ents) + [president_ent]\n",
    "\n",
    "ents = [(e.text, e.start_char, e.end_char, e.label_) for e in doc_twit.ents]\n",
    "print('After', ents)"
   ]
  },
  {
   "cell_type": "code",
   "execution_count": 21,
   "metadata": {
    "colab": {
     "base_uri": "https://localhost:8080/",
     "height": 0
    },
    "id": "aKS_S_IwV8hj",
    "outputId": "75df0028-61aa-4e82-d4d6-ae9006b85af8"
   },
   "outputs": [
    {
     "data": {
      "text/html": [
       "<span class=\"tex2jax_ignore\"><div class=\"entities\" style=\"line-height: 2.5; direction: ltr\">\n",
       "<mark class=\"entity\" style=\"background: #ddd; padding: 0.45em 0.6em; margin: 0 0.25em; line-height: 1; border-radius: 0.35em;\">\n",
       "    President\n",
       "    <span style=\"font-size: 0.8em; font-weight: bold; line-height: 1; border-radius: 0.35em; vertical-align: middle; margin-left: 0.5rem\">PE</span>\n",
       "</mark>\n",
       " \n",
       "<mark class=\"entity\" style=\"background: #aa9cfc; padding: 0.45em 0.6em; margin: 0 0.25em; line-height: 1; border-radius: 0.35em;\">\n",
       "    Donald Trump\n",
       "    <span style=\"font-size: 0.8em; font-weight: bold; line-height: 1; border-radius: 0.35em; vertical-align: middle; margin-left: 0.5rem\">PERSON</span>\n",
       "</mark>\n",
       " is permanently blocked on \n",
       "<mark class=\"entity\" style=\"background: #bfeeb7; padding: 0.45em 0.6em; margin: 0 0.25em; line-height: 1; border-radius: 0.35em;\">\n",
       "    Twitter\n",
       "    <span style=\"font-size: 0.8em; font-weight: bold; line-height: 1; border-radius: 0.35em; vertical-align: middle; margin-left: 0.5rem\">PRODUCT</span>\n",
       "</mark>\n",
       ".</div></span>"
      ],
      "text/plain": [
       "<IPython.core.display.HTML object>"
      ]
     },
     "metadata": {},
     "output_type": "display_data"
    }
   ],
   "source": [
    "displacy.render(doc_twit, style='ent')"
   ]
  },
  {
   "cell_type": "markdown",
   "metadata": {
    "id": "u7ye8dbTKLjm"
   },
   "source": [
    "#### Как обстоят дела с другими языками?"
   ]
  },
  {
   "cell_type": "markdown",
   "metadata": {
    "id": "4dMiq7uPKLjn"
   },
   "source": [
    "Загрузим модель для русского языка:"
   ]
  },
  {
   "cell_type": "code",
   "execution_count": 22,
   "metadata": {
    "id": "KpxCZDapKLjn"
   },
   "outputs": [],
   "source": [
    "nlp_ru = spacy.load(\"ru_core_news_sm\")"
   ]
  },
  {
   "cell_type": "code",
   "execution_count": 23,
   "metadata": {
    "colab": {
     "base_uri": "https://localhost:8080/"
    },
    "id": "COYVAB7EKLjn",
    "outputId": "87dbf189-d690-43d6-ddfb-af51f1d129b5"
   },
   "outputs": [
    {
     "name": "stdout",
     "output_type": "stream",
     "text": [
      "Блины блин NOUN Animacy=Inan|Case=Nom|Gender=Masc|Number=Plur\n",
      "бабушка бабушка NOUN Animacy=Anim|Case=Nom|Gender=Fem|Number=Sing\n",
      "очень очень ADV Degree=Pos\n",
      "уж уж PART \n",
      "вкусные вкусный ADJ Case=Nom|Degree=Pos|Number=Plur\n",
      "печет печет NOUN Animacy=Inan|Case=Nom|Gender=Masc|Number=Sing\n",
      ". . PUNCT \n"
     ]
    }
   ],
   "source": [
    "pancakes_doc = nlp_ru(\"Блины бабушка очень уж вкусные печет.\")\n",
    "for token in pancakes_doc:\n",
    "    print(token.text, token.lemma_, token.pos_, token.morph)"
   ]
  },
  {
   "cell_type": "code",
   "execution_count": 24,
   "metadata": {
    "colab": {
     "base_uri": "https://localhost:8080/",
     "height": 0
    },
    "id": "fG_B5mfKaFzL",
    "outputId": "a95068cd-5673-4043-816f-5bde19db32f7"
   },
   "outputs": [
    {
     "data": {
      "text/html": [
       "<span class=\"tex2jax_ignore\"><svg xmlns=\"http://www.w3.org/2000/svg\" xmlns:xlink=\"http://www.w3.org/1999/xlink\" xml:lang=\"ru\" id=\"b4b56f72decd4bb48b2a5fd9006e9d0c-0\" class=\"displacy\" width=\"1100\" height=\"399.5\" direction=\"ltr\" style=\"max-width: none; height: 399.5px; color: #000000; background: #ffffff; font-family: Arial; direction: ltr\">\n",
       "<text class=\"displacy-token\" fill=\"currentColor\" text-anchor=\"middle\" y=\"309.5\">\n",
       "    <tspan class=\"displacy-word\" fill=\"currentColor\" x=\"50\">Блины</tspan>\n",
       "    <tspan class=\"displacy-tag\" dy=\"2em\" fill=\"currentColor\" x=\"50\">NOUN</tspan>\n",
       "</text>\n",
       "\n",
       "<text class=\"displacy-token\" fill=\"currentColor\" text-anchor=\"middle\" y=\"309.5\">\n",
       "    <tspan class=\"displacy-word\" fill=\"currentColor\" x=\"225\">бабушка</tspan>\n",
       "    <tspan class=\"displacy-tag\" dy=\"2em\" fill=\"currentColor\" x=\"225\">NOUN</tspan>\n",
       "</text>\n",
       "\n",
       "<text class=\"displacy-token\" fill=\"currentColor\" text-anchor=\"middle\" y=\"309.5\">\n",
       "    <tspan class=\"displacy-word\" fill=\"currentColor\" x=\"400\">очень</tspan>\n",
       "    <tspan class=\"displacy-tag\" dy=\"2em\" fill=\"currentColor\" x=\"400\">ADV</tspan>\n",
       "</text>\n",
       "\n",
       "<text class=\"displacy-token\" fill=\"currentColor\" text-anchor=\"middle\" y=\"309.5\">\n",
       "    <tspan class=\"displacy-word\" fill=\"currentColor\" x=\"575\">уж</tspan>\n",
       "    <tspan class=\"displacy-tag\" dy=\"2em\" fill=\"currentColor\" x=\"575\">PART</tspan>\n",
       "</text>\n",
       "\n",
       "<text class=\"displacy-token\" fill=\"currentColor\" text-anchor=\"middle\" y=\"309.5\">\n",
       "    <tspan class=\"displacy-word\" fill=\"currentColor\" x=\"750\">вкусные</tspan>\n",
       "    <tspan class=\"displacy-tag\" dy=\"2em\" fill=\"currentColor\" x=\"750\">ADJ</tspan>\n",
       "</text>\n",
       "\n",
       "<text class=\"displacy-token\" fill=\"currentColor\" text-anchor=\"middle\" y=\"309.5\">\n",
       "    <tspan class=\"displacy-word\" fill=\"currentColor\" x=\"925\">печет.</tspan>\n",
       "    <tspan class=\"displacy-tag\" dy=\"2em\" fill=\"currentColor\" x=\"925\">NOUN</tspan>\n",
       "</text>\n",
       "\n",
       "<g class=\"displacy-arrow\">\n",
       "    <path class=\"displacy-arc\" id=\"arrow-b4b56f72decd4bb48b2a5fd9006e9d0c-0-0\" stroke-width=\"2px\" d=\"M70,264.5 C70,2.0 925.0,2.0 925.0,264.5\" fill=\"none\" stroke=\"currentColor\"/>\n",
       "    <text dy=\"1.25em\" style=\"font-size: 0.8em; letter-spacing: 1px\">\n",
       "        <textPath xlink:href=\"#arrow-b4b56f72decd4bb48b2a5fd9006e9d0c-0-0\" class=\"displacy-label\" startOffset=\"50%\" side=\"left\" fill=\"currentColor\" text-anchor=\"middle\">nsubj</textPath>\n",
       "    </text>\n",
       "    <path class=\"displacy-arrowhead\" d=\"M70,266.5 L62,254.5 78,254.5\" fill=\"currentColor\"/>\n",
       "</g>\n",
       "\n",
       "<g class=\"displacy-arrow\">\n",
       "    <path class=\"displacy-arc\" id=\"arrow-b4b56f72decd4bb48b2a5fd9006e9d0c-0-1\" stroke-width=\"2px\" d=\"M245,264.5 C245,89.5 920.0,89.5 920.0,264.5\" fill=\"none\" stroke=\"currentColor\"/>\n",
       "    <text dy=\"1.25em\" style=\"font-size: 0.8em; letter-spacing: 1px\">\n",
       "        <textPath xlink:href=\"#arrow-b4b56f72decd4bb48b2a5fd9006e9d0c-0-1\" class=\"displacy-label\" startOffset=\"50%\" side=\"left\" fill=\"currentColor\" text-anchor=\"middle\">nsubj</textPath>\n",
       "    </text>\n",
       "    <path class=\"displacy-arrowhead\" d=\"M245,266.5 L237,254.5 253,254.5\" fill=\"currentColor\"/>\n",
       "</g>\n",
       "\n",
       "<g class=\"displacy-arrow\">\n",
       "    <path class=\"displacy-arc\" id=\"arrow-b4b56f72decd4bb48b2a5fd9006e9d0c-0-2\" stroke-width=\"2px\" d=\"M420,264.5 C420,177.0 565.0,177.0 565.0,264.5\" fill=\"none\" stroke=\"currentColor\"/>\n",
       "    <text dy=\"1.25em\" style=\"font-size: 0.8em; letter-spacing: 1px\">\n",
       "        <textPath xlink:href=\"#arrow-b4b56f72decd4bb48b2a5fd9006e9d0c-0-2\" class=\"displacy-label\" startOffset=\"50%\" side=\"left\" fill=\"currentColor\" text-anchor=\"middle\">advmod</textPath>\n",
       "    </text>\n",
       "    <path class=\"displacy-arrowhead\" d=\"M420,266.5 L412,254.5 428,254.5\" fill=\"currentColor\"/>\n",
       "</g>\n",
       "\n",
       "<g class=\"displacy-arrow\">\n",
       "    <path class=\"displacy-arc\" id=\"arrow-b4b56f72decd4bb48b2a5fd9006e9d0c-0-3\" stroke-width=\"2px\" d=\"M595,264.5 C595,177.0 740.0,177.0 740.0,264.5\" fill=\"none\" stroke=\"currentColor\"/>\n",
       "    <text dy=\"1.25em\" style=\"font-size: 0.8em; letter-spacing: 1px\">\n",
       "        <textPath xlink:href=\"#arrow-b4b56f72decd4bb48b2a5fd9006e9d0c-0-3\" class=\"displacy-label\" startOffset=\"50%\" side=\"left\" fill=\"currentColor\" text-anchor=\"middle\">advmod</textPath>\n",
       "    </text>\n",
       "    <path class=\"displacy-arrowhead\" d=\"M595,266.5 L587,254.5 603,254.5\" fill=\"currentColor\"/>\n",
       "</g>\n",
       "\n",
       "<g class=\"displacy-arrow\">\n",
       "    <path class=\"displacy-arc\" id=\"arrow-b4b56f72decd4bb48b2a5fd9006e9d0c-0-4\" stroke-width=\"2px\" d=\"M770,264.5 C770,177.0 915.0,177.0 915.0,264.5\" fill=\"none\" stroke=\"currentColor\"/>\n",
       "    <text dy=\"1.25em\" style=\"font-size: 0.8em; letter-spacing: 1px\">\n",
       "        <textPath xlink:href=\"#arrow-b4b56f72decd4bb48b2a5fd9006e9d0c-0-4\" class=\"displacy-label\" startOffset=\"50%\" side=\"left\" fill=\"currentColor\" text-anchor=\"middle\">amod</textPath>\n",
       "    </text>\n",
       "    <path class=\"displacy-arrowhead\" d=\"M770,266.5 L762,254.5 778,254.5\" fill=\"currentColor\"/>\n",
       "</g>\n",
       "</svg></span>"
      ],
      "text/plain": [
       "<IPython.core.display.HTML object>"
      ]
     },
     "metadata": {},
     "output_type": "display_data"
    }
   ],
   "source": [
    "displacy.render(pancakes_doc, style='dep')"
   ]
  },
  {
   "cell_type": "code",
   "execution_count": 25,
   "metadata": {
    "colab": {
     "base_uri": "https://localhost:8080/",
     "height": 0
    },
    "id": "DBKwaWbDKLjn",
    "outputId": "6d66d729-b3b5-4ffe-c1a7-30e550b53e0b"
   },
   "outputs": [
    {
     "data": {
      "text/html": [
       "<span class=\"tex2jax_ignore\"><svg xmlns=\"http://www.w3.org/2000/svg\" xmlns:xlink=\"http://www.w3.org/1999/xlink\" xml:lang=\"ru\" id=\"6a6743e0aa374d36b14d5f3315f275cc-0\" class=\"displacy\" width=\"575\" height=\"312.0\" direction=\"ltr\" style=\"max-width: none; height: 312.0px; color: #000000; background: #ffffff; font-family: Arial; direction: ltr\">\n",
       "<text class=\"displacy-token\" fill=\"currentColor\" text-anchor=\"middle\" y=\"222.0\">\n",
       "    <tspan class=\"displacy-word\" fill=\"currentColor\" x=\"50\">Какой</tspan>\n",
       "    <tspan class=\"displacy-tag\" dy=\"2em\" fill=\"currentColor\" x=\"50\">DET</tspan>\n",
       "</text>\n",
       "\n",
       "<text class=\"displacy-token\" fill=\"currentColor\" text-anchor=\"middle\" y=\"222.0\">\n",
       "    <tspan class=\"displacy-word\" fill=\"currentColor\" x=\"225\">прекрасный</tspan>\n",
       "    <tspan class=\"displacy-tag\" dy=\"2em\" fill=\"currentColor\" x=\"225\">ADJ</tspan>\n",
       "</text>\n",
       "\n",
       "<text class=\"displacy-token\" fill=\"currentColor\" text-anchor=\"middle\" y=\"222.0\">\n",
       "    <tspan class=\"displacy-word\" fill=\"currentColor\" x=\"400\">пень!</tspan>\n",
       "    <tspan class=\"displacy-tag\" dy=\"2em\" fill=\"currentColor\" x=\"400\">NOUN</tspan>\n",
       "</text>\n",
       "\n",
       "<g class=\"displacy-arrow\">\n",
       "    <path class=\"displacy-arc\" id=\"arrow-6a6743e0aa374d36b14d5f3315f275cc-0-0\" stroke-width=\"2px\" d=\"M70,177.0 C70,2.0 400.0,2.0 400.0,177.0\" fill=\"none\" stroke=\"currentColor\"/>\n",
       "    <text dy=\"1.25em\" style=\"font-size: 0.8em; letter-spacing: 1px\">\n",
       "        <textPath xlink:href=\"#arrow-6a6743e0aa374d36b14d5f3315f275cc-0-0\" class=\"displacy-label\" startOffset=\"50%\" side=\"left\" fill=\"currentColor\" text-anchor=\"middle\">det</textPath>\n",
       "    </text>\n",
       "    <path class=\"displacy-arrowhead\" d=\"M70,179.0 L62,167.0 78,167.0\" fill=\"currentColor\"/>\n",
       "</g>\n",
       "\n",
       "<g class=\"displacy-arrow\">\n",
       "    <path class=\"displacy-arc\" id=\"arrow-6a6743e0aa374d36b14d5f3315f275cc-0-1\" stroke-width=\"2px\" d=\"M245,177.0 C245,89.5 395.0,89.5 395.0,177.0\" fill=\"none\" stroke=\"currentColor\"/>\n",
       "    <text dy=\"1.25em\" style=\"font-size: 0.8em; letter-spacing: 1px\">\n",
       "        <textPath xlink:href=\"#arrow-6a6743e0aa374d36b14d5f3315f275cc-0-1\" class=\"displacy-label\" startOffset=\"50%\" side=\"left\" fill=\"currentColor\" text-anchor=\"middle\">amod</textPath>\n",
       "    </text>\n",
       "    <path class=\"displacy-arrowhead\" d=\"M245,179.0 L237,167.0 253,167.0\" fill=\"currentColor\"/>\n",
       "</g>\n",
       "</svg></span>"
      ],
      "text/plain": [
       "<IPython.core.display.HTML object>"
      ]
     },
     "metadata": {},
     "output_type": "display_data"
    }
   ],
   "source": [
    "mouse_doc = nlp_ru(\"Какой прекрасный пень!\")\n",
    "\n",
    "displacy.render(mouse_doc, style='dep')"
   ]
  },
  {
   "cell_type": "code",
   "execution_count": 26,
   "metadata": {
    "colab": {
     "base_uri": "https://localhost:8080/",
     "height": 0
    },
    "id": "Sd8ZETooKLjo",
    "outputId": "38023444-c607-41de-fc52-4ca398177ceb"
   },
   "outputs": [
    {
     "data": {
      "text/html": [
       "<span class=\"tex2jax_ignore\"><svg xmlns=\"http://www.w3.org/2000/svg\" xmlns:xlink=\"http://www.w3.org/1999/xlink\" xml:lang=\"ru\" id=\"2034f1000b5f452a82a87147ea2a1dc3-0\" class=\"displacy\" width=\"1450\" height=\"487.0\" direction=\"ltr\" style=\"max-width: none; height: 487.0px; color: #000000; background: #ffffff; font-family: Arial; direction: ltr\">\n",
       "<text class=\"displacy-token\" fill=\"currentColor\" text-anchor=\"middle\" y=\"397.0\">\n",
       "    <tspan class=\"displacy-word\" fill=\"currentColor\" x=\"50\">Семантику</tspan>\n",
       "    <tspan class=\"displacy-tag\" dy=\"2em\" fill=\"currentColor\" x=\"50\">NOUN</tspan>\n",
       "</text>\n",
       "\n",
       "<text class=\"displacy-token\" fill=\"currentColor\" text-anchor=\"middle\" y=\"397.0\">\n",
       "    <tspan class=\"displacy-word\" fill=\"currentColor\" x=\"225\">я</tspan>\n",
       "    <tspan class=\"displacy-tag\" dy=\"2em\" fill=\"currentColor\" x=\"225\">PRON</tspan>\n",
       "</text>\n",
       "\n",
       "<text class=\"displacy-token\" fill=\"currentColor\" text-anchor=\"middle\" y=\"397.0\">\n",
       "    <tspan class=\"displacy-word\" fill=\"currentColor\" x=\"400\">люблю,</tspan>\n",
       "    <tspan class=\"displacy-tag\" dy=\"2em\" fill=\"currentColor\" x=\"400\">VERB</tspan>\n",
       "</text>\n",
       "\n",
       "<text class=\"displacy-token\" fill=\"currentColor\" text-anchor=\"middle\" y=\"397.0\">\n",
       "    <tspan class=\"displacy-word\" fill=\"currentColor\" x=\"575\">а</tspan>\n",
       "    <tspan class=\"displacy-tag\" dy=\"2em\" fill=\"currentColor\" x=\"575\">CCONJ</tspan>\n",
       "</text>\n",
       "\n",
       "<text class=\"displacy-token\" fill=\"currentColor\" text-anchor=\"middle\" y=\"397.0\">\n",
       "    <tspan class=\"displacy-word\" fill=\"currentColor\" x=\"750\">вот</tspan>\n",
       "    <tspan class=\"displacy-tag\" dy=\"2em\" fill=\"currentColor\" x=\"750\">PART</tspan>\n",
       "</text>\n",
       "\n",
       "<text class=\"displacy-token\" fill=\"currentColor\" text-anchor=\"middle\" y=\"397.0\">\n",
       "    <tspan class=\"displacy-word\" fill=\"currentColor\" x=\"925\">синтаксис</tspan>\n",
       "    <tspan class=\"displacy-tag\" dy=\"2em\" fill=\"currentColor\" x=\"925\">NOUN</tspan>\n",
       "</text>\n",
       "\n",
       "<text class=\"displacy-token\" fill=\"currentColor\" text-anchor=\"middle\" y=\"397.0\">\n",
       "    <tspan class=\"displacy-word\" fill=\"currentColor\" x=\"1100\">не</tspan>\n",
       "    <tspan class=\"displacy-tag\" dy=\"2em\" fill=\"currentColor\" x=\"1100\">PART</tspan>\n",
       "</text>\n",
       "\n",
       "<text class=\"displacy-token\" fill=\"currentColor\" text-anchor=\"middle\" y=\"397.0\">\n",
       "    <tspan class=\"displacy-word\" fill=\"currentColor\" x=\"1275\">очень.</tspan>\n",
       "    <tspan class=\"displacy-tag\" dy=\"2em\" fill=\"currentColor\" x=\"1275\">ADV</tspan>\n",
       "</text>\n",
       "\n",
       "<g class=\"displacy-arrow\">\n",
       "    <path class=\"displacy-arc\" id=\"arrow-2034f1000b5f452a82a87147ea2a1dc3-0-0\" stroke-width=\"2px\" d=\"M70,352.0 C70,177.0 390.0,177.0 390.0,352.0\" fill=\"none\" stroke=\"currentColor\"/>\n",
       "    <text dy=\"1.25em\" style=\"font-size: 0.8em; letter-spacing: 1px\">\n",
       "        <textPath xlink:href=\"#arrow-2034f1000b5f452a82a87147ea2a1dc3-0-0\" class=\"displacy-label\" startOffset=\"50%\" side=\"left\" fill=\"currentColor\" text-anchor=\"middle\">obj</textPath>\n",
       "    </text>\n",
       "    <path class=\"displacy-arrowhead\" d=\"M70,354.0 L62,342.0 78,342.0\" fill=\"currentColor\"/>\n",
       "</g>\n",
       "\n",
       "<g class=\"displacy-arrow\">\n",
       "    <path class=\"displacy-arc\" id=\"arrow-2034f1000b5f452a82a87147ea2a1dc3-0-1\" stroke-width=\"2px\" d=\"M245,352.0 C245,264.5 385.0,264.5 385.0,352.0\" fill=\"none\" stroke=\"currentColor\"/>\n",
       "    <text dy=\"1.25em\" style=\"font-size: 0.8em; letter-spacing: 1px\">\n",
       "        <textPath xlink:href=\"#arrow-2034f1000b5f452a82a87147ea2a1dc3-0-1\" class=\"displacy-label\" startOffset=\"50%\" side=\"left\" fill=\"currentColor\" text-anchor=\"middle\">nsubj</textPath>\n",
       "    </text>\n",
       "    <path class=\"displacy-arrowhead\" d=\"M245,354.0 L237,342.0 253,342.0\" fill=\"currentColor\"/>\n",
       "</g>\n",
       "\n",
       "<g class=\"displacy-arrow\">\n",
       "    <path class=\"displacy-arc\" id=\"arrow-2034f1000b5f452a82a87147ea2a1dc3-0-2\" stroke-width=\"2px\" d=\"M595,352.0 C595,89.5 1270.0,89.5 1270.0,352.0\" fill=\"none\" stroke=\"currentColor\"/>\n",
       "    <text dy=\"1.25em\" style=\"font-size: 0.8em; letter-spacing: 1px\">\n",
       "        <textPath xlink:href=\"#arrow-2034f1000b5f452a82a87147ea2a1dc3-0-2\" class=\"displacy-label\" startOffset=\"50%\" side=\"left\" fill=\"currentColor\" text-anchor=\"middle\">cc</textPath>\n",
       "    </text>\n",
       "    <path class=\"displacy-arrowhead\" d=\"M595,354.0 L587,342.0 603,342.0\" fill=\"currentColor\"/>\n",
       "</g>\n",
       "\n",
       "<g class=\"displacy-arrow\">\n",
       "    <path class=\"displacy-arc\" id=\"arrow-2034f1000b5f452a82a87147ea2a1dc3-0-3\" stroke-width=\"2px\" d=\"M770,352.0 C770,264.5 910.0,264.5 910.0,352.0\" fill=\"none\" stroke=\"currentColor\"/>\n",
       "    <text dy=\"1.25em\" style=\"font-size: 0.8em; letter-spacing: 1px\">\n",
       "        <textPath xlink:href=\"#arrow-2034f1000b5f452a82a87147ea2a1dc3-0-3\" class=\"displacy-label\" startOffset=\"50%\" side=\"left\" fill=\"currentColor\" text-anchor=\"middle\">advmod</textPath>\n",
       "    </text>\n",
       "    <path class=\"displacy-arrowhead\" d=\"M770,354.0 L762,342.0 778,342.0\" fill=\"currentColor\"/>\n",
       "</g>\n",
       "\n",
       "<g class=\"displacy-arrow\">\n",
       "    <path class=\"displacy-arc\" id=\"arrow-2034f1000b5f452a82a87147ea2a1dc3-0-4\" stroke-width=\"2px\" d=\"M945,352.0 C945,177.0 1265.0,177.0 1265.0,352.0\" fill=\"none\" stroke=\"currentColor\"/>\n",
       "    <text dy=\"1.25em\" style=\"font-size: 0.8em; letter-spacing: 1px\">\n",
       "        <textPath xlink:href=\"#arrow-2034f1000b5f452a82a87147ea2a1dc3-0-4\" class=\"displacy-label\" startOffset=\"50%\" side=\"left\" fill=\"currentColor\" text-anchor=\"middle\">nsubj</textPath>\n",
       "    </text>\n",
       "    <path class=\"displacy-arrowhead\" d=\"M945,354.0 L937,342.0 953,342.0\" fill=\"currentColor\"/>\n",
       "</g>\n",
       "\n",
       "<g class=\"displacy-arrow\">\n",
       "    <path class=\"displacy-arc\" id=\"arrow-2034f1000b5f452a82a87147ea2a1dc3-0-5\" stroke-width=\"2px\" d=\"M1120,352.0 C1120,264.5 1260.0,264.5 1260.0,352.0\" fill=\"none\" stroke=\"currentColor\"/>\n",
       "    <text dy=\"1.25em\" style=\"font-size: 0.8em; letter-spacing: 1px\">\n",
       "        <textPath xlink:href=\"#arrow-2034f1000b5f452a82a87147ea2a1dc3-0-5\" class=\"displacy-label\" startOffset=\"50%\" side=\"left\" fill=\"currentColor\" text-anchor=\"middle\">advmod</textPath>\n",
       "    </text>\n",
       "    <path class=\"displacy-arrowhead\" d=\"M1120,354.0 L1112,342.0 1128,342.0\" fill=\"currentColor\"/>\n",
       "</g>\n",
       "\n",
       "<g class=\"displacy-arrow\">\n",
       "    <path class=\"displacy-arc\" id=\"arrow-2034f1000b5f452a82a87147ea2a1dc3-0-6\" stroke-width=\"2px\" d=\"M420,352.0 C420,2.0 1275.0,2.0 1275.0,352.0\" fill=\"none\" stroke=\"currentColor\"/>\n",
       "    <text dy=\"1.25em\" style=\"font-size: 0.8em; letter-spacing: 1px\">\n",
       "        <textPath xlink:href=\"#arrow-2034f1000b5f452a82a87147ea2a1dc3-0-6\" class=\"displacy-label\" startOffset=\"50%\" side=\"left\" fill=\"currentColor\" text-anchor=\"middle\">conj</textPath>\n",
       "    </text>\n",
       "    <path class=\"displacy-arrowhead\" d=\"M1275.0,354.0 L1283.0,342.0 1267.0,342.0\" fill=\"currentColor\"/>\n",
       "</g>\n",
       "</svg></span>"
      ],
      "text/plain": [
       "<IPython.core.display.HTML object>"
      ]
     },
     "metadata": {},
     "output_type": "display_data"
    }
   ],
   "source": [
    "sem_synt_doc = nlp_ru(\"Семантику я люблю, а вот синтаксис не очень.\")\n",
    "\n",
    "displacy.render(sem_synt_doc, style='dep')"
   ]
  },
  {
   "cell_type": "code",
   "execution_count": 27,
   "metadata": {
    "colab": {
     "base_uri": "https://localhost:8080/",
     "height": 0
    },
    "id": "IFwEjGleKLjo",
    "outputId": "ac9a474b-df00-4f24-e6fd-4fabfcffda1b"
   },
   "outputs": [
    {
     "data": {
      "text/html": [
       "<span class=\"tex2jax_ignore\"><div class=\"entities\" style=\"line-height: 2.5; direction: ltr\">Легендарный \n",
       "<mark class=\"entity\" style=\"background: #ddd; padding: 0.45em 0.6em; margin: 0 0.25em; line-height: 1; border-radius: 0.35em;\">\n",
       "    Бока\n",
       "    <span style=\"font-size: 0.8em; font-weight: bold; line-height: 1; border-radius: 0.35em; vertical-align: middle; margin-left: 0.5rem\">PER</span>\n",
       "</mark>\n",
       " и его внук популярный певец \n",
       "<mark class=\"entity\" style=\"background: #ddd; padding: 0.45em 0.6em; margin: 0 0.25em; line-height: 1; border-radius: 0.35em;\">\n",
       "    Жока\n",
       "    <span style=\"font-size: 0.8em; font-weight: bold; line-height: 1; border-radius: 0.35em; vertical-align: middle; margin-left: 0.5rem\">PER</span>\n",
       "</mark>\n",
       " пишут код на \n",
       "<mark class=\"entity\" style=\"background: #7aecec; padding: 0.45em 0.6em; margin: 0 0.25em; line-height: 1; border-radius: 0.35em;\">\n",
       "    Python\n",
       "    <span style=\"font-size: 0.8em; font-weight: bold; line-height: 1; border-radius: 0.35em; vertical-align: middle; margin-left: 0.5rem\">ORG</span>\n",
       "</mark>\n",
       ".</div></span>"
      ],
      "text/plain": [
       "<IPython.core.display.HTML object>"
      ]
     },
     "metadata": {},
     "output_type": "display_data"
    }
   ],
   "source": [
    "kate_doc = nlp_ru(\"Легендарный Бока и его внук популярный певец Жока пишут код на Python.\")\n",
    "\n",
    "displacy.render(kate_doc, style='ent')"
   ]
  },
  {
   "cell_type": "markdown",
   "metadata": {
    "id": "naLr-K7ebddj"
   },
   "source": [
    "## Universal Dependencies Parser"
   ]
  },
  {
   "cell_type": "markdown",
   "metadata": {
    "id": "6SgjRPN1bgDw"
   },
   "source": [
    "[Один из туториалов-сравнений](https://habr.com/ru/company/sberbank/blog/418701/)\n",
    "\n",
    "[**Universal Dependencies**](https://universaldependencies.org/) $-$ это проект по унификации разметки синтаксических корпусов (трибанков) в рамках грамматики зависимостей.\n",
    "\n",
    "В русском языке количество типов синтаксических связей ограничено: подлежащее, сказуемое и т.д. В английском то же самое, но набор уже другой. Например, там появляется артикль, который тоже надо как-то маркировать. Если бы мы хотели написать волшебный парсер, который мог бы обрабатывать все языки, то довольно быстро уперлись бы в проблемы сопоставления разных грамматик. Героическим создателям Universal Dependencies удалось договориться между собой и разметить все корпусы, которые имелись в их распоряжении, в едином формате.\n",
    "\n",
    "Для того, чтобы разметить что-то новое, нужно обучить модель на размеченном корпусе. Таких корпусов для русского языка есть несколько (можно посмотреть на сайте Universal Dependencies). Основные и самые большие размеченные корпуса:\n",
    "+ Syntagrus\n",
    "+ Taiga"
   ]
  },
  {
   "cell_type": "markdown",
   "metadata": {
    "id": "WvEC_5HjdWuV"
   },
   "source": [
    "### UDPipe 2.0, принцип работы"
   ]
  },
  {
   "cell_type": "markdown",
   "metadata": {
    "id": "zV17Z5aAdRcT"
   },
   "source": [
    "+ Сначала текст разделяется на предложения, а предложения $-$ на слова.\n",
    "+ Затем начинает работу теггер $-$ штука, которая предсказывает морфологические свойства токена: в каком падеже слово стоит, в каком числе. По последним четырем символам каждого слова теггер генерирует гипотезы относительно части речи и морфологических тегов этого слова, а затем при помощи перцептрона отбирает лучший вариант.\n",
    "+ В UDPipe есть еще лемматизатор, который подбирает для слов начальную форму.\n",
    "+ потом происходит синтаксический парсинг\n",
    "\n",
    "В итоге получается какой-то такой разбор по грамматике зависимостей предложения:\n",
    "\n",
    "Пример для английского            |  Пример для русского\n",
    ":--------------------------------:|:-------------------------:\n",
    "![](https://habrastorage.org/getpro/habr/post_images/686/c78/066/686c780661b296250d53cba054317a18.png)  |  ![](https://github.com/hse-ling-python/seminars/blob/master/UDPipe/koshka.png?raw=1)\n",
    "\n",
    "\n",
    "\n"
   ]
  },
  {
   "cell_type": "markdown",
   "metadata": {
    "id": "8F7nvH8Qd-dZ"
   },
   "source": [
    "## UDPipe в Python"
   ]
  },
  {
   "cell_type": "markdown",
   "metadata": {
    "id": "ZYuOH38veEwX"
   },
   "source": [
    "+ Установка:\n",
    "```python\n",
    "pip install ufal.udpipe\n",
    "pip install conllu\n",
    "```\n",
    "+ вспомогательный скрипт `model.py`: cкачайте его себе с нашего [гитхаба](https://raw.githubusercontent.com/hse-ling-python/seminars/refs/heads/master/UDPipe/model.py).\n",
    "\n",
    "+ модель для русского (либо *taiga*, либо *syntagrus*): скачать [отсюда](https://github.com/jwijffels/udpipe.models.ud.2.4/tree/master/inst/udpipe-ud-2.4-190531). ."
   ]
  },
  {
   "cell_type": "code",
   "execution_count": 28,
   "metadata": {
    "colab": {
     "base_uri": "https://localhost:8080/"
    },
    "id": "RKGloEbVbczi",
    "outputId": "32d76d7a-d107-47be-dedf-f8aeebcf209b"
   },
   "outputs": [
    {
     "name": "stderr",
     "output_type": "stream",
     "text": [
      "\n",
      "[notice] A new release of pip is available: 24.2 -> 24.3.1\n",
      "[notice] To update, run: C:\\Users\\janep\\AppData\\Local\\Microsoft\\WindowsApps\\PythonSoftwareFoundation.Python.3.12_qbz5n2kfra8p0\\python.exe -m pip install --upgrade pip\n",
      "\n",
      "[notice] A new release of pip is available: 24.2 -> 24.3.1\n",
      "[notice] To update, run: C:\\Users\\janep\\AppData\\Local\\Microsoft\\WindowsApps\\PythonSoftwareFoundation.Python.3.12_qbz5n2kfra8p0\\python.exe -m pip install --upgrade pip\n"
     ]
    }
   ],
   "source": [
    "!pip install ufal.udpipe --q\n",
    "!pip install conllu --q"
   ]
  },
  {
   "cell_type": "code",
   "execution_count": 29,
   "metadata": {
    "colab": {
     "base_uri": "https://localhost:8080/",
     "height": 287
    },
    "id": "0rNNsYdyA03p",
    "outputId": "2cf39d11-548c-4795-81ba-6e1e737071d9"
   },
   "outputs": [],
   "source": [
    "from nltk import DependencyGraph"
   ]
  },
  {
   "cell_type": "code",
   "execution_count": 30,
   "metadata": {
    "colab": {
     "base_uri": "https://localhost:8080/"
    },
    "id": "Uhk9ODlm4Vz_",
    "outputId": "483a96d8-ce60-4504-ec4b-11b743cf6b4c"
   },
   "outputs": [
    {
     "name": "stdout",
     "output_type": "stream",
     "text": [
      "Defaulting to user installation because normal site-packages is not writeable\n"
     ]
    },
    {
     "name": "stderr",
     "output_type": "stream",
     "text": [
      "ERROR: Could not find a version that satisfies the requirement nltk.parse (from versions: none)\n",
      "\n",
      "[notice] A new release of pip is available: 24.2 -> 24.3.1\n",
      "[notice] To update, run: C:\\Users\\janep\\AppData\\Local\\Microsoft\\WindowsApps\\PythonSoftwareFoundation.Python.3.12_qbz5n2kfra8p0\\python.exe -m pip install --upgrade pip\n",
      "ERROR: No matching distribution found for nltk.parse\n"
     ]
    }
   ],
   "source": [
    "!pip install nltk.parse"
   ]
  },
  {
   "cell_type": "code",
   "execution_count": 31,
   "metadata": {
    "id": "g5lHGfmLeY1x"
   },
   "outputs": [
    {
     "name": "stderr",
     "output_type": "stream",
     "text": [
      "'wget' is not recognized as an internal or external command,\n",
      "operable program or batch file.\n",
      "'wget' is not recognized as an internal or external command,\n",
      "operable program or batch file.\n"
     ]
    }
   ],
   "source": [
    "!wget -q https://raw.githubusercontent.com/KatiaKozlova/files/refs/heads/main/57-10/syntax/model.py\n",
    "!wget -q https://github.com/jwijffels/udpipe.models.ud.2.4/raw/refs/heads/master/inst/udpipe-ud-2.4-190531/russian-taiga-ud-2.4-190531.udpipe"
   ]
  },
  {
   "cell_type": "code",
   "execution_count": 32,
   "metadata": {
    "id": "77CNHE6jeX86"
   },
   "outputs": [],
   "source": [
    "import ufal.udpipe\n",
    "from model import Model\n",
    "import conllu\n",
    "# from nltk.parse import DependencyGraph\n",
    "\n",
    "import warnings\n",
    "import os\n",
    "from collections import defaultdict, Counter\n",
    "\n",
    "\n",
    "warnings.filterwarnings('ignore')"
   ]
  },
  {
   "cell_type": "code",
   "execution_count": 33,
   "metadata": {
    "id": "M8pBDwAHe1P8"
   },
   "outputs": [],
   "source": [
    "our_model = Model('russian-taiga-ud-2.4-190531.udpipe')"
   ]
  },
  {
   "cell_type": "code",
   "execution_count": 34,
   "metadata": {
    "id": "OlHw4q53e1xG"
   },
   "outputs": [],
   "source": [
    "def get_conllu(my_model, text):\n",
    "    sentences = my_model.tokenize(text)\n",
    "\n",
    "    for sent in sentences:\n",
    "        my_model.tag(sent)\n",
    "        my_model.parse(sent)\n",
    "\n",
    "    conllu_text = my_model.write(sentences, \"conllu\")\n",
    "    return conllu_text"
   ]
  },
  {
   "cell_type": "markdown",
   "metadata": {
    "id": "9IgBKWSgtRGR"
   },
   "source": [
    "#### Парсинг: `get_conllu` вернёт табличку с анализом каждого слова"
   ]
  },
  {
   "cell_type": "code",
   "execution_count": 35,
   "metadata": {
    "colab": {
     "base_uri": "https://localhost:8080/"
    },
    "id": "XzSN0vzftRGS",
    "outputId": "66a82248-aa37-420d-d695-74b900af1c72"
   },
   "outputs": [
    {
     "name": "stdout",
     "output_type": "stream",
     "text": [
      "# newdoc\n",
      "# newpar\n",
      "# sent_id = 1\n",
      "# text = Я была в школе целый день.\n",
      "1\tЯ\tя\tPRON\t_\tCase=Nom|Number=Sing|Person=1\t6\tnsubj\t_\t_\n",
      "2\tбыла\tбыть\tAUX\t_\tAspect=Imp|Gender=Fem|Mood=Ind|Number=Sing|Tense=Past|VerbForm=Fin|Voice=Act\t6\tcop\t_\t_\n",
      "3\tв\tв\tADP\t_\t_\t4\tcase\t_\t_\n",
      "4\tшколе\tшколя\tNOUN\t_\tAnimacy=Inan|Case=Loc|Gender=Masc|Number=Sing\t6\tnmod\t_\t_\n",
      "5\tцелый\tцелый\tADJ\t_\tAnimacy=Inan|Case=Acc|Degree=Pos|Gender=Masc|Number=Sing\t6\tamod\t_\t_\n",
      "6\tдень\tдень\tNOUN\t_\tAnimacy=Inan|Case=Acc|Gender=Masc|Number=Sing\t0\troot\t_\tSpaceAfter=No\n",
      "7\t.\t.\tPUNCT\t_\t_\t6\tpunct\t_\t_\n",
      "\n",
      "# sent_id = 2\n",
      "# text = И завтра тоже там буду.\n",
      "1\tИ\tи\tCCONJ\t_\t_\t4\tcc\t_\t_\n",
      "2\tзавтра\tзавтра\tADV\t_\tDegree=Pos\t4\tadvmod\t_\t_\n",
      "3\tтоже\tтоже\tPART\t_\t_\t4\tadvmod\t_\t_\n",
      "4\tтам\tтам\tADV\t_\tDegree=Pos\t0\troot\t_\t_\n",
      "5\tбуду\tбыть\tAUX\t_\tAspect=Imp|Mood=Ind|Number=Sing|Person=1|Tense=Pres|VerbForm=Fin|Voice=Act\t4\tcop\t_\tSpaceAfter=No\n",
      "6\t.\t.\tPUNCT\t_\t_\t4\tpunct\t_\tSpaceAfter=No\n",
      "\n",
      "\n"
     ]
    }
   ],
   "source": [
    "parsed_text = get_conllu(our_model, 'Я была в школе целый день. И завтра тоже там буду.')\n",
    "print(parsed_text)"
   ]
  },
  {
   "cell_type": "code",
   "execution_count": 36,
   "metadata": {
    "colab": {
     "base_uri": "https://localhost:8080/"
    },
    "id": "Lhk3h_4ntRGV",
    "outputId": "f3879649-1267-4a3d-a748-e05d5898d832"
   },
   "outputs": [
    {
     "data": {
      "text/plain": [
       "[TokenTree<token={id=6, form=день}, children=[...]>,\n",
       " TokenTree<token={id=4, form=там}, children=[...]>]"
      ]
     },
     "execution_count": 36,
     "metadata": {},
     "output_type": "execute_result"
    }
   ],
   "source": [
    "conllu.parse_tree(parsed_text)"
   ]
  },
  {
   "cell_type": "markdown",
   "metadata": {
    "id": "GDbfqJnhtRGX"
   },
   "source": [
    "Получается, что это список из объектов, по одному для каждого предложения. Каждое предложение представляет собой дерево."
   ]
  },
  {
   "cell_type": "code",
   "execution_count": 37,
   "metadata": {
    "id": "yad-yx0DtRGb"
   },
   "outputs": [],
   "source": [
    "first_tree = conllu.parse_tree(parsed_text)[0]"
   ]
  },
  {
   "cell_type": "code",
   "execution_count": 38,
   "metadata": {
    "colab": {
     "base_uri": "https://localhost:8080/"
    },
    "id": "Ba825ZCEtRGf",
    "outputId": "31ca3a2c-a6aa-4b04-a263-6585f88acd85"
   },
   "outputs": [
    {
     "name": "stdout",
     "output_type": "stream",
     "text": [
      "(deprel:root) form:день lemma:день upos:NOUN [6]\n",
      "    (deprel:nsubj) form:Я lemma:я upos:PRON [1]\n",
      "    (deprel:cop) form:была lemma:быть upos:AUX [2]\n",
      "    (deprel:nmod) form:школе lemma:школя upos:NOUN [4]\n",
      "        (deprel:case) form:в lemma:в upos:ADP [3]\n",
      "    (deprel:amod) form:целый lemma:целый upos:ADJ [5]\n",
      "    (deprel:punct) form:. lemma:. upos:PUNCT [7]\n"
     ]
    }
   ],
   "source": [
    "first_tree.print_tree()  # вот это на винде не работает, запускайте в Google Colab"
   ]
  },
  {
   "cell_type": "markdown",
   "metadata": {
    "id": "tezpMBhQ__QI"
   },
   "source": [
    "Разобранные предложения хранятся в формате CONLL:\n",
    "- слово на каждой строчке,\n",
    "- тэги через табы,\n",
    "- предложения отделены двойными отступами.\n",
    "\n",
    "CONLL $-$ по названию конференции Conference on Computational Natural Language Learning, в рамках который проводились и проводятся соревнования по парсингу.\n"
   ]
  },
  {
   "cell_type": "markdown",
   "metadata": {
    "id": "c5vzcFMwiRQg"
   },
   "source": [
    "### Визуализация: `DependencyGraph`"
   ]
  },
  {
   "cell_type": "markdown",
   "metadata": {
    "id": "aw2LnakxiXGQ"
   },
   "source": [
    "DependencyGraph работает с форматом CONLL, поэтому напишем функцию, которая добавит в наш разбор табы и двойные отступы `get_dep_tree`."
   ]
  },
  {
   "cell_type": "code",
   "execution_count": 39,
   "metadata": {
    "id": "eBBXlgm-xnp4"
   },
   "outputs": [],
   "source": [
    "def get_dep_tree(text):\n",
    "    trees = []\n",
    "    for sent in text.split('\\n\\n'):\n",
    "        tree = [line for line in sent.split('\\n') if line and line[0] != '#']\n",
    "        trees.append('\\n'.join(tree))\n",
    "    return trees"
   ]
  },
  {
   "cell_type": "code",
   "execution_count": 40,
   "metadata": {
    "colab": {
     "base_uri": "https://localhost:8080/"
    },
    "id": "Uyn9t-Q0x71D",
    "outputId": "79e87dd4-f7d9-4935-9dbb-644c345df455"
   },
   "outputs": [
    {
     "data": {
      "text/plain": [
       "['1\\tЯ\\tя\\tPRON\\t_\\tCase=Nom|Number=Sing|Person=1\\t6\\tnsubj\\t_\\t_\\n2\\tбыла\\tбыть\\tAUX\\t_\\tAspect=Imp|Gender=Fem|Mood=Ind|Number=Sing|Tense=Past|VerbForm=Fin|Voice=Act\\t6\\tcop\\t_\\t_\\n3\\tв\\tв\\tADP\\t_\\t_\\t4\\tcase\\t_\\t_\\n4\\tшколе\\tшколя\\tNOUN\\t_\\tAnimacy=Inan|Case=Loc|Gender=Masc|Number=Sing\\t6\\tnmod\\t_\\t_\\n5\\tцелый\\tцелый\\tADJ\\t_\\tAnimacy=Inan|Case=Acc|Degree=Pos|Gender=Masc|Number=Sing\\t6\\tamod\\t_\\t_\\n6\\tдень\\tдень\\tNOUN\\t_\\tAnimacy=Inan|Case=Acc|Gender=Masc|Number=Sing\\t0\\troot\\t_\\tSpaceAfter=No\\n7\\t.\\t.\\tPUNCT\\t_\\t_\\t6\\tpunct\\t_\\t_',\n",
       " '1\\tИ\\tи\\tCCONJ\\t_\\t_\\t4\\tcc\\t_\\t_\\n2\\tзавтра\\tзавтра\\tADV\\t_\\tDegree=Pos\\t4\\tadvmod\\t_\\t_\\n3\\tтоже\\tтоже\\tPART\\t_\\t_\\t4\\tadvmod\\t_\\t_\\n4\\tтам\\tтам\\tADV\\t_\\tDegree=Pos\\t0\\troot\\t_\\t_\\n5\\tбуду\\tбыть\\tAUX\\t_\\tAspect=Imp|Mood=Ind|Number=Sing|Person=1|Tense=Pres|VerbForm=Fin|Voice=Act\\t4\\tcop\\t_\\tSpaceAfter=No\\n6\\t.\\t.\\tPUNCT\\t_\\t_\\t4\\tpunct\\t_\\tSpaceAfter=No',\n",
       " '']"
      ]
     },
     "execution_count": 40,
     "metadata": {},
     "output_type": "execute_result"
    }
   ],
   "source": [
    "conll_parsed_text = get_dep_tree(parsed_text)\n",
    "conll_parsed_text"
   ]
  },
  {
   "cell_type": "markdown",
   "metadata": {
    "id": "sMa3cs-lAwMJ"
   },
   "source": [
    "Нарисуем:\n"
   ]
  },
  {
   "cell_type": "code",
   "execution_count": 41,
   "metadata": {
    "colab": {
     "base_uri": "https://localhost:8080/",
     "height": 159
    },
    "id": "PqYYoesgyHrO",
    "outputId": "c5477318-fbc9-4924-9808-0f2a48aba6bf"
   },
   "outputs": [
    {
     "ename": "LookupError",
     "evalue": "\n\n===========================================================================\nNLTK was unable to find the dot file!\nUse software specific configuration parameters.\n===========================================================================",
     "output_type": "error",
     "traceback": [
      "\u001b[1;31m---------------------------------------------------------------------------\u001b[0m",
      "\u001b[1;31mLookupError\u001b[0m                               Traceback (most recent call last)",
      "File \u001b[1;32m~\\AppData\\Local\\Packages\\PythonSoftwareFoundation.Python.3.12_qbz5n2kfra8p0\\LocalCache\\local-packages\\Python312\\site-packages\\IPython\\core\\formatters.py:347\u001b[0m, in \u001b[0;36mBaseFormatter.__call__\u001b[1;34m(self, obj)\u001b[0m\n\u001b[0;32m    345\u001b[0m     method \u001b[38;5;241m=\u001b[39m get_real_method(obj, \u001b[38;5;28mself\u001b[39m\u001b[38;5;241m.\u001b[39mprint_method)\n\u001b[0;32m    346\u001b[0m     \u001b[38;5;28;01mif\u001b[39;00m method \u001b[38;5;129;01mis\u001b[39;00m \u001b[38;5;129;01mnot\u001b[39;00m \u001b[38;5;28;01mNone\u001b[39;00m:\n\u001b[1;32m--> 347\u001b[0m         \u001b[38;5;28;01mreturn\u001b[39;00m \u001b[43mmethod\u001b[49m\u001b[43m(\u001b[49m\u001b[43m)\u001b[49m\n\u001b[0;32m    348\u001b[0m     \u001b[38;5;28;01mreturn\u001b[39;00m \u001b[38;5;28;01mNone\u001b[39;00m\n\u001b[0;32m    349\u001b[0m \u001b[38;5;28;01melse\u001b[39;00m:\n",
      "File \u001b[1;32m~\\AppData\\Local\\Packages\\PythonSoftwareFoundation.Python.3.12_qbz5n2kfra8p0\\LocalCache\\local-packages\\Python312\\site-packages\\nltk\\parse\\dependencygraph.py:201\u001b[0m, in \u001b[0;36mDependencyGraph._repr_svg_\u001b[1;34m(self)\u001b[0m\n\u001b[0;32m    188\u001b[0m \u001b[38;5;250m\u001b[39m\u001b[38;5;124;03m\"\"\"Show SVG representation of the transducer (IPython magic).\u001b[39;00m\n\u001b[0;32m    189\u001b[0m \u001b[38;5;124;03m>>> from nltk.test.setup_fixt import check_binary\u001b[39;00m\n\u001b[0;32m    190\u001b[0m \u001b[38;5;124;03m>>> check_binary('dot')\u001b[39;00m\n\u001b[1;32m   (...)\u001b[0m\n\u001b[0;32m    198\u001b[0m \n\u001b[0;32m    199\u001b[0m \u001b[38;5;124;03m\"\"\"\u001b[39;00m\n\u001b[0;32m    200\u001b[0m dot_string \u001b[38;5;241m=\u001b[39m \u001b[38;5;28mself\u001b[39m\u001b[38;5;241m.\u001b[39mto_dot()\n\u001b[1;32m--> 201\u001b[0m \u001b[38;5;28;01mreturn\u001b[39;00m \u001b[43mdot2img\u001b[49m\u001b[43m(\u001b[49m\u001b[43mdot_string\u001b[49m\u001b[43m)\u001b[49m\n",
      "File \u001b[1;32m~\\AppData\\Local\\Packages\\PythonSoftwareFoundation.Python.3.12_qbz5n2kfra8p0\\LocalCache\\local-packages\\Python312\\site-packages\\nltk\\parse\\dependencygraph.py:563\u001b[0m, in \u001b[0;36mdot2img\u001b[1;34m(dot_string, t)\u001b[0m\n\u001b[0;32m    551\u001b[0m \u001b[38;5;250m\u001b[39m\u001b[38;5;124;03m\"\"\"\u001b[39;00m\n\u001b[0;32m    552\u001b[0m \u001b[38;5;124;03mCreate image representation fom dot_string, using the 'dot' program\u001b[39;00m\n\u001b[0;32m    553\u001b[0m \u001b[38;5;124;03mfrom the Graphviz package.\u001b[39;00m\n\u001b[1;32m   (...)\u001b[0m\n\u001b[0;32m    559\u001b[0m \u001b[38;5;124;03mwith text formats (like svg), but not with binary image formats (like png).\u001b[39;00m\n\u001b[0;32m    560\u001b[0m \u001b[38;5;124;03m\"\"\"\u001b[39;00m\n\u001b[0;32m    562\u001b[0m \u001b[38;5;28;01mtry\u001b[39;00m:\n\u001b[1;32m--> 563\u001b[0m     \u001b[43mfind_binary\u001b[49m\u001b[43m(\u001b[49m\u001b[38;5;124;43m\"\u001b[39;49m\u001b[38;5;124;43mdot\u001b[39;49m\u001b[38;5;124;43m\"\u001b[39;49m\u001b[43m)\u001b[49m\n\u001b[0;32m    564\u001b[0m     \u001b[38;5;28;01mtry\u001b[39;00m:\n\u001b[0;32m    565\u001b[0m         \u001b[38;5;28;01mif\u001b[39;00m t \u001b[38;5;129;01min\u001b[39;00m [\u001b[38;5;124m\"\u001b[39m\u001b[38;5;124mdot\u001b[39m\u001b[38;5;124m\"\u001b[39m, \u001b[38;5;124m\"\u001b[39m\u001b[38;5;124mdot_json\u001b[39m\u001b[38;5;124m\"\u001b[39m, \u001b[38;5;124m\"\u001b[39m\u001b[38;5;124mjson\u001b[39m\u001b[38;5;124m\"\u001b[39m, \u001b[38;5;124m\"\u001b[39m\u001b[38;5;124msvg\u001b[39m\u001b[38;5;124m\"\u001b[39m]:\n",
      "File \u001b[1;32m~\\AppData\\Local\\Packages\\PythonSoftwareFoundation.Python.3.12_qbz5n2kfra8p0\\LocalCache\\local-packages\\Python312\\site-packages\\nltk\\internals.py:677\u001b[0m, in \u001b[0;36mfind_binary\u001b[1;34m(name, path_to_bin, env_vars, searchpath, binary_names, url, verbose)\u001b[0m\n\u001b[0;32m    668\u001b[0m \u001b[38;5;28;01mdef\u001b[39;00m \u001b[38;5;21mfind_binary\u001b[39m(\n\u001b[0;32m    669\u001b[0m     name,\n\u001b[0;32m    670\u001b[0m     path_to_bin\u001b[38;5;241m=\u001b[39m\u001b[38;5;28;01mNone\u001b[39;00m,\n\u001b[1;32m   (...)\u001b[0m\n\u001b[0;32m    675\u001b[0m     verbose\u001b[38;5;241m=\u001b[39m\u001b[38;5;28;01mFalse\u001b[39;00m,\n\u001b[0;32m    676\u001b[0m ):\n\u001b[1;32m--> 677\u001b[0m     \u001b[38;5;28;01mreturn\u001b[39;00m \u001b[38;5;28;43mnext\u001b[39;49m\u001b[43m(\u001b[49m\n\u001b[0;32m    678\u001b[0m \u001b[43m        \u001b[49m\u001b[43mfind_binary_iter\u001b[49m\u001b[43m(\u001b[49m\n\u001b[0;32m    679\u001b[0m \u001b[43m            \u001b[49m\u001b[43mname\u001b[49m\u001b[43m,\u001b[49m\u001b[43m \u001b[49m\u001b[43mpath_to_bin\u001b[49m\u001b[43m,\u001b[49m\u001b[43m \u001b[49m\u001b[43menv_vars\u001b[49m\u001b[43m,\u001b[49m\u001b[43m \u001b[49m\u001b[43msearchpath\u001b[49m\u001b[43m,\u001b[49m\u001b[43m \u001b[49m\u001b[43mbinary_names\u001b[49m\u001b[43m,\u001b[49m\u001b[43m \u001b[49m\u001b[43murl\u001b[49m\u001b[43m,\u001b[49m\u001b[43m \u001b[49m\u001b[43mverbose\u001b[49m\n\u001b[0;32m    680\u001b[0m \u001b[43m        \u001b[49m\u001b[43m)\u001b[49m\n\u001b[0;32m    681\u001b[0m \u001b[43m    \u001b[49m\u001b[43m)\u001b[49m\n",
      "File \u001b[1;32m~\\AppData\\Local\\Packages\\PythonSoftwareFoundation.Python.3.12_qbz5n2kfra8p0\\LocalCache\\local-packages\\Python312\\site-packages\\nltk\\internals.py:663\u001b[0m, in \u001b[0;36mfind_binary_iter\u001b[1;34m(name, path_to_bin, env_vars, searchpath, binary_names, url, verbose)\u001b[0m\n\u001b[0;32m    643\u001b[0m \u001b[38;5;28;01mdef\u001b[39;00m \u001b[38;5;21mfind_binary_iter\u001b[39m(\n\u001b[0;32m    644\u001b[0m     name,\n\u001b[0;32m    645\u001b[0m     path_to_bin\u001b[38;5;241m=\u001b[39m\u001b[38;5;28;01mNone\u001b[39;00m,\n\u001b[1;32m   (...)\u001b[0m\n\u001b[0;32m    650\u001b[0m     verbose\u001b[38;5;241m=\u001b[39m\u001b[38;5;28;01mFalse\u001b[39;00m,\n\u001b[0;32m    651\u001b[0m ):\n\u001b[0;32m    652\u001b[0m \u001b[38;5;250m    \u001b[39m\u001b[38;5;124;03m\"\"\"\u001b[39;00m\n\u001b[0;32m    653\u001b[0m \u001b[38;5;124;03m    Search for a file to be used by nltk.\u001b[39;00m\n\u001b[0;32m    654\u001b[0m \n\u001b[1;32m   (...)\u001b[0m\n\u001b[0;32m    661\u001b[0m \u001b[38;5;124;03m    :param verbose: Whether or not to print path when a file is found.\u001b[39;00m\n\u001b[0;32m    662\u001b[0m \u001b[38;5;124;03m    \"\"\"\u001b[39;00m\n\u001b[1;32m--> 663\u001b[0m     \u001b[38;5;28;01myield from\u001b[39;00m find_file_iter(\n\u001b[0;32m    664\u001b[0m         path_to_bin \u001b[38;5;129;01mor\u001b[39;00m name, env_vars, searchpath, binary_names, url, verbose\n\u001b[0;32m    665\u001b[0m     )\n",
      "File \u001b[1;32m~\\AppData\\Local\\Packages\\PythonSoftwareFoundation.Python.3.12_qbz5n2kfra8p0\\LocalCache\\local-packages\\Python312\\site-packages\\nltk\\internals.py:622\u001b[0m, in \u001b[0;36mfind_file_iter\u001b[1;34m(filename, env_vars, searchpath, file_names, url, verbose, finding_dir)\u001b[0m\n\u001b[0;32m    620\u001b[0m     msg \u001b[38;5;241m+\u001b[39m\u001b[38;5;241m=\u001b[39m \u001b[38;5;124mf\u001b[39m\u001b[38;5;124m\"\u001b[39m\u001b[38;5;130;01m\\n\u001b[39;00m\u001b[38;5;130;01m\\n\u001b[39;00m\u001b[38;5;124m  For more information on \u001b[39m\u001b[38;5;132;01m{\u001b[39;00mfilename\u001b[38;5;132;01m}\u001b[39;00m\u001b[38;5;124m, see:\u001b[39m\u001b[38;5;130;01m\\n\u001b[39;00m\u001b[38;5;124m    <\u001b[39m\u001b[38;5;132;01m{\u001b[39;00murl\u001b[38;5;132;01m}\u001b[39;00m\u001b[38;5;124m>\u001b[39m\u001b[38;5;124m\"\u001b[39m\n\u001b[0;32m    621\u001b[0m div \u001b[38;5;241m=\u001b[39m \u001b[38;5;124m\"\u001b[39m\u001b[38;5;124m=\u001b[39m\u001b[38;5;124m\"\u001b[39m \u001b[38;5;241m*\u001b[39m \u001b[38;5;241m75\u001b[39m\n\u001b[1;32m--> 622\u001b[0m \u001b[38;5;28;01mraise\u001b[39;00m \u001b[38;5;167;01mLookupError\u001b[39;00m(\u001b[38;5;124mf\u001b[39m\u001b[38;5;124m\"\u001b[39m\u001b[38;5;130;01m\\n\u001b[39;00m\u001b[38;5;130;01m\\n\u001b[39;00m\u001b[38;5;132;01m{\u001b[39;00mdiv\u001b[38;5;132;01m}\u001b[39;00m\u001b[38;5;130;01m\\n\u001b[39;00m\u001b[38;5;132;01m{\u001b[39;00mmsg\u001b[38;5;132;01m}\u001b[39;00m\u001b[38;5;130;01m\\n\u001b[39;00m\u001b[38;5;132;01m{\u001b[39;00mdiv\u001b[38;5;132;01m}\u001b[39;00m\u001b[38;5;124m\"\u001b[39m)\n",
      "\u001b[1;31mLookupError\u001b[0m: \n\n===========================================================================\nNLTK was unable to find the dot file!\nUse software specific configuration parameters.\n==========================================================================="
     ]
    },
    {
     "data": {
      "text/plain": [
       "<DependencyGraph with 8 nodes>"
      ]
     },
     "execution_count": 41,
     "metadata": {},
     "output_type": "execute_result"
    }
   ],
   "source": [
    "graph_first_tree = DependencyGraph(conll_parsed_text[0])\n",
    "graph_first_tree"
   ]
  },
  {
   "cell_type": "markdown",
   "metadata": {
    "id": "mgv99q7hilt3"
   },
   "source": [
    "Какая-то фигня получилась. Но это и выше было видно.\n"
   ]
  },
  {
   "cell_type": "markdown",
   "metadata": {
    "id": "y4_sfHdVF3YY"
   },
   "source": [
    "#### Узлы графа: `triples`."
   ]
  },
  {
   "cell_type": "code",
   "execution_count": 42,
   "metadata": {
    "colab": {
     "base_uri": "https://localhost:8080/",
     "height": 193
    },
    "id": "0ek7oXMuGIth",
    "outputId": "c9f2e6b8-c569-48ed-8fce-90dbe6b2a936"
   },
   "outputs": [
    {
     "data": {
      "text/plain": [
       "{'address': 2,\n",
       " 'word': 'была',\n",
       " 'lemma': 'быть',\n",
       " 'ctag': 'AUX',\n",
       " 'tag': '_',\n",
       " 'feats': 'Aspect=Imp|Gender=Fem|Mood=Ind|Number=Sing|Tense=Past|VerbForm=Fin|Voice=Act',\n",
       " 'head': 6,\n",
       " 'deps': defaultdict(list, {}),\n",
       " 'rel': 'cop'}"
      ]
     },
     "execution_count": 42,
     "metadata": {},
     "output_type": "execute_result"
    }
   ],
   "source": [
    "graph_first_tree.root = graph_first_tree.nodes[0]  # чтобы метод сработал нужно установить корневой элемент\n",
    "# при этом, если в разборе ошибка и вы счтаете, что root - это graph_first_tree.nodes[2],\n",
    "# использовать этот корень в .triples не получится, будет ошибка\n",
    "graph_first_tree.nodes[2]"
   ]
  },
  {
   "cell_type": "code",
   "execution_count": 43,
   "metadata": {
    "colab": {
     "base_uri": "https://localhost:8080/",
     "height": 141
    },
    "id": "wzAv8A72F8dx",
    "outputId": "cf674766-86bd-43c8-d49f-cd83715eaffa"
   },
   "outputs": [
    {
     "data": {
      "text/plain": [
       "[((None, 'TOP'), 'root', ('день', 'NOUN')),\n",
       " (('день', 'NOUN'), 'nsubj', ('Я', 'PRON')),\n",
       " (('день', 'NOUN'), 'cop', ('была', 'AUX')),\n",
       " (('день', 'NOUN'), 'nmod', ('школе', 'NOUN')),\n",
       " (('школе', 'NOUN'), 'case', ('в', 'ADP')),\n",
       " (('день', 'NOUN'), 'amod', ('целый', 'ADJ')),\n",
       " (('день', 'NOUN'), 'punct', ('.', 'PUNCT'))]"
      ]
     },
     "execution_count": 43,
     "metadata": {},
     "output_type": "execute_result"
    }
   ],
   "source": [
    "list(graph_first_tree.triples())"
   ]
  },
  {
   "cell_type": "markdown",
   "metadata": {
    "id": "msrAWOiZi6Yb"
   },
   "source": [
    "### Задачи"
   ]
  },
  {
   "cell_type": "markdown",
   "metadata": {
    "id": "CUQVwacANdTS"
   },
   "source": [
    "1. **Достать из корпуса все возможные модификаторы какого-нибудь слова**\n",
    "\n",
    "Сами парсить не будет, а возьмем уже готовые разборы из Тайги. Возьмем маленький кусочек (Arzamas). Cкачать его можно тут: https://linghub.ru/static/Taiga/Arzamas.zip\n",
    "\n",
    "В нем есть папка с обработанными текстами. Соберем их в один список. Нашим конечным заданием будет достать все модификаторы для какого-нибудь конкретного слова в этом корпусе."
   ]
  },
  {
   "cell_type": "code",
   "execution_count": 44,
   "metadata": {
    "id": "HHVWFenhIk8Y"
   },
   "outputs": [
    {
     "name": "stderr",
     "output_type": "stream",
     "text": [
      "'wget' is not recognized as an internal or external command,\n",
      "operable program or batch file.\n",
      "'unzip' is not recognized as an internal or external command,\n",
      "operable program or batch file.\n"
     ]
    }
   ],
   "source": [
    "!wget -q https://linghub.ru/static/Taiga/Arzamas.zip\n",
    "!unzip -q Arzamas.zip"
   ]
  },
  {
   "cell_type": "code",
   "execution_count": 45,
   "metadata": {
    "id": "ejfly8a7JpOn"
   },
   "outputs": [],
   "source": [
    "path = 'Arzamas/texts_tagged/'\n",
    "files = [path + file for file in os.listdir(path)]"
   ]
  },
  {
   "cell_type": "markdown",
   "metadata": {
    "id": "buUiJEkOKTj0"
   },
   "source": [
    "Посмотрим, что вообще лежит в этих файлах:"
   ]
  },
  {
   "cell_type": "code",
   "execution_count": 46,
   "metadata": {
    "id": "IVse55oQKNjx"
   },
   "outputs": [],
   "source": [
    "with open(files[2]) as file:\n",
    "    text_file = file.read()"
   ]
  },
  {
   "cell_type": "markdown",
   "metadata": {
    "id": "mwhSJ53aKdNj"
   },
   "source": [
    "Тут снова формат CONLL очевидно. Давайте еще раз на него внимательно посмотрим. У нас есть тут какая-то метаинформация через #, теги через таб, деревья для отдельных предложений."
   ]
  },
  {
   "cell_type": "code",
   "execution_count": 47,
   "metadata": {
    "colab": {
     "base_uri": "https://localhost:8080/"
    },
    "id": "SoULZ-SoKYJP",
    "outputId": "196bb16e-c675-459d-95bd-c55cc08c252f"
   },
   "outputs": [
    {
     "data": {
      "text/plain": [
       "['# text = # newpar', '# sent_id = 13']"
      ]
     },
     "execution_count": 47,
     "metadata": {},
     "output_type": "execute_result"
    }
   ],
   "source": [
    "tree = [x for x in text_file.split('\\n\\n')[0].split('\\n')]\n",
    "tree[:10]"
   ]
  },
  {
   "cell_type": "markdown",
   "metadata": {
    "id": "bw3Tw80GLiiG"
   },
   "source": [
    "Соберем все деревья (то есть все предложения) из всех файлов в один список. Так мы сможем работать с этими данными как с корпусом текстов."
   ]
  },
  {
   "cell_type": "code",
   "execution_count": 48,
   "metadata": {
    "id": "mGwgHKTSLuIk"
   },
   "outputs": [
    {
     "ename": "UnicodeDecodeError",
     "evalue": "'charmap' codec can't decode byte 0x9d in position 159: character maps to <undefined>",
     "output_type": "error",
     "traceback": [
      "\u001b[1;31m---------------------------------------------------------------------------\u001b[0m",
      "\u001b[1;31mUnicodeDecodeError\u001b[0m                        Traceback (most recent call last)",
      "Cell \u001b[1;32mIn[48], line 5\u001b[0m\n\u001b[0;32m      3\u001b[0m \u001b[38;5;28;01mfor\u001b[39;00m file \u001b[38;5;129;01min\u001b[39;00m files:\n\u001b[0;32m      4\u001b[0m     \u001b[38;5;28;01mwith\u001b[39;00m \u001b[38;5;28mopen\u001b[39m(file) \u001b[38;5;28;01mas\u001b[39;00m text_f:\n\u001b[1;32m----> 5\u001b[0m         parsed_sents \u001b[38;5;241m=\u001b[39m \u001b[43mtext_f\u001b[49m\u001b[38;5;241;43m.\u001b[39;49m\u001b[43mread\u001b[49m\u001b[43m(\u001b[49m\u001b[43m)\u001b[49m\u001b[38;5;241m.\u001b[39msplit(\u001b[38;5;124m'\u001b[39m\u001b[38;5;130;01m\\n\u001b[39;00m\u001b[38;5;130;01m\\n\u001b[39;00m\u001b[38;5;124m'\u001b[39m)\n\u001b[0;32m      7\u001b[0m     \u001b[38;5;28;01mfor\u001b[39;00m sent \u001b[38;5;129;01min\u001b[39;00m parsed_sents:\n\u001b[0;32m      8\u001b[0m         \u001b[38;5;66;03m# уберем мета информацию\u001b[39;00m\n\u001b[0;32m      9\u001b[0m         tree \u001b[38;5;241m=\u001b[39m [line \u001b[38;5;28;01mfor\u001b[39;00m line \u001b[38;5;129;01min\u001b[39;00m sent\u001b[38;5;241m.\u001b[39msplit(\u001b[38;5;124m'\u001b[39m\u001b[38;5;130;01m\\n\u001b[39;00m\u001b[38;5;124m'\u001b[39m) \u001b[38;5;28;01mif\u001b[39;00m line[\u001b[38;5;241m0\u001b[39m] \u001b[38;5;241m!=\u001b[39m \u001b[38;5;124m'\u001b[39m\u001b[38;5;124m#\u001b[39m\u001b[38;5;124m'\u001b[39m]\n",
      "File \u001b[1;32mC:\\Program Files\\WindowsApps\\PythonSoftwareFoundation.Python.3.12_3.12.2032.0_x64__qbz5n2kfra8p0\\Lib\\encodings\\cp1252.py:23\u001b[0m, in \u001b[0;36mIncrementalDecoder.decode\u001b[1;34m(self, input, final)\u001b[0m\n\u001b[0;32m     22\u001b[0m \u001b[38;5;28;01mdef\u001b[39;00m \u001b[38;5;21mdecode\u001b[39m(\u001b[38;5;28mself\u001b[39m, \u001b[38;5;28minput\u001b[39m, final\u001b[38;5;241m=\u001b[39m\u001b[38;5;28;01mFalse\u001b[39;00m):\n\u001b[1;32m---> 23\u001b[0m     \u001b[38;5;28;01mreturn\u001b[39;00m \u001b[43mcodecs\u001b[49m\u001b[38;5;241;43m.\u001b[39;49m\u001b[43mcharmap_decode\u001b[49m\u001b[43m(\u001b[49m\u001b[38;5;28;43minput\u001b[39;49m\u001b[43m,\u001b[49m\u001b[38;5;28;43mself\u001b[39;49m\u001b[38;5;241;43m.\u001b[39;49m\u001b[43merrors\u001b[49m\u001b[43m,\u001b[49m\u001b[43mdecoding_table\u001b[49m\u001b[43m)\u001b[49m[\u001b[38;5;241m0\u001b[39m]\n",
      "\u001b[1;31mUnicodeDecodeError\u001b[0m: 'charmap' codec can't decode byte 0x9d in position 159: character maps to <undefined>"
     ]
    }
   ],
   "source": [
    "trees = []\n",
    "\n",
    "for file in files:\n",
    "    with open(file) as text_f:\n",
    "        parsed_sents = text_f.read().split('\\n\\n')\n",
    "\n",
    "    for sent in parsed_sents:\n",
    "        # уберем мета информацию\n",
    "        tree = [line for line in sent.split('\\n') if line[0] != '#']\n",
    "        trees.append('\\n'.join(tree))"
   ]
  },
  {
   "cell_type": "code",
   "execution_count": null,
   "metadata": {
    "colab": {
     "base_uri": "https://localhost:8080/",
     "height": 211
    },
    "id": "yFq3yGMXNnRq",
    "outputId": "dc2c70a4-ff0e-4701-cd19-6f6e916d0bfe"
   },
   "outputs": [
    {
     "ename": "NameError",
     "evalue": "name 'DependencyGraph' is not defined",
     "output_type": "error",
     "traceback": [
      "\u001b[0;31m---------------------------------------------------------------------------\u001b[0m",
      "\u001b[0;31mNameError\u001b[0m                                 Traceback (most recent call last)",
      "\u001b[0;32m<ipython-input-58-4db44f85b0e3>\u001b[0m in \u001b[0;36m<cell line: 2>\u001b[0;34m()\u001b[0m\n\u001b[1;32m      1\u001b[0m \u001b[0mmodifiers\u001b[0m \u001b[0;34m=\u001b[0m \u001b[0mCounter\u001b[0m\u001b[0;34m(\u001b[0m\u001b[0;34m)\u001b[0m\u001b[0;34m\u001b[0m\u001b[0;34m\u001b[0m\u001b[0m\n\u001b[1;32m      2\u001b[0m \u001b[0;32mfor\u001b[0m \u001b[0mtree\u001b[0m \u001b[0;32min\u001b[0m \u001b[0mtrees\u001b[0m\u001b[0;34m:\u001b[0m\u001b[0;34m\u001b[0m\u001b[0;34m\u001b[0m\u001b[0m\n\u001b[0;32m----> 3\u001b[0;31m     \u001b[0md\u001b[0m \u001b[0;34m=\u001b[0m \u001b[0mDependencyGraph\u001b[0m\u001b[0;34m(\u001b[0m\u001b[0mtree\u001b[0m\u001b[0;34m)\u001b[0m\u001b[0;34m\u001b[0m\u001b[0;34m\u001b[0m\u001b[0m\n\u001b[0m\u001b[1;32m      4\u001b[0m     \u001b[0md\u001b[0m\u001b[0;34m.\u001b[0m\u001b[0mroot\u001b[0m \u001b[0;34m=\u001b[0m \u001b[0md\u001b[0m\u001b[0;34m.\u001b[0m\u001b[0mnodes\u001b[0m\u001b[0;34m[\u001b[0m\u001b[0;36m0\u001b[0m\u001b[0;34m]\u001b[0m\u001b[0;34m\u001b[0m\u001b[0;34m\u001b[0m\u001b[0m\n\u001b[1;32m      5\u001b[0m     \u001b[0mtriples\u001b[0m \u001b[0;34m=\u001b[0m \u001b[0mlist\u001b[0m\u001b[0;34m(\u001b[0m\u001b[0md\u001b[0m\u001b[0;34m.\u001b[0m\u001b[0mtriples\u001b[0m\u001b[0;34m(\u001b[0m\u001b[0;34m)\u001b[0m\u001b[0;34m)\u001b[0m\u001b[0;34m\u001b[0m\u001b[0;34m\u001b[0m\u001b[0m\n",
      "\u001b[0;31mNameError\u001b[0m: name 'DependencyGraph' is not defined"
     ]
    }
   ],
   "source": [
    "modifiers = Counter()\n",
    "for tree in trees:\n",
    "    d = DependencyGraph(tree)\n",
    "    d.root = d.nodes[0]\n",
    "    triples = list(d.triples())\n",
    "\n",
    "    for e1, rel, e2 in triples:\n",
    "        if e1[0] == 'писатели' and rel == 'amod':\n",
    "            modifiers[e2[0]] += 1"
   ]
  },
  {
   "cell_type": "code",
   "execution_count": null,
   "metadata": {
    "id": "VIQpBjQsNo-w"
   },
   "outputs": [],
   "source": [
    "modifiers"
   ]
  },
  {
   "cell_type": "markdown",
   "metadata": {
    "id": "OGJEAToTIvK9"
   },
   "source": [
    "2. **Анализ текстов с помощью зависимостей**\n",
    "\n",
    "Запомним, что теперь у нас есть способ доставать все узлы, и попробуем проанализировать тексты с помощью зависимостей."
   ]
  },
  {
   "cell_type": "markdown",
   "metadata": {
    "id": "mV2_VPUjL8Or"
   },
   "source": [
    "Рандомное дерево из получившившегося списка:"
   ]
  },
  {
   "cell_type": "code",
   "execution_count": null,
   "metadata": {
    "id": "TjX0PflPLwA0"
   },
   "outputs": [],
   "source": [
    "trees[80]"
   ]
  },
  {
   "cell_type": "markdown",
   "metadata": {
    "id": "6mF6ooOVMLcg"
   },
   "source": [
    "Пора нарисовать красивый граф для какого-нибудь предложения из этого корпуса.\n",
    "\n",
    "Поскольку это данные, на которых можно обучать модели, они хорошо размечены и тут уже в корне дерева у нас нормальный предикат и разбор получается хороший."
   ]
  },
  {
   "cell_type": "code",
   "execution_count": null,
   "metadata": {
    "id": "wo8f-UMuMD7V"
   },
   "outputs": [],
   "source": [
    "graph_tree_80 = DependencyGraph(trees[80])\n",
    "graph_tree_80"
   ]
  },
  {
   "cell_type": "markdown",
   "metadata": {
    "id": "Dwi3WDbdNUpn"
   },
   "source": [
    "Вспомним наш прекрасный метод доставания узлов:"
   ]
  },
  {
   "cell_type": "code",
   "execution_count": null,
   "metadata": {
    "id": "2oqR8cHtNTUA"
   },
   "outputs": [],
   "source": [
    "graph_tree_80.root = graph_tree_80.nodes[0]  # чтобы метод сработал нужно установить корневой элемент\n",
    "list(graph_tree_80.triples())"
   ]
  },
  {
   "cell_type": "markdown",
   "metadata": {
    "id": "Qm0TgTG0Or6u"
   },
   "source": [
    "Какие вообще отношения в Universal Dependencies маркируются для русского языка?\n",
    "\n",
    "https://universaldependencies.org/ru/index.html"
   ]
  },
  {
   "cell_type": "markdown",
   "metadata": {
    "id": "Xwfty4Fjle0w"
   },
   "source": [
    "**Какие еще вопросы можно решать с помощью UDPipe?**\n",
    "\n",
    "+ Достать какую-нибудь составляющую. Например, достать из всех предложений вашего корпуса именные группы.\n",
    "+ Достать самые короткие пути (пути по графу зависимостей), соединяющие между собой какие-нибудь фразы.\n",
    "+ Искать предложения или конструкции, похожие между собой по структуре.\n",
    "+ и т.д."
   ]
  },
  {
   "cell_type": "markdown",
   "metadata": {
    "id": "BrHK63aEPxOS"
   },
   "source": [
    "### **Задание 1 (UDPipe)**"
   ]
  },
  {
   "cell_type": "markdown",
   "metadata": {
    "id": "bXjqhoADP0Tk"
   },
   "source": [
    "1. Узнайте все про модификаторы слов **во всех формах**:\n",
    "    - *рисунок*: найдите все его зависимые прилагательные,\n",
    "    - *назвать*: найдите все его прямые дополнения и подлежащия,\n",
    "    - *любить*: найдите все его зависимые наречия.\n",
    "\n",
    "2. Достаньте из Arzamas все именные группы для слов с тегом `nsubj` (т.е. все именные группы в именительном падеже) и запишите их в файл, где каждая ИГ на новой строчке."
   ]
  },
  {
   "cell_type": "markdown",
   "metadata": {
    "id": "fxnkd2julIcN"
   },
   "source": [
    "### **Задание 2 (Spacy)**\n",
    "\n",
    "У вас есть первые две главы [английской](https://raw.githubusercontent.com/KatiaKozlova/files/refs/heads/main/57-10/syntax/hp1_en.txt) и [русской](https://raw.githubusercontent.com/KatiaKozlova/files/refs/heads/main/57-10/syntax/hp1_ru.txt) версии *Гарри Поттера и философского камня*.\n",
    "\n",
    "1. Выделите все именнованные сущности в обеих версиях и сохраните их в два датафрейма со столбцами сущностями, типами сущностей и их кол-вом в тексте.\n",
    "2. Сравните, насколько совпадают самые частотные сущности с тегами `LOC`, `ORG` и `PER(SON)` в англоязычной и русскоязычной версиях. Визуализируйте ваши наблюдения.\n",
    "3. Для каждого человека (`PER(SON)`) найдите все его вершины-глаголы и сделайте частотный список их начальных форм как для английской версии, так и для русской. Также сравните и визуализируйте самые частотные результаты."
   ]
  },
  {
   "cell_type": "markdown",
   "metadata": {
    "id": "MlF3DdR5QDRl"
   },
   "source": [
    "### **Задание 3 (Spacy)\\***"
   ]
  },
  {
   "cell_type": "markdown",
   "metadata": {
    "id": "5Yp6OaI_KLjj"
   },
   "source": [
    "1. Дадим SpaCy на разбор предложение с синтаксической неоднозначностью. Какой анализ предлагает SpaCy?\n",
    "    + *John saw the man on the mountain with a telescope.*\n",
    "    + *I'm glad I'm a woman, and so is Lola.*\n",
    "\n",
    "2. Дадим примеры на острова (приведены ниже с традиционной оценкой их приемлемости). Какой анализ предлагает SpaCy?\n",
    "    - *What<sub>i</sub> does Sarah believe that Susan thinks that John bought \\_<sub>i</sub>?*\n",
    "    + Сложные ИГ\n",
    "      - _<sup>\\*</sup>Who<sub>i</sub> did Mary see the report that was about _<sub>i</sub>?_<br>(cf. *Mary saw the report that was about the senator.*)\n",
    "      - _<sup>?*</sup>Which sportscar<sub>i</sub> did the color of _<sub>i</sub> delight the baseball player?_<br>(cf. *The color of the sportscar delighted the baseball player.*)\n",
    "\n",
    "    + Комплементы глаголов говорения\n",
    "       - _<sup>??</sup>What<sub>i</sub> did Mary whisper that Bill liked _<sub>i</sub>?_<br>(cf. *Mary whispered that Bill liked wine.*)\n",
    "\n",
    "    + Остров подлежащего\n",
    "        - _<sup>?*</sup>The sportscar which<sub>i</sub> the color of _<sub>i</sub> delighted the baseball player…_\n",
    "\n",
    "3. Справляется ли SpaCy с эллипсисом:\n",
    "    + *John can [play the guitar]<sub>i</sub>, and Mary can _<sub>i</sub>, too.*\n",
    "\n"
   ]
  },
  {
   "cell_type": "code",
   "execution_count": null,
   "metadata": {
    "id": "vtGb0BNusZHk"
   },
   "outputs": [],
   "source": []
  }
 ],
 "metadata": {
  "colab": {
   "provenance": []
  },
  "kernelspec": {
   "display_name": "Python 3",
   "language": "python",
   "name": "python3"
  },
  "language_info": {
   "codemirror_mode": {
    "name": "ipython",
    "version": 3
   },
   "file_extension": ".py",
   "mimetype": "text/x-python",
   "name": "python",
   "nbconvert_exporter": "python",
   "pygments_lexer": "ipython3",
   "version": "3.12.7"
  }
 },
 "nbformat": 4,
 "nbformat_minor": 0
}
