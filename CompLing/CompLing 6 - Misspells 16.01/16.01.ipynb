{
 "cells": [
  {
   "cell_type": "code",
   "execution_count": 52,
   "metadata": {},
   "outputs": [],
   "source": [
    "def generate_miss(correct):\n",
    "    miss = {}\n",
    "    for i in range(len(correct)):\n",
    "        # print(correct[:i:] + correct[i+1::])\n",
    "        miss[correct[:i:] + correct[i+1::]] = correct\n",
    "    return miss"
   ]
  },
  {
   "cell_type": "code",
   "execution_count": 53,
   "metadata": {},
   "outputs": [
    {
     "name": "stdout",
     "output_type": "stream",
     "text": [
      "{'втобус': 'автобус', 'атобус': 'автобус', 'авобус': 'автобус', 'автбус': 'автобус', 'автоус': 'автобус', 'автобс': 'автобус', 'автобу': 'автобус'}\n"
     ]
    }
   ],
   "source": [
    "print(generate_miss(\"автобус\"))"
   ]
  },
  {
   "cell_type": "code",
   "execution_count": 54,
   "metadata": {},
   "outputs": [],
   "source": [
    "def get_correct(wrong, misses):\n",
    "    for i in range(len(wrong)):\n",
    "        #print(wrong[:i:] + wrong[i+1::])\n",
    "        if wrong[:i:] + wrong[i+1::] in misses.keys():\n",
    "            return misses[wrong[:i:] + wrong[i+1::]]\n",
    "    return None\n"
   ]
  },
  {
   "cell_type": "code",
   "execution_count": 55,
   "metadata": {},
   "outputs": [],
   "source": [
    "def corrector(corrects: list, misspell):\n",
    "    misses = {}\n",
    "    for w in corrects:\n",
    "        misses.update(generate_miss(w))\n",
    "    #print(misses)\n",
    "    return get_correct(misspell, misses)"
   ]
  },
  {
   "cell_type": "code",
   "execution_count": 56,
   "metadata": {},
   "outputs": [
    {
     "data": {
      "text/plain": [
       "'автобус'"
      ]
     },
     "execution_count": 56,
     "metadata": {},
     "output_type": "execute_result"
    }
   ],
   "source": [
    "corrector([\"автобус\", \"трамвай\", \"троллейбус\"], \"автомус\")"
   ]
  },
  {
   "cell_type": "code",
   "execution_count": 57,
   "metadata": {},
   "outputs": [],
   "source": [
    "corrector([\"автобс\", \"трамвай\", \"троллейбус\"], \"автомус\")"
   ]
  }
 ],
 "metadata": {
  "language_info": {
   "name": "python"
  }
 },
 "nbformat": 4,
 "nbformat_minor": 2
}
